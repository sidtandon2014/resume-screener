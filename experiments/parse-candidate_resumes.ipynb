{
 "cells": [
  {
   "cell_type": "code",
   "execution_count": 4,
   "id": "75bc5e3d-09fd-4949-8f57-28a1ee6f32ee",
   "metadata": {},
   "outputs": [],
   "source": [
    "import pandas as pd\n",
    "import re\n",
    "import numpy as np\n",
    "import ast"
   ]
  },
  {
   "cell_type": "code",
   "execution_count": 5,
   "id": "2dfa5467-ca8c-4e4a-aef9-21b562c748d2",
   "metadata": {},
   "outputs": [
    {
     "data": {
      "text/html": [
       "<div>\n",
       "<style scoped>\n",
       "    .dataframe tbody tr th:only-of-type {\n",
       "        vertical-align: middle;\n",
       "    }\n",
       "\n",
       "    .dataframe tbody tr th {\n",
       "        vertical-align: top;\n",
       "    }\n",
       "\n",
       "    .dataframe thead th {\n",
       "        text-align: right;\n",
       "    }\n",
       "</style>\n",
       "<table border=\"1\" class=\"dataframe\">\n",
       "  <thead>\n",
       "    <tr style=\"text-align: right;\">\n",
       "      <th></th>\n",
       "      <th>address</th>\n",
       "      <th>career_objective</th>\n",
       "      <th>skills</th>\n",
       "      <th>educational_institution_name</th>\n",
       "      <th>degree_names</th>\n",
       "      <th>passing_years</th>\n",
       "      <th>educational_results</th>\n",
       "      <th>result_types</th>\n",
       "      <th>major_field_of_studies</th>\n",
       "      <th>professional_company_names</th>\n",
       "      <th>...</th>\n",
       "      <th>online_links</th>\n",
       "      <th>issue_dates</th>\n",
       "      <th>expiry_dates</th>\n",
       "      <th>﻿job_position_name</th>\n",
       "      <th>educationaL_requirements</th>\n",
       "      <th>experiencere_requirement</th>\n",
       "      <th>age_requirement</th>\n",
       "      <th>responsibilities.1</th>\n",
       "      <th>skills_required</th>\n",
       "      <th>matched_score</th>\n",
       "    </tr>\n",
       "  </thead>\n",
       "  <tbody>\n",
       "    <tr>\n",
       "      <th>0</th>\n",
       "      <td>NaN</td>\n",
       "      <td>Big data analytics working and database wareho...</td>\n",
       "      <td>['Big Data', 'Hadoop', 'Hive', 'Python', 'Mapr...</td>\n",
       "      <td>['The Amity School of Engineering &amp; Technology...</td>\n",
       "      <td>['B.Tech']</td>\n",
       "      <td>['2019']</td>\n",
       "      <td>['N/A']</td>\n",
       "      <td>[None]</td>\n",
       "      <td>['Electronics']</td>\n",
       "      <td>['Coca-COla']</td>\n",
       "      <td>...</td>\n",
       "      <td>NaN</td>\n",
       "      <td>NaN</td>\n",
       "      <td>NaN</td>\n",
       "      <td>Senior Software Engineer</td>\n",
       "      <td>B.Sc in Computer Science &amp; Engineering from a ...</td>\n",
       "      <td>At least 1 year</td>\n",
       "      <td>NaN</td>\n",
       "      <td>Technical Support\\nTroubleshooting\\nCollaborat...</td>\n",
       "      <td>NaN</td>\n",
       "      <td>0.850000</td>\n",
       "    </tr>\n",
       "    <tr>\n",
       "      <th>1</th>\n",
       "      <td>NaN</td>\n",
       "      <td>Fresher looking to join as a data analyst and ...</td>\n",
       "      <td>['Data Analysis', 'Data Analytics', 'Business ...</td>\n",
       "      <td>['Delhi University - Hansraj College', 'Delhi ...</td>\n",
       "      <td>['B.Sc (Maths)', 'M.Sc (Science) (Statistics)']</td>\n",
       "      <td>['2015', '2018']</td>\n",
       "      <td>['N/A', 'N/A']</td>\n",
       "      <td>['N/A', 'N/A']</td>\n",
       "      <td>['Mathematics', 'Statistics']</td>\n",
       "      <td>['BIB Consultancy']</td>\n",
       "      <td>...</td>\n",
       "      <td>NaN</td>\n",
       "      <td>NaN</td>\n",
       "      <td>NaN</td>\n",
       "      <td>Machine Learning (ML) Engineer</td>\n",
       "      <td>M.Sc in Computer Science &amp; Engineering or in a...</td>\n",
       "      <td>At least 5 year(s)</td>\n",
       "      <td>NaN</td>\n",
       "      <td>Machine Learning Leadership\\nCross-Functional ...</td>\n",
       "      <td>NaN</td>\n",
       "      <td>0.750000</td>\n",
       "    </tr>\n",
       "    <tr>\n",
       "      <th>2</th>\n",
       "      <td>NaN</td>\n",
       "      <td>NaN</td>\n",
       "      <td>['Software Development', 'Machine Learning', '...</td>\n",
       "      <td>['Birla Institute of Technology (BIT), Ranchi']</td>\n",
       "      <td>['B.Tech']</td>\n",
       "      <td>['2018']</td>\n",
       "      <td>['N/A']</td>\n",
       "      <td>['N/A']</td>\n",
       "      <td>['Electronics/Telecommunication']</td>\n",
       "      <td>['Axis Bank Limited']</td>\n",
       "      <td>...</td>\n",
       "      <td>NaN</td>\n",
       "      <td>NaN</td>\n",
       "      <td>NaN</td>\n",
       "      <td>Executive/ Senior Executive- Trade Marketing, ...</td>\n",
       "      <td>Master of Business Administration (MBA)</td>\n",
       "      <td>At least 3 years</td>\n",
       "      <td>NaN</td>\n",
       "      <td>Trade Marketing Executive\\nBrand Visibility, S...</td>\n",
       "      <td>Brand Promotion\\nCampaign Management\\nField Su...</td>\n",
       "      <td>0.416667</td>\n",
       "    </tr>\n",
       "    <tr>\n",
       "      <th>3</th>\n",
       "      <td>NaN</td>\n",
       "      <td>To obtain a position in a fast-paced business ...</td>\n",
       "      <td>['accounts payables', 'accounts receivables', ...</td>\n",
       "      <td>['Martinez Adult Education, Business Training ...</td>\n",
       "      <td>['Computer Applications Specialist Certificate...</td>\n",
       "      <td>['2008']</td>\n",
       "      <td>[None]</td>\n",
       "      <td>[None]</td>\n",
       "      <td>['Computer Applications']</td>\n",
       "      <td>['Company Name ï¼ City , State', 'Company Name...</td>\n",
       "      <td>...</td>\n",
       "      <td>NaN</td>\n",
       "      <td>NaN</td>\n",
       "      <td>NaN</td>\n",
       "      <td>Business Development Executive</td>\n",
       "      <td>Bachelor/Honors</td>\n",
       "      <td>1 to 3 years</td>\n",
       "      <td>Age 22 to 30 years</td>\n",
       "      <td>Apparel Sourcing\\nQuality Garment Sourcing\\nRe...</td>\n",
       "      <td>Fast typing skill\\nIELTSInternet browsing &amp; on...</td>\n",
       "      <td>0.760000</td>\n",
       "    </tr>\n",
       "    <tr>\n",
       "      <th>4</th>\n",
       "      <td>NaN</td>\n",
       "      <td>Professional accountant with an outstanding wo...</td>\n",
       "      <td>['Analytical reasoning', 'Compliance testing k...</td>\n",
       "      <td>['Kent State University']</td>\n",
       "      <td>['Bachelor of Business Administration']</td>\n",
       "      <td>[None]</td>\n",
       "      <td>['3.84']</td>\n",
       "      <td>[None]</td>\n",
       "      <td>['Accounting']</td>\n",
       "      <td>['Company Name', 'Company Name', 'Company Name...</td>\n",
       "      <td>...</td>\n",
       "      <td>[None]</td>\n",
       "      <td>[None]</td>\n",
       "      <td>['February 15, 2021']</td>\n",
       "      <td>Senior iOS Engineer</td>\n",
       "      <td>Bachelor of Science (BSc) in Computer Science</td>\n",
       "      <td>At least 4 years</td>\n",
       "      <td>NaN</td>\n",
       "      <td>iOS Lifecycle\\nRequirement Analysis\\nNative Fr...</td>\n",
       "      <td>iOS\\niOS App Developer\\niOS Application Develo...</td>\n",
       "      <td>0.650000</td>\n",
       "    </tr>\n",
       "  </tbody>\n",
       "</table>\n",
       "<p>5 rows × 35 columns</p>\n",
       "</div>"
      ],
      "text/plain": [
       "  address                                   career_objective  \\\n",
       "0     NaN  Big data analytics working and database wareho...   \n",
       "1     NaN  Fresher looking to join as a data analyst and ...   \n",
       "2     NaN                                                NaN   \n",
       "3     NaN  To obtain a position in a fast-paced business ...   \n",
       "4     NaN  Professional accountant with an outstanding wo...   \n",
       "\n",
       "                                              skills  \\\n",
       "0  ['Big Data', 'Hadoop', 'Hive', 'Python', 'Mapr...   \n",
       "1  ['Data Analysis', 'Data Analytics', 'Business ...   \n",
       "2  ['Software Development', 'Machine Learning', '...   \n",
       "3  ['accounts payables', 'accounts receivables', ...   \n",
       "4  ['Analytical reasoning', 'Compliance testing k...   \n",
       "\n",
       "                        educational_institution_name  \\\n",
       "0  ['The Amity School of Engineering & Technology...   \n",
       "1  ['Delhi University - Hansraj College', 'Delhi ...   \n",
       "2    ['Birla Institute of Technology (BIT), Ranchi']   \n",
       "3  ['Martinez Adult Education, Business Training ...   \n",
       "4                          ['Kent State University']   \n",
       "\n",
       "                                        degree_names     passing_years  \\\n",
       "0                                         ['B.Tech']          ['2019']   \n",
       "1    ['B.Sc (Maths)', 'M.Sc (Science) (Statistics)']  ['2015', '2018']   \n",
       "2                                         ['B.Tech']          ['2018']   \n",
       "3  ['Computer Applications Specialist Certificate...          ['2008']   \n",
       "4            ['Bachelor of Business Administration']            [None]   \n",
       "\n",
       "  educational_results    result_types             major_field_of_studies  \\\n",
       "0             ['N/A']          [None]                    ['Electronics']   \n",
       "1      ['N/A', 'N/A']  ['N/A', 'N/A']      ['Mathematics', 'Statistics']   \n",
       "2             ['N/A']         ['N/A']  ['Electronics/Telecommunication']   \n",
       "3              [None]          [None]          ['Computer Applications']   \n",
       "4            ['3.84']          [None]                     ['Accounting']   \n",
       "\n",
       "                          professional_company_names  ... online_links  \\\n",
       "0                                      ['Coca-COla']  ...          NaN   \n",
       "1                                ['BIB Consultancy']  ...          NaN   \n",
       "2                              ['Axis Bank Limited']  ...          NaN   \n",
       "3  ['Company Name ï¼ City , State', 'Company Name...  ...          NaN   \n",
       "4  ['Company Name', 'Company Name', 'Company Name...  ...       [None]   \n",
       "\n",
       "  issue_dates           expiry_dates  \\\n",
       "0         NaN                    NaN   \n",
       "1         NaN                    NaN   \n",
       "2         NaN                    NaN   \n",
       "3         NaN                    NaN   \n",
       "4      [None]  ['February 15, 2021']   \n",
       "\n",
       "                                  ﻿job_position_name  \\\n",
       "0                           Senior Software Engineer   \n",
       "1                     Machine Learning (ML) Engineer   \n",
       "2  Executive/ Senior Executive- Trade Marketing, ...   \n",
       "3                     Business Development Executive   \n",
       "4                                Senior iOS Engineer   \n",
       "\n",
       "                            educationaL_requirements experiencere_requirement  \\\n",
       "0  B.Sc in Computer Science & Engineering from a ...          At least 1 year   \n",
       "1  M.Sc in Computer Science & Engineering or in a...       At least 5 year(s)   \n",
       "2            Master of Business Administration (MBA)         At least 3 years   \n",
       "3                                    Bachelor/Honors             1 to 3 years   \n",
       "4      Bachelor of Science (BSc) in Computer Science         At least 4 years   \n",
       "\n",
       "      age_requirement                                 responsibilities.1  \\\n",
       "0                 NaN  Technical Support\\nTroubleshooting\\nCollaborat...   \n",
       "1                 NaN  Machine Learning Leadership\\nCross-Functional ...   \n",
       "2                 NaN  Trade Marketing Executive\\nBrand Visibility, S...   \n",
       "3  Age 22 to 30 years  Apparel Sourcing\\nQuality Garment Sourcing\\nRe...   \n",
       "4                 NaN  iOS Lifecycle\\nRequirement Analysis\\nNative Fr...   \n",
       "\n",
       "                                     skills_required matched_score  \n",
       "0                                                NaN      0.850000  \n",
       "1                                                NaN      0.750000  \n",
       "2  Brand Promotion\\nCampaign Management\\nField Su...      0.416667  \n",
       "3  Fast typing skill\\nIELTSInternet browsing & on...      0.760000  \n",
       "4  iOS\\niOS App Developer\\niOS Application Develo...      0.650000  \n",
       "\n",
       "[5 rows x 35 columns]"
      ]
     },
     "execution_count": 5,
     "metadata": {},
     "output_type": "execute_result"
    }
   ],
   "source": [
    "resumes = pd.read_csv(\"./data/resume_data.csv\")\n",
    "resumes.head()"
   ]
  },
  {
   "cell_type": "markdown",
   "id": "ea8e61e2-5565-4ac9-9df9-e49b2c72c9ab",
   "metadata": {
    "jp-MarkdownHeadingCollapsed": true
   },
   "source": [
    "#### Basic EDA"
   ]
  },
  {
   "cell_type": "code",
   "execution_count": null,
   "id": "e8fac0a6-8ab2-44e4-9379-141786e6a810",
   "metadata": {},
   "outputs": [],
   "source": [
    "required_columns = [\"career_objective\", \"skills\", \"educational_institution_name\", \"degree_names\",\"passing_years\",\n",
    "                   \"major_field_of_studies\", \"\"]\n",
    "resumes.loc[:2].to_dict(orient='records')"
   ]
  },
  {
   "cell_type": "code",
   "execution_count": 37,
   "id": "239c4cf5-e017-4235-92d3-5df11339e2a8",
   "metadata": {},
   "outputs": [
    {
     "name": "stdout",
     "output_type": "stream",
     "text": [
      "<class 'str'>\n",
      "['The Amity School of Engineering & Technology (ASET), Noida'] ['B.Tech'] ['2019'] ['Electronics']\n",
      "<class 'str'>\n",
      "['Delhi University - Hansraj College', 'Delhi University - Hansraj College'] ['B.Sc (Maths)', 'M.Sc (Science) (Statistics)'] ['2015', '2018'] ['Mathematics', 'Statistics']\n"
     ]
    }
   ],
   "source": [
    "for index, row in resumes[:2].iterrows():\n",
    "    resumerow.educational_institution_name, row.degree_names, row.passing_years, row.major_field_of_studies)\n",
    "    # print(list(qualifications))"
   ]
  },
  {
   "cell_type": "code",
   "execution_count": 20,
   "id": "84caaf0d-db3d-4a0f-b535-cd553bb62ced",
   "metadata": {},
   "outputs": [
    {
     "data": {
      "text/plain": [
       "(9544, 35)"
      ]
     },
     "execution_count": 20,
     "metadata": {},
     "output_type": "execute_result"
    }
   ],
   "source": [
    "resumes.shape"
   ]
  },
  {
   "cell_type": "code",
   "execution_count": 5,
   "id": "71bea254-d259-411c-9ad6-c2015faf235c",
   "metadata": {},
   "outputs": [
    {
     "data": {
      "text/plain": [
       "address                                8760\n",
       "career_objective                       4804\n",
       "skills                                   56\n",
       "educational_institution_name             84\n",
       "degree_names                             84\n",
       "passing_years                            84\n",
       "educational_results                      84\n",
       "result_types                             84\n",
       "major_field_of_studies                   84\n",
       "professional_company_names               84\n",
       "company_urls                             84\n",
       "start_dates                              84\n",
       "end_dates                                84\n",
       "related_skils_in_job                     84\n",
       "positions                                84\n",
       "locations                                84\n",
       "responsibilities                          0\n",
       "extra_curricular_activity_types        6118\n",
       "extra_curricular_organization_names    6118\n",
       "extra_curricular_organization_links    6118\n",
       "role_positions                         6118\n",
       "languages                              8844\n",
       "proficiency_levels                     8844\n",
       "certification_providers                7536\n",
       "certification_skills                   7536\n",
       "online_links                           7536\n",
       "issue_dates                            7536\n",
       "expiry_dates                           7536\n",
       "﻿job_position_name                        0\n",
       "educationaL_requirements                  0\n",
       "experiencere_requirement               1364\n",
       "age_requirement                        4087\n",
       "responsibilities.1                        0\n",
       "skills_required                        1701\n",
       "matched_score                             0\n",
       "dtype: int64"
      ]
     },
     "execution_count": 5,
     "metadata": {},
     "output_type": "execute_result"
    }
   ],
   "source": [
    "resumes.isna().sum()"
   ]
  },
  {
   "cell_type": "code",
   "execution_count": 20,
   "id": "ba02c433-158d-4184-96d0-2a09152e0675",
   "metadata": {},
   "outputs": [
    {
     "data": {
      "text/plain": [
       "array(['Want to work as a Machine Learning Production Engineer.',\n",
       "       'Fresher python developer interested in data analytics and machine learning.',\n",
       "       'Fresher looking to join as a data analyst and junior data scientist. Experienced in creating meaningful data dashboards and evaluation models.',\n",
       "       'Highly motivated mechanical engineering student (EIT) interested in pursuing an engaging position in the corporate setting to implement skills honed through years of engineering background. A dedicated student with problem-solving, leadership, and communication skills along with the capability to build relationships and work in a team-oriented environment.',\n",
       "       'Hard working recent graduate intending a part time or full time job to build experience in a Civil Engineering working environment. Bringing Civil Engineering office and field experience in roadway design and traffic engineering.'],\n",
       "      dtype=object)"
      ]
     },
     "execution_count": 20,
     "metadata": {},
     "output_type": "execute_result"
    }
   ],
   "source": [
    "resumes[~resumes.career_objective.isna()].career_objective.sample(5).values"
   ]
  },
  {
   "cell_type": "code",
   "execution_count": 22,
   "id": "00f6141a-4bf7-4b5d-9a44-5ae3734e417f",
   "metadata": {},
   "outputs": [
    {
     "data": {
      "text/plain": [
       "array([\"['Bilingual Spanish (fluent; speak, read, and write)', 'Microsoft Office including Word, Excel, PowerPoint, Outlook, Publisher', 'QuickBooks', 'Tax software', 'Interpersonal skills', 'Analytical', 'Detail-oriented', 'Thoroughness', 'Organizational skills', 'Coordination', 'Office Equipment such as copiers, calculators, printers, and scanners', 'Reconciled various general ledger fund accounts', 'Prepared various specialty reports', 'Documenting operational procedures', 'Ascertain accuracy of financial reporting', 'Recorded monthly transactions', 'Developed reconciliation format', 'Assured internal controls']\",\n",
       "       \"['assisted living', 'interpersonal and communication', 'insurance', 'internal medicine', 'managing', 'marketing', 'marketing/sales', 'meetings', 'mentor', 'office', 'networking', 'organizing', 'orthopedics', 'outside sales', 'physical therapy', 'rehabilitation', 'sales', 'seminars', 'Team player', 'time management']\",\n",
       "       \"['Ability to make decisions and solve problems', 'Ability to work in a team structure', 'Attention to detail', 'Balanced', 'Computer proficient', 'Dependable', 'Determined', 'Educated', 'Fast learner', 'Flexible', 'Friendly', 'Hardworking', 'Honest', 'Issue resolution', 'Interpersonal skills', 'Kind', 'Outgoing', 'Quick on my feet & with my hands', 'Reliable', 'Strong verbal communication', 'Time management', 'Very organized & energetic', 'art', 'critical thinking', 'Electrical Engineering', 'electrical systems', 'forklifts', 'Java', 'logo', 'machinery', 'meetings', 'windows', 'window', 'works', 'next', 'pick', 'processes', 'protocols', 'quality', 'quality assurance', 'Quick', 'Fast learner', 'reading', 'safety', 'sales', 'television', 'Time management']\",\n",
       "       \"['Machine Learning Engineering', 'Algorithm development', 'Python', 'Data Arbitration', 'Neural Networks', 'PyTorch', 'Pattern Recognition', 'Chatbot']\",\n",
       "       \"['3D modeling', 'architectural drafting', 'AutoCAD', 'read blueprints', 'carpentry', 'Detail oriented', 'drafting', 'email', 'floor plans', 'frame', '3dsMax', 'mechanical', 'messaging', 'Microsoft Office applications', 'Multi-tasking', 'painting', 'problem solving skills', 'reading', 'renovation', 'Revit', 'self-motivated', 'supervisor']\"],\n",
       "      dtype=object)"
      ]
     },
     "execution_count": 22,
     "metadata": {},
     "output_type": "execute_result"
    }
   ],
   "source": [
    "resumes[~resumes.skills.isna()].skills.sample(5).values"
   ]
  },
  {
   "cell_type": "code",
   "execution_count": 17,
   "id": "9d90c903-affe-480c-a32e-a4725341f29b",
   "metadata": {},
   "outputs": [
    {
     "data": {
      "text/plain": [
       "array(['M.Sc in Computer Science & Engineering or in any relevant discipline from a reputed University',\n",
       "       'Bachelor of Science (BSc) in Civil Engineering',\n",
       "       'Bachelor of Science (BSc) in Computer Science', 'Bachelor/Honors',\n",
       "       '•Bachelor of Business Administration (BBA) in Human Resource Management\\n•BBA/MBA in HRM/Management from any reputed university.'],\n",
       "      dtype=object)"
      ]
     },
     "execution_count": 17,
     "metadata": {},
     "output_type": "execute_result"
    }
   ],
   "source": [
    "resumes[~resumes.educationaL_requirements.isna()].educationaL_requirements.sample(5).values"
   ]
  },
  {
   "cell_type": "code",
   "execution_count": 19,
   "id": "79c28f25-feb9-4af7-ac26-3e30be94e966",
   "metadata": {},
   "outputs": [
    {
     "data": {
      "text/plain": [
       "array(['At least 3 years', '2 to 4 years', '5 to 8 years', '5 to 6 years',\n",
       "       '1 to 3 years'], dtype=object)"
      ]
     },
     "execution_count": 19,
     "metadata": {},
     "output_type": "execute_result"
    }
   ],
   "source": [
    "resumes[~resumes.experiencere_requirement.isna()].experiencere_requirement.sample(5).values"
   ]
  },
  {
   "cell_type": "code",
   "execution_count": 24,
   "id": "a8c398c6-e644-4b4b-8ba8-c2522b8d63f2",
   "metadata": {},
   "outputs": [
    {
     "data": {
      "text/plain": [
       "(0, 35)"
      ]
     },
     "execution_count": 24,
     "metadata": {},
     "output_type": "execute_result"
    }
   ],
   "source": [
    "# Are there any candidates where certification_skills are present but skills are absent\n",
    "resumes[resumes.skills.isna() & ~resumes.certification_skills.isna()].shape"
   ]
  },
  {
   "cell_type": "code",
   "execution_count": 26,
   "id": "596e6a32-5186-4ccc-8e2e-16038328e511",
   "metadata": {},
   "outputs": [
    {
     "data": {
      "text/plain": [
       "array(['[None]', '[None, None]', '[None]', \"[['Selenium']]\", '[None]'],\n",
       "      dtype=object)"
      ]
     },
     "execution_count": 26,
     "metadata": {},
     "output_type": "execute_result"
    }
   ],
   "source": [
    "resumes[~resumes.certification_skills.isna()].certification_skills.sample(5).values"
   ]
  },
  {
   "cell_type": "code",
   "execution_count": 49,
   "id": "e31d1095-1b50-4c37-8531-0a23b673275e",
   "metadata": {},
   "outputs": [
    {
     "data": {
      "text/plain": [
       "{'company_urls': {2: \"['N/A']\", 3: '[None, None, None, None, None, None]'},\n",
       " 'start_dates': {2: \"['June 2018']\",\n",
       "  3: \"['January 2011', 'January 2008', 'January 2006', 'January 2004', 'January 2001', 'N/A']\"},\n",
       " 'end_dates': {2: \"['Till Date']\",\n",
       "  3: \"['November 2015', 'January 2010', 'January 2008', 'January 2006', 'January 2004', None]\"},\n",
       " 'related_skils_in_job': {2: \"[['Unified Payment Interface', 'Risk Prediction', 'Big Data', 'Spark', 'PySpark']]\",\n",
       "  3: \"[['accounts receivables', 'banking', 'G/L Accounts', 'accounts payables', 'credit cards', 'reconcile', 'commission reports', 'credit checks', 'customer service', 'international travel'], ['data entry', 'accounts receivable', 'cash handling', 'customer communication', 'inventory reports', 'problem-solving'], ['mortgage processing', 'analytical aptitude', 'credit reports', 'customer communication'], ['commercial auto underwriting', 'data entry', 'application review', 'customer communication'], ['personal auto underwriting', 'data entry', 'policy review', 'customer service'], ['training', 'medical record review', 'data entry', 'document design', 'customer service', 'team performance']]\"},\n",
       " 'positions': {2: \"['Software Developer (Machine Learning Engineer)']\",\n",
       "  3: \"['Accountant', 'Accounts Receivable Clerk', 'Mortgage Underwriter', 'Commercial Auto Underwriter', 'Personal Auto Underwriter', 'Claims Examiner']\"}}"
      ]
     },
     "execution_count": 49,
     "metadata": {},
     "output_type": "execute_result"
    }
   ],
   "source": [
    "resumes.loc[2:3, [\"company_urls\",\"start_dates\", \"end_dates\",\"related_skils_in_job\",\"positions\"]].head().to_dict()"
   ]
  },
  {
   "cell_type": "code",
   "execution_count": 42,
   "id": "82873469-b6cf-4d5d-837d-e10865c658e6",
   "metadata": {},
   "outputs": [
    {
     "data": {
      "text/plain": [
       "array([\"[['Machine Learning', 'Data Modeling'], ['Data Structures', 'Data Mining']]\",\n",
       "       \"[['Construction Management', 'AIA', 'SAP', 'JD Edwards', 'Microsoft', 'Imaging', 'Bluebeam'], ['Coordination', 'Database Management', 'Presentation'], ['Licensing', 'Insurance Management', 'Vendor Management'], ['Property Management', 'Budgeting', 'Marketing'], ['Construction Coordination', 'Design Phase Planning'], ['Manual Design', 'Project Coordination'], ['Clerical Support', 'Research', 'Document Management']]\",\n",
       "       \"[['process qualification', 'injection molding', 'compression molding', 'material testing', 'quality standards'], ['sealing solutions', 'material evaluation', 'testing reports', 'flow calculations', 'vibration measurements', 'electrical measurements'], None]\",\n",
       "       \"[['Data Analysis', 'Business Analysis']]\",\n",
       "       \"[['Machine Learning']]\"], dtype=object)"
      ]
     },
     "execution_count": 42,
     "metadata": {},
     "output_type": "execute_result"
    }
   ],
   "source": [
    "resumes[~resumes.related_skils_in_job.isna()].related_skils_in_job.sample(5).values"
   ]
  },
  {
   "cell_type": "code",
   "execution_count": 55,
   "id": "1d4fe263-5f65-4ce0-8265-438fd801a21b",
   "metadata": {},
   "outputs": [
    {
     "data": {
      "text/plain": [
       "array(['Supervision\\nMonitoring\\nConstruction\\nEstimation\\nPlanning\\nMaterial Management\\nProject Coordination\\nQuality Assurance\\nCost Control\\nInventory\\nOperations\\nSafety\\nError Escalation\\nMiscellaneous Tasks\\n\\n\\n\\n\\n',\n",
       "       'Application Development\\nObject-Oriented Design\\nCollaboration\\nProblem-Solving\\nSoftware Lifecycle\\nInnovation\\nSoftware Testing\\nSystem Analysis\\nPerformance Monitoring\\nPlugin Development\\nDocumentation\\nIntegration Support',\n",
       "       'Hardware & Software Installation\\nSystem Monitoring\\nIT Support\\nNetworking Expertise\\nMail Server Administration\\nSecurity Management\\nTroubleshooting & Repair\\nOperations Support',\n",
       "       'Management Trainee\\nMechanical Systems\\nMaintenance & Troubleshooting\\nPerformance Analysis\\nProject Support\\nProcess Improvement\\nTraining & Development\\nAdministrative Support',\n",
       "       'Recruitment Coordination\\nAppointment Management\\nSelection Criteria\\nEmployee Orientation\\nPerformance Evaluation\\nHR Database Management\\nReport Compilation\\nDocumentation\\nEvent Coordination\\nTask Execution'],\n",
       "      dtype=object)"
      ]
     },
     "execution_count": 55,
     "metadata": {},
     "output_type": "execute_result"
    }
   ],
   "source": [
    "resumes[~resumes.responsibilities.isna()].responsibilities.sample(5).values"
   ]
  },
  {
   "cell_type": "markdown",
   "id": "791b341a-4706-493c-91ac-14440dd2bf41",
   "metadata": {},
   "source": [
    "### Clean job related fields and build experience column"
   ]
  },
  {
   "cell_type": "code",
   "execution_count": 6,
   "id": "c6674906-5279-4db6-b107-1870316d81bc",
   "metadata": {},
   "outputs": [],
   "source": [
    "resumes = resumes.replace(dict(end_dates={np.nan: None,  }\n",
    "                               , start_dates={np.nan: None}\n",
    "                              , related_skils_in_job={np.nan: None}))"
   ]
  },
  {
   "cell_type": "code",
   "execution_count": 7,
   "id": "4b280087-7581-44b4-9928-77f9790a810e",
   "metadata": {},
   "outputs": [],
   "source": [
    "def convert_string_of_list_to_list(serialized_value: str):\n",
    "    # try:\n",
    "    results = [None]\n",
    "    # results = serialized_value.replace(\"[\",\"\").replace(\"]\",\"\").split(\",\")\n",
    "    if serialized_value is not None:\n",
    "        results = ast.literal_eval(serialized_value)\n",
    "        # results = [n.strip() if n is not None else n for n in results]\n",
    "    # except:\n",
    "       \n",
    "    return results"
   ]
  },
  {
   "cell_type": "code",
   "execution_count": 8,
   "id": "2d50d8f8-eb46-4ce3-8018-40cfb020dce1",
   "metadata": {},
   "outputs": [],
   "source": [
    "resumes.end_dates = resumes.end_dates.apply(lambda x: convert_string_of_list_to_list(x))\n",
    "resumes.start_dates = resumes.start_dates.apply(lambda x: convert_string_of_list_to_list(x))\n",
    "resumes.related_skils_in_job = resumes.related_skils_in_job.apply(lambda x: convert_string_of_list_to_list(x))"
   ]
  },
  {
   "cell_type": "markdown",
   "id": "6d9bd439-e0ba-4455-91cc-dcd1d3e6fa41",
   "metadata": {},
   "source": [
    "#### Get Max end date"
   ]
  },
  {
   "cell_type": "code",
   "execution_count": 9,
   "id": "46443121-60c1-49dd-bade-751a0241308d",
   "metadata": {},
   "outputs": [
    {
     "name": "stdout",
     "output_type": "stream",
     "text": [
      "2023\n"
     ]
    }
   ],
   "source": [
    "def get_max_end_yr(dates):\n",
    "    yrs = []\n",
    "    for date in dates:\n",
    "        if date is not None:\n",
    "            extracted_years = re.findall(r'[\\d]{4}', date)\n",
    "            if len(extracted_years) > 0:\n",
    "                yrs.append(int(extracted_years[0]))\n",
    "\n",
    "    \n",
    "    if len(yrs) > 0:\n",
    "        return(max(yrs))\n",
    "    else: return 0\n",
    "\n",
    "        \n",
    "resumes.loc[:, \"end_yr\"] = resumes.end_dates.apply(lambda x:get_max_end_yr(x))\n",
    "print(max(resumes.end_yr))"
   ]
  },
  {
   "cell_type": "code",
   "execution_count": 10,
   "id": "689c8fab-6115-4b99-aba5-4be317181993",
   "metadata": {},
   "outputs": [
    {
     "data": {
      "text/html": [
       "<div>\n",
       "<style scoped>\n",
       "    .dataframe tbody tr th:only-of-type {\n",
       "        vertical-align: middle;\n",
       "    }\n",
       "\n",
       "    .dataframe tbody tr th {\n",
       "        vertical-align: top;\n",
       "    }\n",
       "\n",
       "    .dataframe thead th {\n",
       "        text-align: right;\n",
       "    }\n",
       "</style>\n",
       "<table border=\"1\" class=\"dataframe\">\n",
       "  <thead>\n",
       "    <tr style=\"text-align: right;\">\n",
       "      <th></th>\n",
       "      <th>start_dates</th>\n",
       "      <th>end_dates</th>\n",
       "    </tr>\n",
       "  </thead>\n",
       "  <tbody>\n",
       "    <tr>\n",
       "      <th>7117</th>\n",
       "      <td>[May 2019]</td>\n",
       "      <td>[N/A]</td>\n",
       "    </tr>\n",
       "    <tr>\n",
       "      <th>6004</th>\n",
       "      <td>[Jan 2021]</td>\n",
       "      <td>[Till Date]</td>\n",
       "    </tr>\n",
       "    <tr>\n",
       "      <th>1691</th>\n",
       "      <td>[Feb 2020]</td>\n",
       "      <td>[Ongoing]</td>\n",
       "    </tr>\n",
       "    <tr>\n",
       "      <th>2340</th>\n",
       "      <td>[Apr 2019]</td>\n",
       "      <td>[Till Date]</td>\n",
       "    </tr>\n",
       "    <tr>\n",
       "      <th>1236</th>\n",
       "      <td>[None]</td>\n",
       "      <td>[None]</td>\n",
       "    </tr>\n",
       "  </tbody>\n",
       "</table>\n",
       "</div>"
      ],
      "text/plain": [
       "     start_dates    end_dates\n",
       "7117  [May 2019]        [N/A]\n",
       "6004  [Jan 2021]  [Till Date]\n",
       "1691  [Feb 2020]    [Ongoing]\n",
       "2340  [Apr 2019]  [Till Date]\n",
       "1236      [None]       [None]"
      ]
     },
     "execution_count": 10,
     "metadata": {},
     "output_type": "execute_result"
    }
   ],
   "source": [
    "resumes.loc[resumes.end_yr == 0,[\"start_dates\",\"end_dates\"]].sample(5)"
   ]
  },
  {
   "cell_type": "markdown",
   "id": "8e38fa14-68ed-4409-90b7-504a164ffbe9",
   "metadata": {},
   "source": [
    "#### Build experience column"
   ]
  },
  {
   "cell_type": "code",
   "execution_count": 11,
   "id": "d40273cc-1ec4-49a2-97ae-aafde49ead50",
   "metadata": {},
   "outputs": [],
   "source": [
    "import itertools\n",
    "\n",
    "def create_experience(row):\n",
    "# for index, row in resumes.loc[:1][[\"start_dates\",\"end_dates\",\"related_skils_in_job\"]].iterrows():\n",
    "    experiences = []\n",
    "    for start_date, end_date, related_skills in zip(row.start_dates, row.end_dates, row.related_skils_in_job):\n",
    "        try:\n",
    "            if end_date is not None and end_date.strip().lower() in ['till date','current','present','ongoing','n/a']:\n",
    "                end_date = \"January 2025\"\n",
    "            \n",
    "            experience = int(re.findall(r'[\\d]{4}', end_date)[0]) - int(re.findall(r'[\\d]{4}', start_date)[0])\n",
    "        except Exception as ex:\n",
    "            # print(ex, row.name)\n",
    "            experience = 0\n",
    "\n",
    "        # print(type(related_skills))\n",
    "        if type(related_skills) == list:\n",
    "            experiences.append({skill: experience for skill in set(related_skills)})\n",
    "                                                                    \n",
    "    df = pd.DataFrame(experiences)\n",
    "    return df.sum(axis = 0).to_dict()\n",
    "        \n",
    "    "
   ]
  },
  {
   "cell_type": "code",
   "execution_count": 12,
   "id": "e01d0e06-39f2-49af-b4f5-f9c9fda7bba3",
   "metadata": {},
   "outputs": [
    {
     "data": {
      "text/plain": [
       "0                                      {'Big Data': 6}\n",
       "1    {'Business Analysis': 6, 'Data Analysis': 6, '...\n",
       "2    {'Unified Payment Interface': 7, 'Risk Predict...\n",
       "3    {'accounts payables': 4.0, 'accounts receivabl...\n",
       "4    {'sales and use tax audits': 9.0, 'financial r...\n",
       "5    {'Juniper Net-screen': 7.0, 'Mac OS and IOS': ...\n",
       "dtype: object"
      ]
     },
     "execution_count": 12,
     "metadata": {},
     "output_type": "execute_result"
    }
   ],
   "source": [
    "resumes.loc[:5][[\"start_dates\",\"end_dates\",\"related_skils_in_job\"]].apply(lambda x: create_experience(x), axis = 1)"
   ]
  },
  {
   "cell_type": "code",
   "execution_count": 13,
   "id": "62dc25d1-7cec-4a82-852e-bb0833231226",
   "metadata": {},
   "outputs": [],
   "source": [
    "resumes.loc[:,\"experience_in_yrs\"] = resumes.apply(lambda x: create_experience(x), axis = 1)"
   ]
  },
  {
   "cell_type": "code",
   "execution_count": 14,
   "id": "dc20719c-a20c-475c-ae57-4ea32ecaad6a",
   "metadata": {},
   "outputs": [
    {
     "data": {
      "text/html": [
       "<div>\n",
       "<style scoped>\n",
       "    .dataframe tbody tr th:only-of-type {\n",
       "        vertical-align: middle;\n",
       "    }\n",
       "\n",
       "    .dataframe tbody tr th {\n",
       "        vertical-align: top;\n",
       "    }\n",
       "\n",
       "    .dataframe thead th {\n",
       "        text-align: right;\n",
       "    }\n",
       "</style>\n",
       "<table border=\"1\" class=\"dataframe\">\n",
       "  <thead>\n",
       "    <tr style=\"text-align: right;\">\n",
       "      <th></th>\n",
       "      <th>start_dates</th>\n",
       "      <th>end_dates</th>\n",
       "      <th>related_skils_in_job</th>\n",
       "      <th>experience_in_yrs</th>\n",
       "    </tr>\n",
       "  </thead>\n",
       "  <tbody>\n",
       "    <tr>\n",
       "      <th>7831</th>\n",
       "      <td>[Apr 2019]</td>\n",
       "      <td>[till date]</td>\n",
       "      <td>[[Machine Learning, Natural Language Processing]]</td>\n",
       "      <td>{'Natural Language Processing': 6, 'Machine Le...</td>\n",
       "    </tr>\n",
       "  </tbody>\n",
       "</table>\n",
       "</div>"
      ],
      "text/plain": [
       "     start_dates    end_dates  \\\n",
       "7831  [Apr 2019]  [till date]   \n",
       "\n",
       "                                   related_skils_in_job  \\\n",
       "7831  [[Machine Learning, Natural Language Processing]]   \n",
       "\n",
       "                                      experience_in_yrs  \n",
       "7831  {'Natural Language Processing': 6, 'Machine Le...  "
      ]
     },
     "execution_count": 14,
     "metadata": {},
     "output_type": "execute_result"
    }
   ],
   "source": [
    "resumes.sample(1)[[\"start_dates\",\"end_dates\",\"related_skils_in_job\",\"experience_in_yrs\"]]"
   ]
  },
  {
   "cell_type": "markdown",
   "id": "3b4a39c1-a464-4f7d-a05d-58bc4957d006",
   "metadata": {},
   "source": [
    "### Extract values as per schema"
   ]
  },
  {
   "cell_type": "code",
   "execution_count": 15,
   "id": "9010e508-d4cd-4bf1-b33e-74bba8650d66",
   "metadata": {},
   "outputs": [],
   "source": [
    "from model import ResumeFields\n",
    "from langchain.chat_models import init_chat_model\n",
    "from langchain_core.prompts import ChatPromptTemplate, MessagesPlaceholder\n",
    "import pickle"
   ]
  },
  {
   "cell_type": "code",
   "execution_count": 23,
   "id": "b3da70f8-b353-4064-b9b2-c10caabf324b",
   "metadata": {},
   "outputs": [],
   "source": [
    "llm = init_chat_model(\"gemini-2.0-flash-001\", model_provider=\"google_vertexai\", temperature = 0.3)"
   ]
  },
  {
   "cell_type": "code",
   "execution_count": 24,
   "id": "e3f97b48-3c3b-4d42-9a5f-ade7b8e4c57d",
   "metadata": {},
   "outputs": [],
   "source": [
    "system_prompt = \"\"\"\n",
    "You are a highly skilled AI assistant specializing in analyzing candidate resumes and extracting key fields. \n",
    "Your goal is to meticulously identify and categorize the essential skills, qualifications, experience, personality traits.\n",
    "\n",
    "**Your Task:**\n",
    "\n",
    "Given a job resume fields as input, extract the required fields based on schema into a structured format. Be comprehensive and specific, avoiding vague or generic terms.\n",
    "\n",
    "**Input schema:**\n",
    "1. career_objective: Career objective\n",
    "2. skills: List of Skills candidate poses\n",
    "3. educational_institution_name: List of Education institute name\n",
    "4. degree_names: List of Degrees.  \n",
    "5. major_field_of_studies: List of Major field of studies\n",
    "6. responsibilities\n",
    "7. experience_in_yrs: Experience in years in dictionary. Feel free to deduce this from career objective if not present\n",
    "\n",
    "**Instructions:**\n",
    "\n",
    "1.  **Read the resume fields carefully and thoroughly.** \n",
    "2.  **Focus on explicitly stated requirements.** \n",
    "3.  **Be specific and detailed.** Avoid generalizations.\n",
    "4.  **Maintain accuracy.**  \n",
    "5.  **Conciseness is important,** but don't sacrifice accuracy or completeness.**\n",
    "\"\"\""
   ]
  },
  {
   "cell_type": "code",
   "execution_count": 25,
   "id": "168f0419-6f3b-4879-ac14-73127e40098d",
   "metadata": {},
   "outputs": [
    {
     "name": "stderr",
     "output_type": "stream",
     "text": [
      "Key '$defs' is not supported in schema, ignoring\n"
     ]
    }
   ],
   "source": [
    "prompt = ChatPromptTemplate.from_messages(\n",
    "    [\n",
    "        (\n",
    "            \"system\",\n",
    "            system_prompt\n",
    "        ),\n",
    "        (\"human\", \"{text}\"),\n",
    "    ]\n",
    ")\n",
    "\n",
    "runnable = prompt | llm.with_structured_output(\n",
    "    schema=ResumeFields\n",
    ")\n",
    "\n"
   ]
  },
  {
   "cell_type": "code",
   "execution_count": 253,
   "id": "8545ee96-f056-44d5-bc16-ca0606449649",
   "metadata": {},
   "outputs": [],
   "source": [
    "# resumes.loc[0].to_dict()"
   ]
  },
  {
   "cell_type": "code",
   "execution_count": null,
   "id": "00800f9b-0592-4bfc-9202-324e2c3fb7a2",
   "metadata": {},
   "outputs": [],
   "source": [
    "import asyncio\n",
    "\n",
    "required_columns = [\"career_objective\", \"skills\", \"educational_institution_name\",\n",
    "                    \"degree_names\", \"major_field_of_studies\", \"responsibilities\",\n",
    "                    \"experience_in_yrs\"]\n",
    "\n",
    "\n",
    "req_per_min = 1000\n",
    "time_per_req = 60 // req_per_min\n",
    "async def extract_fields(index, row):\n",
    "    try:\n",
    "        text = row.to_dict()    \n",
    "        fields = await runnable.ainvoke({\"text\": (\n",
    "            f\"{text}\"\n",
    "            \"Extract all the relevant fields from the text given\"\n",
    "        )})\n",
    "    \n",
    "        with open(f'./outputs/candidates/{index}.pkl', 'wb') as f:\n",
    "            pickle.dump(fields, f)\n",
    "    except Exception as ex:\n",
    "        print(index, ex)\n",
    "\n",
    "# await asyncio.gather(\n",
    "#     *[extract_fields(index,row) \n",
    "#     for index, rows in resumes.loc[:5][required_columns].iterrows()\n",
    "#     ])\n",
    "#         asyncio.sleep(time_per_req)\n",
    "\n",
    "bg_tasks = []\n",
    "for index, row in resumes.loc[:][required_columns].iterrows():\n",
    "    bg_tasks.append(asyncio.create_task(extract_fields(index,row)))\n",
    "    await asyncio.sleep(time_per_req)\n",
    "\n",
    "await asyncio.gather(*bg_tasks)\n",
    "    "
   ]
  },
  {
   "cell_type": "code",
   "execution_count": 34,
   "id": "3271ffe7-2fc5-4148-b998-0c115c9b7e24",
   "metadata": {},
   "outputs": [
    {
     "data": {
      "text/html": [
       "<pre style=\"white-space:pre;overflow-x:auto;line-height:normal;font-family:Menlo,'DejaVu Sans Mono',consolas,'Courier New',monospace\"><span style=\"font-weight: bold\">{</span>\n",
       "    <span style=\"color: #008000; text-decoration-color: #008000\">'career_objective'</span>: <span style=\"color: #008000; text-decoration-color: #008000\">'Recent Graduate testing and debugging machine learning models. I have worked on multiple </span>\n",
       "<span style=\"color: #008000; text-decoration-color: #008000\">projects and have contributed to the testing and quality control of models over time. I am looking to switch to a </span>\n",
       "<span style=\"color: #008000; text-decoration-color: #008000\">development role where I can exercise my skills.'</span>,\n",
       "    <span style=\"color: #008000; text-decoration-color: #008000\">'skills'</span>: <span style=\"color: #008000; text-decoration-color: #008000\">\"['Machine Learning', 'Data Analytics', 'Data Manipulation', 'Data Mining', 'Deep Learning', </span>\n",
       "<span style=\"color: #008000; text-decoration-color: #008000\">'Algorithms', 'Selenium', 'Jenkins', 'Python', 'Java', 'SQL', 'Quality Control']\"</span>,\n",
       "    <span style=\"color: #008000; text-decoration-color: #008000\">'educational_institution_name'</span>: <span style=\"color: #008000; text-decoration-color: #008000\">\"['National Institute Of Science And Technology, Rourkela']\"</span>,\n",
       "    <span style=\"color: #008000; text-decoration-color: #008000\">'degree_names'</span>: <span style=\"color: #008000; text-decoration-color: #008000\">\"['B.Tech']\"</span>,\n",
       "    <span style=\"color: #008000; text-decoration-color: #008000\">'major_field_of_studies'</span>: <span style=\"color: #008000; text-decoration-color: #008000\">\"['Information Technology']\"</span>,\n",
       "    <span style=\"color: #008000; text-decoration-color: #008000\">'responsibilities'</span>: <span style=\"color: #008000; text-decoration-color: #008000\">'Trade Marketing Executive\\nBrand Visibility, Sales Targets\\nField Marketing, Campaigns, </span>\n",
       "<span style=\"color: #008000; text-decoration-color: #008000\">Product Distribution\\nBrand Head\\nExcel, KPIs Tracking'</span>,\n",
       "    <span style=\"color: #008000; text-decoration-color: #008000\">'experience_in_yrs'</span>: <span style=\"font-weight: bold\">{</span><span style=\"color: #008000; text-decoration-color: #008000\">'Debugging'</span>: <span style=\"color: #008080; text-decoration-color: #008080; font-weight: bold\">5</span>, <span style=\"color: #008000; text-decoration-color: #008000\">'Parameter Tuning'</span>: <span style=\"color: #008080; text-decoration-color: #008080; font-weight: bold\">5</span>, <span style=\"color: #008000; text-decoration-color: #008000\">'Testing'</span>: <span style=\"color: #008080; text-decoration-color: #008080; font-weight: bold\">5</span><span style=\"font-weight: bold\">}</span>,\n",
       "    <span style=\"color: #008000; text-decoration-color: #008000\">'start_dates'</span>: <span style=\"font-weight: bold\">[</span><span style=\"color: #008000; text-decoration-color: #008000\">'Jan 2020'</span><span style=\"font-weight: bold\">]</span>,\n",
       "    <span style=\"color: #008000; text-decoration-color: #008000\">'end_dates'</span>: <span style=\"font-weight: bold\">[</span><span style=\"color: #008000; text-decoration-color: #008000\">'Ongoing'</span><span style=\"font-weight: bold\">]</span>\n",
       "<span style=\"font-weight: bold\">}</span>\n",
       "</pre>\n"
      ],
      "text/plain": [
       "\u001b[1m{\u001b[0m\n",
       "    \u001b[32m'career_objective'\u001b[0m: \u001b[32m'Recent Graduate testing and debugging machine learning models. I have worked on multiple \u001b[0m\n",
       "\u001b[32mprojects and have contributed to the testing and quality control of models over time. I am looking to switch to a \u001b[0m\n",
       "\u001b[32mdevelopment role where I can exercise my skills.'\u001b[0m,\n",
       "    \u001b[32m'skills'\u001b[0m: \u001b[32m\"\u001b[0m\u001b[32m[\u001b[0m\u001b[32m'Machine Learning', 'Data Analytics', 'Data Manipulation', 'Data Mining', 'Deep Learning', \u001b[0m\n",
       "\u001b[32m'Algorithms', 'Selenium', 'Jenkins', 'Python', 'Java', 'SQL', 'Quality Control'\u001b[0m\u001b[32m]\u001b[0m\u001b[32m\"\u001b[0m,\n",
       "    \u001b[32m'educational_institution_name'\u001b[0m: \u001b[32m\"\u001b[0m\u001b[32m[\u001b[0m\u001b[32m'National Institute Of Science And Technology, Rourkela'\u001b[0m\u001b[32m]\u001b[0m\u001b[32m\"\u001b[0m,\n",
       "    \u001b[32m'degree_names'\u001b[0m: \u001b[32m\"\u001b[0m\u001b[32m[\u001b[0m\u001b[32m'B.Tech'\u001b[0m\u001b[32m]\u001b[0m\u001b[32m\"\u001b[0m,\n",
       "    \u001b[32m'major_field_of_studies'\u001b[0m: \u001b[32m\"\u001b[0m\u001b[32m[\u001b[0m\u001b[32m'Information Technology'\u001b[0m\u001b[32m]\u001b[0m\u001b[32m\"\u001b[0m,\n",
       "    \u001b[32m'responsibilities'\u001b[0m: \u001b[32m'Trade Marketing Executive\\nBrand Visibility, Sales Targets\\nField Marketing, Campaigns, \u001b[0m\n",
       "\u001b[32mProduct Distribution\\nBrand Head\\nExcel, KPIs Tracking'\u001b[0m,\n",
       "    \u001b[32m'experience_in_yrs'\u001b[0m: \u001b[1m{\u001b[0m\u001b[32m'Debugging'\u001b[0m: \u001b[1;36m5\u001b[0m, \u001b[32m'Parameter Tuning'\u001b[0m: \u001b[1;36m5\u001b[0m, \u001b[32m'Testing'\u001b[0m: \u001b[1;36m5\u001b[0m\u001b[1m}\u001b[0m,\n",
       "    \u001b[32m'start_dates'\u001b[0m: \u001b[1m[\u001b[0m\u001b[32m'Jan 2020'\u001b[0m\u001b[1m]\u001b[0m,\n",
       "    \u001b[32m'end_dates'\u001b[0m: \u001b[1m[\u001b[0m\u001b[32m'Ongoing'\u001b[0m\u001b[1m]\u001b[0m\n",
       "\u001b[1m}\u001b[0m\n"
      ]
     },
     "metadata": {},
     "output_type": "display_data"
    },
    {
     "data": {
      "text/html": [
       "<pre style=\"white-space:pre;overflow-x:auto;line-height:normal;font-family:Menlo,'DejaVu Sans Mono',consolas,'Courier New',monospace\"><span style=\"color: #800080; text-decoration-color: #800080; font-weight: bold\">ResumeFields</span><span style=\"font-weight: bold\">(</span>\n",
       "    <span style=\"color: #808000; text-decoration-color: #808000\">skills</span>=<span style=\"font-weight: bold\">[</span>\n",
       "        <span style=\"color: #800080; text-decoration-color: #800080; font-weight: bold\">Skill</span><span style=\"font-weight: bold\">(</span>\n",
       "            <span style=\"color: #808000; text-decoration-color: #808000\">skill</span>=<span style=\"color: #008000; text-decoration-color: #008000\">'Machine Learning'</span>,\n",
       "            <span style=\"color: #808000; text-decoration-color: #808000\">skill_type</span>=<span style=\"font-weight: bold\">&lt;</span><span style=\"color: #ff00ff; text-decoration-color: #ff00ff; font-weight: bold\">SkillType.TECHNICAL:</span><span style=\"color: #000000; text-decoration-color: #000000\"> </span><span style=\"color: #008000; text-decoration-color: #008000\">'technical'</span><span style=\"color: #000000; text-decoration-color: #000000\">&gt;,</span>\n",
       "<span style=\"color: #000000; text-decoration-color: #000000\">            </span><span style=\"color: #808000; text-decoration-color: #808000\">experience</span><span style=\"color: #000000; text-decoration-color: #000000\">=</span><span style=\"color: #800080; text-decoration-color: #800080; font-style: italic\">None</span><span style=\"color: #000000; text-decoration-color: #000000\">,</span>\n",
       "<span style=\"color: #000000; text-decoration-color: #000000\">            </span><span style=\"color: #808000; text-decoration-color: #808000\">is_required</span><span style=\"color: #000000; text-decoration-color: #000000\">=</span><span style=\"color: #00ff00; text-decoration-color: #00ff00; font-style: italic\">True</span>\n",
       "<span style=\"color: #000000; text-decoration-color: #000000\">        </span><span style=\"color: #000000; text-decoration-color: #000000; font-weight: bold\">)</span><span style=\"color: #000000; text-decoration-color: #000000\">,</span>\n",
       "<span style=\"color: #000000; text-decoration-color: #000000\">        </span><span style=\"color: #800080; text-decoration-color: #800080; font-weight: bold\">Skill</span><span style=\"color: #000000; text-decoration-color: #000000; font-weight: bold\">(</span>\n",
       "<span style=\"color: #000000; text-decoration-color: #000000\">            </span><span style=\"color: #808000; text-decoration-color: #808000\">skill</span><span style=\"color: #000000; text-decoration-color: #000000\">=</span><span style=\"color: #008000; text-decoration-color: #008000\">'Data Analytics'</span><span style=\"color: #000000; text-decoration-color: #000000\">,</span>\n",
       "<span style=\"color: #000000; text-decoration-color: #000000\">            </span><span style=\"color: #808000; text-decoration-color: #808000\">skill_type</span><span style=\"color: #000000; text-decoration-color: #000000\">=&lt;SkillType.TECHNICAL: </span><span style=\"color: #008000; text-decoration-color: #008000\">'technical'</span><span style=\"color: #000000; text-decoration-color: #000000\">&gt;,</span>\n",
       "<span style=\"color: #000000; text-decoration-color: #000000\">            </span><span style=\"color: #808000; text-decoration-color: #808000\">experience</span><span style=\"color: #000000; text-decoration-color: #000000\">=</span><span style=\"color: #800080; text-decoration-color: #800080; font-style: italic\">None</span><span style=\"color: #000000; text-decoration-color: #000000\">,</span>\n",
       "<span style=\"color: #000000; text-decoration-color: #000000\">            </span><span style=\"color: #808000; text-decoration-color: #808000\">is_required</span><span style=\"color: #000000; text-decoration-color: #000000\">=</span><span style=\"color: #00ff00; text-decoration-color: #00ff00; font-style: italic\">True</span>\n",
       "<span style=\"color: #000000; text-decoration-color: #000000\">        </span><span style=\"color: #000000; text-decoration-color: #000000; font-weight: bold\">)</span><span style=\"color: #000000; text-decoration-color: #000000\">,</span>\n",
       "<span style=\"color: #000000; text-decoration-color: #000000\">        </span><span style=\"color: #800080; text-decoration-color: #800080; font-weight: bold\">Skill</span><span style=\"color: #000000; text-decoration-color: #000000; font-weight: bold\">(</span>\n",
       "<span style=\"color: #000000; text-decoration-color: #000000\">            </span><span style=\"color: #808000; text-decoration-color: #808000\">skill</span><span style=\"color: #000000; text-decoration-color: #000000\">=</span><span style=\"color: #008000; text-decoration-color: #008000\">'Data Manipulation'</span><span style=\"color: #000000; text-decoration-color: #000000\">,</span>\n",
       "<span style=\"color: #000000; text-decoration-color: #000000\">            </span><span style=\"color: #808000; text-decoration-color: #808000\">skill_type</span><span style=\"color: #000000; text-decoration-color: #000000\">=&lt;SkillType.TECHNICAL: </span><span style=\"color: #008000; text-decoration-color: #008000\">'technical'</span><span style=\"color: #000000; text-decoration-color: #000000\">&gt;,</span>\n",
       "<span style=\"color: #000000; text-decoration-color: #000000\">            </span><span style=\"color: #808000; text-decoration-color: #808000\">experience</span><span style=\"color: #000000; text-decoration-color: #000000\">=</span><span style=\"color: #800080; text-decoration-color: #800080; font-style: italic\">None</span><span style=\"color: #000000; text-decoration-color: #000000\">,</span>\n",
       "<span style=\"color: #000000; text-decoration-color: #000000\">            </span><span style=\"color: #808000; text-decoration-color: #808000\">is_required</span><span style=\"color: #000000; text-decoration-color: #000000\">=</span><span style=\"color: #00ff00; text-decoration-color: #00ff00; font-style: italic\">True</span>\n",
       "<span style=\"color: #000000; text-decoration-color: #000000\">        </span><span style=\"color: #000000; text-decoration-color: #000000; font-weight: bold\">)</span><span style=\"color: #000000; text-decoration-color: #000000\">,</span>\n",
       "<span style=\"color: #000000; text-decoration-color: #000000\">        </span><span style=\"color: #800080; text-decoration-color: #800080; font-weight: bold\">Skill</span><span style=\"color: #000000; text-decoration-color: #000000; font-weight: bold\">(</span>\n",
       "<span style=\"color: #000000; text-decoration-color: #000000\">            </span><span style=\"color: #808000; text-decoration-color: #808000\">skill</span><span style=\"color: #000000; text-decoration-color: #000000\">=</span><span style=\"color: #008000; text-decoration-color: #008000\">'Data Mining'</span><span style=\"color: #000000; text-decoration-color: #000000\">,</span>\n",
       "<span style=\"color: #000000; text-decoration-color: #000000\">            </span><span style=\"color: #808000; text-decoration-color: #808000\">skill_type</span><span style=\"color: #000000; text-decoration-color: #000000\">=&lt;SkillType.TECHNICAL: </span><span style=\"color: #008000; text-decoration-color: #008000\">'technical'</span><span style=\"color: #000000; text-decoration-color: #000000\">&gt;,</span>\n",
       "<span style=\"color: #000000; text-decoration-color: #000000\">            </span><span style=\"color: #808000; text-decoration-color: #808000\">experience</span><span style=\"color: #000000; text-decoration-color: #000000\">=</span><span style=\"color: #800080; text-decoration-color: #800080; font-style: italic\">None</span><span style=\"color: #000000; text-decoration-color: #000000\">,</span>\n",
       "<span style=\"color: #000000; text-decoration-color: #000000\">            </span><span style=\"color: #808000; text-decoration-color: #808000\">is_required</span><span style=\"color: #000000; text-decoration-color: #000000\">=</span><span style=\"color: #00ff00; text-decoration-color: #00ff00; font-style: italic\">True</span>\n",
       "<span style=\"color: #000000; text-decoration-color: #000000\">        </span><span style=\"color: #000000; text-decoration-color: #000000; font-weight: bold\">)</span><span style=\"color: #000000; text-decoration-color: #000000\">,</span>\n",
       "<span style=\"color: #000000; text-decoration-color: #000000\">        </span><span style=\"color: #800080; text-decoration-color: #800080; font-weight: bold\">Skill</span><span style=\"color: #000000; text-decoration-color: #000000; font-weight: bold\">(</span>\n",
       "<span style=\"color: #000000; text-decoration-color: #000000\">            </span><span style=\"color: #808000; text-decoration-color: #808000\">skill</span><span style=\"color: #000000; text-decoration-color: #000000\">=</span><span style=\"color: #008000; text-decoration-color: #008000\">'Deep Learning'</span><span style=\"color: #000000; text-decoration-color: #000000\">,</span>\n",
       "<span style=\"color: #000000; text-decoration-color: #000000\">            </span><span style=\"color: #808000; text-decoration-color: #808000\">skill_type</span><span style=\"color: #000000; text-decoration-color: #000000\">=&lt;SkillType.TECHNICAL: </span><span style=\"color: #008000; text-decoration-color: #008000\">'technical'</span><span style=\"color: #000000; text-decoration-color: #000000\">&gt;,</span>\n",
       "<span style=\"color: #000000; text-decoration-color: #000000\">            </span><span style=\"color: #808000; text-decoration-color: #808000\">experience</span><span style=\"color: #000000; text-decoration-color: #000000\">=</span><span style=\"color: #800080; text-decoration-color: #800080; font-style: italic\">None</span><span style=\"color: #000000; text-decoration-color: #000000\">,</span>\n",
       "<span style=\"color: #000000; text-decoration-color: #000000\">            </span><span style=\"color: #808000; text-decoration-color: #808000\">is_required</span><span style=\"color: #000000; text-decoration-color: #000000\">=</span><span style=\"color: #00ff00; text-decoration-color: #00ff00; font-style: italic\">True</span>\n",
       "<span style=\"color: #000000; text-decoration-color: #000000\">        </span><span style=\"color: #000000; text-decoration-color: #000000; font-weight: bold\">)</span><span style=\"color: #000000; text-decoration-color: #000000\">,</span>\n",
       "<span style=\"color: #000000; text-decoration-color: #000000\">        </span><span style=\"color: #800080; text-decoration-color: #800080; font-weight: bold\">Skill</span><span style=\"color: #000000; text-decoration-color: #000000; font-weight: bold\">(</span>\n",
       "<span style=\"color: #000000; text-decoration-color: #000000\">            </span><span style=\"color: #808000; text-decoration-color: #808000\">skill</span><span style=\"color: #000000; text-decoration-color: #000000\">=</span><span style=\"color: #008000; text-decoration-color: #008000\">'Algorithms'</span><span style=\"color: #000000; text-decoration-color: #000000\">,</span>\n",
       "<span style=\"color: #000000; text-decoration-color: #000000\">            </span><span style=\"color: #808000; text-decoration-color: #808000\">skill_type</span><span style=\"color: #000000; text-decoration-color: #000000\">=&lt;SkillType.TECHNICAL: </span><span style=\"color: #008000; text-decoration-color: #008000\">'technical'</span><span style=\"color: #000000; text-decoration-color: #000000\">&gt;,</span>\n",
       "<span style=\"color: #000000; text-decoration-color: #000000\">            </span><span style=\"color: #808000; text-decoration-color: #808000\">experience</span><span style=\"color: #000000; text-decoration-color: #000000\">=</span><span style=\"color: #800080; text-decoration-color: #800080; font-style: italic\">None</span><span style=\"color: #000000; text-decoration-color: #000000\">,</span>\n",
       "<span style=\"color: #000000; text-decoration-color: #000000\">            </span><span style=\"color: #808000; text-decoration-color: #808000\">is_required</span><span style=\"color: #000000; text-decoration-color: #000000\">=</span><span style=\"color: #00ff00; text-decoration-color: #00ff00; font-style: italic\">True</span>\n",
       "<span style=\"color: #000000; text-decoration-color: #000000\">        </span><span style=\"color: #000000; text-decoration-color: #000000; font-weight: bold\">)</span><span style=\"color: #000000; text-decoration-color: #000000\">,</span>\n",
       "<span style=\"color: #000000; text-decoration-color: #000000\">        </span><span style=\"color: #800080; text-decoration-color: #800080; font-weight: bold\">Skill</span><span style=\"color: #000000; text-decoration-color: #000000; font-weight: bold\">(</span><span style=\"color: #808000; text-decoration-color: #808000\">skill</span><span style=\"color: #000000; text-decoration-color: #000000\">=</span><span style=\"color: #008000; text-decoration-color: #008000\">'Selenium'</span><span style=\"color: #000000; text-decoration-color: #000000\">, </span><span style=\"color: #808000; text-decoration-color: #808000\">skill_type</span><span style=\"color: #000000; text-decoration-color: #000000\">=&lt;SkillType.TECHNICAL: </span><span style=\"color: #008000; text-decoration-color: #008000\">'technical'</span><span style=\"color: #000000; text-decoration-color: #000000\">&gt;, </span><span style=\"color: #808000; text-decoration-color: #808000\">experience</span><span style=\"color: #000000; text-decoration-color: #000000\">=</span><span style=\"color: #800080; text-decoration-color: #800080; font-style: italic\">None</span><span style=\"color: #000000; text-decoration-color: #000000\">, </span><span style=\"color: #808000; text-decoration-color: #808000\">is_required</span><span style=\"color: #000000; text-decoration-color: #000000\">=</span><span style=\"color: #00ff00; text-decoration-color: #00ff00; font-style: italic\">True</span><span style=\"color: #000000; text-decoration-color: #000000; font-weight: bold\">)</span><span style=\"color: #000000; text-decoration-color: #000000\">,</span>\n",
       "<span style=\"color: #000000; text-decoration-color: #000000\">        </span><span style=\"color: #800080; text-decoration-color: #800080; font-weight: bold\">Skill</span><span style=\"color: #000000; text-decoration-color: #000000; font-weight: bold\">(</span><span style=\"color: #808000; text-decoration-color: #808000\">skill</span><span style=\"color: #000000; text-decoration-color: #000000\">=</span><span style=\"color: #008000; text-decoration-color: #008000\">'Jenkins'</span><span style=\"color: #000000; text-decoration-color: #000000\">, </span><span style=\"color: #808000; text-decoration-color: #808000\">skill_type</span><span style=\"color: #000000; text-decoration-color: #000000\">=&lt;SkillType.TECHNICAL: </span><span style=\"color: #008000; text-decoration-color: #008000\">'technical'</span><span style=\"color: #000000; text-decoration-color: #000000\">&gt;, </span><span style=\"color: #808000; text-decoration-color: #808000\">experience</span><span style=\"color: #000000; text-decoration-color: #000000\">=</span><span style=\"color: #800080; text-decoration-color: #800080; font-style: italic\">None</span><span style=\"color: #000000; text-decoration-color: #000000\">, </span><span style=\"color: #808000; text-decoration-color: #808000\">is_required</span><span style=\"color: #000000; text-decoration-color: #000000\">=</span><span style=\"color: #00ff00; text-decoration-color: #00ff00; font-style: italic\">True</span><span style=\"color: #000000; text-decoration-color: #000000; font-weight: bold\">)</span><span style=\"color: #000000; text-decoration-color: #000000\">,</span>\n",
       "<span style=\"color: #000000; text-decoration-color: #000000\">        </span><span style=\"color: #800080; text-decoration-color: #800080; font-weight: bold\">Skill</span><span style=\"color: #000000; text-decoration-color: #000000; font-weight: bold\">(</span><span style=\"color: #808000; text-decoration-color: #808000\">skill</span><span style=\"color: #000000; text-decoration-color: #000000\">=</span><span style=\"color: #008000; text-decoration-color: #008000\">'Python'</span><span style=\"color: #000000; text-decoration-color: #000000\">, </span><span style=\"color: #808000; text-decoration-color: #808000\">skill_type</span><span style=\"color: #000000; text-decoration-color: #000000\">=&lt;SkillType.TECHNICAL: </span><span style=\"color: #008000; text-decoration-color: #008000\">'technical'</span><span style=\"color: #000000; text-decoration-color: #000000\">&gt;, </span><span style=\"color: #808000; text-decoration-color: #808000\">experience</span><span style=\"color: #000000; text-decoration-color: #000000\">=</span><span style=\"color: #800080; text-decoration-color: #800080; font-style: italic\">None</span><span style=\"color: #000000; text-decoration-color: #000000\">, </span><span style=\"color: #808000; text-decoration-color: #808000\">is_required</span><span style=\"color: #000000; text-decoration-color: #000000\">=</span><span style=\"color: #00ff00; text-decoration-color: #00ff00; font-style: italic\">True</span><span style=\"color: #000000; text-decoration-color: #000000; font-weight: bold\">)</span><span style=\"color: #000000; text-decoration-color: #000000\">,</span>\n",
       "<span style=\"color: #000000; text-decoration-color: #000000\">        </span><span style=\"color: #800080; text-decoration-color: #800080; font-weight: bold\">Skill</span><span style=\"color: #000000; text-decoration-color: #000000; font-weight: bold\">(</span><span style=\"color: #808000; text-decoration-color: #808000\">skill</span><span style=\"color: #000000; text-decoration-color: #000000\">=</span><span style=\"color: #008000; text-decoration-color: #008000\">'Java'</span><span style=\"color: #000000; text-decoration-color: #000000\">, </span><span style=\"color: #808000; text-decoration-color: #808000\">skill_type</span><span style=\"color: #000000; text-decoration-color: #000000\">=&lt;SkillType.TECHNICAL: </span><span style=\"color: #008000; text-decoration-color: #008000\">'technical'</span><span style=\"color: #000000; text-decoration-color: #000000\">&gt;, </span><span style=\"color: #808000; text-decoration-color: #808000\">experience</span><span style=\"color: #000000; text-decoration-color: #000000\">=</span><span style=\"color: #800080; text-decoration-color: #800080; font-style: italic\">None</span><span style=\"color: #000000; text-decoration-color: #000000\">, </span><span style=\"color: #808000; text-decoration-color: #808000\">is_required</span><span style=\"color: #000000; text-decoration-color: #000000\">=</span><span style=\"color: #00ff00; text-decoration-color: #00ff00; font-style: italic\">True</span><span style=\"color: #000000; text-decoration-color: #000000; font-weight: bold\">)</span><span style=\"color: #000000; text-decoration-color: #000000\">,</span>\n",
       "<span style=\"color: #000000; text-decoration-color: #000000\">        </span><span style=\"color: #800080; text-decoration-color: #800080; font-weight: bold\">Skill</span><span style=\"color: #000000; text-decoration-color: #000000; font-weight: bold\">(</span><span style=\"color: #808000; text-decoration-color: #808000\">skill</span><span style=\"color: #000000; text-decoration-color: #000000\">=</span><span style=\"color: #008000; text-decoration-color: #008000\">'SQL'</span><span style=\"color: #000000; text-decoration-color: #000000\">, </span><span style=\"color: #808000; text-decoration-color: #808000\">skill_type</span><span style=\"color: #000000; text-decoration-color: #000000\">=&lt;SkillType.TECHNICAL: </span><span style=\"color: #008000; text-decoration-color: #008000\">'technical'</span><span style=\"color: #000000; text-decoration-color: #000000\">&gt;, </span><span style=\"color: #808000; text-decoration-color: #808000\">experience</span><span style=\"color: #000000; text-decoration-color: #000000\">=</span><span style=\"color: #800080; text-decoration-color: #800080; font-style: italic\">None</span><span style=\"color: #000000; text-decoration-color: #000000\">, </span><span style=\"color: #808000; text-decoration-color: #808000\">is_required</span><span style=\"color: #000000; text-decoration-color: #000000\">=</span><span style=\"color: #00ff00; text-decoration-color: #00ff00; font-style: italic\">True</span><span style=\"color: #000000; text-decoration-color: #000000; font-weight: bold\">)</span><span style=\"color: #000000; text-decoration-color: #000000\">,</span>\n",
       "<span style=\"color: #000000; text-decoration-color: #000000\">        </span><span style=\"color: #800080; text-decoration-color: #800080; font-weight: bold\">Skill</span><span style=\"color: #000000; text-decoration-color: #000000; font-weight: bold\">(</span>\n",
       "<span style=\"color: #000000; text-decoration-color: #000000\">            </span><span style=\"color: #808000; text-decoration-color: #808000\">skill</span><span style=\"color: #000000; text-decoration-color: #000000\">=</span><span style=\"color: #008000; text-decoration-color: #008000\">'Quality Control'</span><span style=\"color: #000000; text-decoration-color: #000000\">,</span>\n",
       "<span style=\"color: #000000; text-decoration-color: #000000\">            </span><span style=\"color: #808000; text-decoration-color: #808000\">skill_type</span><span style=\"color: #000000; text-decoration-color: #000000\">=&lt;SkillType.TECHNICAL: </span><span style=\"color: #008000; text-decoration-color: #008000\">'technical'</span><span style=\"font-weight: bold\">&gt;</span>,\n",
       "            <span style=\"color: #808000; text-decoration-color: #808000\">experience</span>=<span style=\"color: #800080; text-decoration-color: #800080; font-style: italic\">None</span>,\n",
       "            <span style=\"color: #808000; text-decoration-color: #808000\">is_required</span>=<span style=\"color: #00ff00; text-decoration-color: #00ff00; font-style: italic\">True</span>\n",
       "        <span style=\"font-weight: bold\">)</span>\n",
       "    <span style=\"font-weight: bold\">]</span>,\n",
       "    <span style=\"color: #808000; text-decoration-color: #808000\">experiences</span>=<span style=\"font-weight: bold\">[</span>\n",
       "        <span style=\"color: #800080; text-decoration-color: #800080; font-weight: bold\">Experience</span><span style=\"font-weight: bold\">(</span><span style=\"color: #808000; text-decoration-color: #808000\">experience</span>=<span style=\"color: #008000; text-decoration-color: #008000\">'5 years of experience in Debugging'</span>, <span style=\"color: #808000; text-decoration-color: #808000\">is_required</span>=<span style=\"color: #00ff00; text-decoration-color: #00ff00; font-style: italic\">True</span><span style=\"font-weight: bold\">)</span>,\n",
       "        <span style=\"color: #800080; text-decoration-color: #800080; font-weight: bold\">Experience</span><span style=\"font-weight: bold\">(</span><span style=\"color: #808000; text-decoration-color: #808000\">experience</span>=<span style=\"color: #008000; text-decoration-color: #008000\">'5 years of experience in Parameter Tuning'</span>, <span style=\"color: #808000; text-decoration-color: #808000\">is_required</span>=<span style=\"color: #00ff00; text-decoration-color: #00ff00; font-style: italic\">True</span><span style=\"font-weight: bold\">)</span>,\n",
       "        <span style=\"color: #800080; text-decoration-color: #800080; font-weight: bold\">Experience</span><span style=\"font-weight: bold\">(</span><span style=\"color: #808000; text-decoration-color: #808000\">experience</span>=<span style=\"color: #008000; text-decoration-color: #008000\">'5 years of experience in Testing'</span>, <span style=\"color: #808000; text-decoration-color: #808000\">is_required</span>=<span style=\"color: #00ff00; text-decoration-color: #00ff00; font-style: italic\">True</span><span style=\"font-weight: bold\">)</span>\n",
       "    <span style=\"font-weight: bold\">]</span>,\n",
       "    <span style=\"color: #808000; text-decoration-color: #808000\">qualifications</span>=<span style=\"font-weight: bold\">[</span>\n",
       "        <span style=\"color: #800080; text-decoration-color: #800080; font-weight: bold\">Qualification</span><span style=\"font-weight: bold\">(</span>\n",
       "            <span style=\"color: #808000; text-decoration-color: #808000\">degree</span>=<span style=\"color: #008000; text-decoration-color: #008000\">'B.Tech in Information Technology from National Institute Of Science And Technology, Rourkela'</span>,\n",
       "            <span style=\"color: #808000; text-decoration-color: #808000\">is_required</span>=<span style=\"color: #00ff00; text-decoration-color: #00ff00; font-style: italic\">True</span>\n",
       "        <span style=\"font-weight: bold\">)</span>\n",
       "    <span style=\"font-weight: bold\">]</span>,\n",
       "    <span style=\"color: #808000; text-decoration-color: #808000\">personality_traits</span>=<span style=\"font-weight: bold\">[]</span>\n",
       "<span style=\"font-weight: bold\">)</span>\n",
       "</pre>\n"
      ],
      "text/plain": [
       "\u001b[1;35mResumeFields\u001b[0m\u001b[1m(\u001b[0m\n",
       "    \u001b[33mskills\u001b[0m=\u001b[1m[\u001b[0m\n",
       "        \u001b[1;35mSkill\u001b[0m\u001b[1m(\u001b[0m\n",
       "            \u001b[33mskill\u001b[0m=\u001b[32m'Machine Learning'\u001b[0m,\n",
       "            \u001b[33mskill_type\u001b[0m=\u001b[1m<\u001b[0m\u001b[1;95mSkillType.TECHNICAL:\u001b[0m\u001b[39m \u001b[0m\u001b[32m'technical'\u001b[0m\u001b[39m>,\u001b[0m\n",
       "\u001b[39m            \u001b[0m\u001b[33mexperience\u001b[0m\u001b[39m=\u001b[0m\u001b[3;35mNone\u001b[0m\u001b[39m,\u001b[0m\n",
       "\u001b[39m            \u001b[0m\u001b[33mis_required\u001b[0m\u001b[39m=\u001b[0m\u001b[3;92mTrue\u001b[0m\n",
       "\u001b[39m        \u001b[0m\u001b[1;39m)\u001b[0m\u001b[39m,\u001b[0m\n",
       "\u001b[39m        \u001b[0m\u001b[1;35mSkill\u001b[0m\u001b[1;39m(\u001b[0m\n",
       "\u001b[39m            \u001b[0m\u001b[33mskill\u001b[0m\u001b[39m=\u001b[0m\u001b[32m'Data Analytics'\u001b[0m\u001b[39m,\u001b[0m\n",
       "\u001b[39m            \u001b[0m\u001b[33mskill_type\u001b[0m\u001b[39m=<SkillType.TECHNICAL: \u001b[0m\u001b[32m'technical'\u001b[0m\u001b[39m>,\u001b[0m\n",
       "\u001b[39m            \u001b[0m\u001b[33mexperience\u001b[0m\u001b[39m=\u001b[0m\u001b[3;35mNone\u001b[0m\u001b[39m,\u001b[0m\n",
       "\u001b[39m            \u001b[0m\u001b[33mis_required\u001b[0m\u001b[39m=\u001b[0m\u001b[3;92mTrue\u001b[0m\n",
       "\u001b[39m        \u001b[0m\u001b[1;39m)\u001b[0m\u001b[39m,\u001b[0m\n",
       "\u001b[39m        \u001b[0m\u001b[1;35mSkill\u001b[0m\u001b[1;39m(\u001b[0m\n",
       "\u001b[39m            \u001b[0m\u001b[33mskill\u001b[0m\u001b[39m=\u001b[0m\u001b[32m'Data Manipulation'\u001b[0m\u001b[39m,\u001b[0m\n",
       "\u001b[39m            \u001b[0m\u001b[33mskill_type\u001b[0m\u001b[39m=<SkillType.TECHNICAL: \u001b[0m\u001b[32m'technical'\u001b[0m\u001b[39m>,\u001b[0m\n",
       "\u001b[39m            \u001b[0m\u001b[33mexperience\u001b[0m\u001b[39m=\u001b[0m\u001b[3;35mNone\u001b[0m\u001b[39m,\u001b[0m\n",
       "\u001b[39m            \u001b[0m\u001b[33mis_required\u001b[0m\u001b[39m=\u001b[0m\u001b[3;92mTrue\u001b[0m\n",
       "\u001b[39m        \u001b[0m\u001b[1;39m)\u001b[0m\u001b[39m,\u001b[0m\n",
       "\u001b[39m        \u001b[0m\u001b[1;35mSkill\u001b[0m\u001b[1;39m(\u001b[0m\n",
       "\u001b[39m            \u001b[0m\u001b[33mskill\u001b[0m\u001b[39m=\u001b[0m\u001b[32m'Data Mining'\u001b[0m\u001b[39m,\u001b[0m\n",
       "\u001b[39m            \u001b[0m\u001b[33mskill_type\u001b[0m\u001b[39m=<SkillType.TECHNICAL: \u001b[0m\u001b[32m'technical'\u001b[0m\u001b[39m>,\u001b[0m\n",
       "\u001b[39m            \u001b[0m\u001b[33mexperience\u001b[0m\u001b[39m=\u001b[0m\u001b[3;35mNone\u001b[0m\u001b[39m,\u001b[0m\n",
       "\u001b[39m            \u001b[0m\u001b[33mis_required\u001b[0m\u001b[39m=\u001b[0m\u001b[3;92mTrue\u001b[0m\n",
       "\u001b[39m        \u001b[0m\u001b[1;39m)\u001b[0m\u001b[39m,\u001b[0m\n",
       "\u001b[39m        \u001b[0m\u001b[1;35mSkill\u001b[0m\u001b[1;39m(\u001b[0m\n",
       "\u001b[39m            \u001b[0m\u001b[33mskill\u001b[0m\u001b[39m=\u001b[0m\u001b[32m'Deep Learning'\u001b[0m\u001b[39m,\u001b[0m\n",
       "\u001b[39m            \u001b[0m\u001b[33mskill_type\u001b[0m\u001b[39m=<SkillType.TECHNICAL: \u001b[0m\u001b[32m'technical'\u001b[0m\u001b[39m>,\u001b[0m\n",
       "\u001b[39m            \u001b[0m\u001b[33mexperience\u001b[0m\u001b[39m=\u001b[0m\u001b[3;35mNone\u001b[0m\u001b[39m,\u001b[0m\n",
       "\u001b[39m            \u001b[0m\u001b[33mis_required\u001b[0m\u001b[39m=\u001b[0m\u001b[3;92mTrue\u001b[0m\n",
       "\u001b[39m        \u001b[0m\u001b[1;39m)\u001b[0m\u001b[39m,\u001b[0m\n",
       "\u001b[39m        \u001b[0m\u001b[1;35mSkill\u001b[0m\u001b[1;39m(\u001b[0m\n",
       "\u001b[39m            \u001b[0m\u001b[33mskill\u001b[0m\u001b[39m=\u001b[0m\u001b[32m'Algorithms'\u001b[0m\u001b[39m,\u001b[0m\n",
       "\u001b[39m            \u001b[0m\u001b[33mskill_type\u001b[0m\u001b[39m=<SkillType.TECHNICAL: \u001b[0m\u001b[32m'technical'\u001b[0m\u001b[39m>,\u001b[0m\n",
       "\u001b[39m            \u001b[0m\u001b[33mexperience\u001b[0m\u001b[39m=\u001b[0m\u001b[3;35mNone\u001b[0m\u001b[39m,\u001b[0m\n",
       "\u001b[39m            \u001b[0m\u001b[33mis_required\u001b[0m\u001b[39m=\u001b[0m\u001b[3;92mTrue\u001b[0m\n",
       "\u001b[39m        \u001b[0m\u001b[1;39m)\u001b[0m\u001b[39m,\u001b[0m\n",
       "\u001b[39m        \u001b[0m\u001b[1;35mSkill\u001b[0m\u001b[1;39m(\u001b[0m\u001b[33mskill\u001b[0m\u001b[39m=\u001b[0m\u001b[32m'Selenium'\u001b[0m\u001b[39m, \u001b[0m\u001b[33mskill_type\u001b[0m\u001b[39m=<SkillType.TECHNICAL: \u001b[0m\u001b[32m'technical'\u001b[0m\u001b[39m>, \u001b[0m\u001b[33mexperience\u001b[0m\u001b[39m=\u001b[0m\u001b[3;35mNone\u001b[0m\u001b[39m, \u001b[0m\u001b[33mis_required\u001b[0m\u001b[39m=\u001b[0m\u001b[3;92mTrue\u001b[0m\u001b[1;39m)\u001b[0m\u001b[39m,\u001b[0m\n",
       "\u001b[39m        \u001b[0m\u001b[1;35mSkill\u001b[0m\u001b[1;39m(\u001b[0m\u001b[33mskill\u001b[0m\u001b[39m=\u001b[0m\u001b[32m'Jenkins'\u001b[0m\u001b[39m, \u001b[0m\u001b[33mskill_type\u001b[0m\u001b[39m=<SkillType.TECHNICAL: \u001b[0m\u001b[32m'technical'\u001b[0m\u001b[39m>, \u001b[0m\u001b[33mexperience\u001b[0m\u001b[39m=\u001b[0m\u001b[3;35mNone\u001b[0m\u001b[39m, \u001b[0m\u001b[33mis_required\u001b[0m\u001b[39m=\u001b[0m\u001b[3;92mTrue\u001b[0m\u001b[1;39m)\u001b[0m\u001b[39m,\u001b[0m\n",
       "\u001b[39m        \u001b[0m\u001b[1;35mSkill\u001b[0m\u001b[1;39m(\u001b[0m\u001b[33mskill\u001b[0m\u001b[39m=\u001b[0m\u001b[32m'Python'\u001b[0m\u001b[39m, \u001b[0m\u001b[33mskill_type\u001b[0m\u001b[39m=<SkillType.TECHNICAL: \u001b[0m\u001b[32m'technical'\u001b[0m\u001b[39m>, \u001b[0m\u001b[33mexperience\u001b[0m\u001b[39m=\u001b[0m\u001b[3;35mNone\u001b[0m\u001b[39m, \u001b[0m\u001b[33mis_required\u001b[0m\u001b[39m=\u001b[0m\u001b[3;92mTrue\u001b[0m\u001b[1;39m)\u001b[0m\u001b[39m,\u001b[0m\n",
       "\u001b[39m        \u001b[0m\u001b[1;35mSkill\u001b[0m\u001b[1;39m(\u001b[0m\u001b[33mskill\u001b[0m\u001b[39m=\u001b[0m\u001b[32m'Java'\u001b[0m\u001b[39m, \u001b[0m\u001b[33mskill_type\u001b[0m\u001b[39m=<SkillType.TECHNICAL: \u001b[0m\u001b[32m'technical'\u001b[0m\u001b[39m>, \u001b[0m\u001b[33mexperience\u001b[0m\u001b[39m=\u001b[0m\u001b[3;35mNone\u001b[0m\u001b[39m, \u001b[0m\u001b[33mis_required\u001b[0m\u001b[39m=\u001b[0m\u001b[3;92mTrue\u001b[0m\u001b[1;39m)\u001b[0m\u001b[39m,\u001b[0m\n",
       "\u001b[39m        \u001b[0m\u001b[1;35mSkill\u001b[0m\u001b[1;39m(\u001b[0m\u001b[33mskill\u001b[0m\u001b[39m=\u001b[0m\u001b[32m'SQL'\u001b[0m\u001b[39m, \u001b[0m\u001b[33mskill_type\u001b[0m\u001b[39m=<SkillType.TECHNICAL: \u001b[0m\u001b[32m'technical'\u001b[0m\u001b[39m>, \u001b[0m\u001b[33mexperience\u001b[0m\u001b[39m=\u001b[0m\u001b[3;35mNone\u001b[0m\u001b[39m, \u001b[0m\u001b[33mis_required\u001b[0m\u001b[39m=\u001b[0m\u001b[3;92mTrue\u001b[0m\u001b[1;39m)\u001b[0m\u001b[39m,\u001b[0m\n",
       "\u001b[39m        \u001b[0m\u001b[1;35mSkill\u001b[0m\u001b[1;39m(\u001b[0m\n",
       "\u001b[39m            \u001b[0m\u001b[33mskill\u001b[0m\u001b[39m=\u001b[0m\u001b[32m'Quality Control'\u001b[0m\u001b[39m,\u001b[0m\n",
       "\u001b[39m            \u001b[0m\u001b[33mskill_type\u001b[0m\u001b[39m=<SkillType.TECHNICAL: \u001b[0m\u001b[32m'technical'\u001b[0m\u001b[1m>\u001b[0m,\n",
       "            \u001b[33mexperience\u001b[0m=\u001b[3;35mNone\u001b[0m,\n",
       "            \u001b[33mis_required\u001b[0m=\u001b[3;92mTrue\u001b[0m\n",
       "        \u001b[1m)\u001b[0m\n",
       "    \u001b[1m]\u001b[0m,\n",
       "    \u001b[33mexperiences\u001b[0m=\u001b[1m[\u001b[0m\n",
       "        \u001b[1;35mExperience\u001b[0m\u001b[1m(\u001b[0m\u001b[33mexperience\u001b[0m=\u001b[32m'5 years of experience in Debugging'\u001b[0m, \u001b[33mis_required\u001b[0m=\u001b[3;92mTrue\u001b[0m\u001b[1m)\u001b[0m,\n",
       "        \u001b[1;35mExperience\u001b[0m\u001b[1m(\u001b[0m\u001b[33mexperience\u001b[0m=\u001b[32m'5 years of experience in Parameter Tuning'\u001b[0m, \u001b[33mis_required\u001b[0m=\u001b[3;92mTrue\u001b[0m\u001b[1m)\u001b[0m,\n",
       "        \u001b[1;35mExperience\u001b[0m\u001b[1m(\u001b[0m\u001b[33mexperience\u001b[0m=\u001b[32m'5 years of experience in Testing'\u001b[0m, \u001b[33mis_required\u001b[0m=\u001b[3;92mTrue\u001b[0m\u001b[1m)\u001b[0m\n",
       "    \u001b[1m]\u001b[0m,\n",
       "    \u001b[33mqualifications\u001b[0m=\u001b[1m[\u001b[0m\n",
       "        \u001b[1;35mQualification\u001b[0m\u001b[1m(\u001b[0m\n",
       "            \u001b[33mdegree\u001b[0m=\u001b[32m'B.Tech in Information Technology from National Institute Of Science And Technology, Rourkela'\u001b[0m,\n",
       "            \u001b[33mis_required\u001b[0m=\u001b[3;92mTrue\u001b[0m\n",
       "        \u001b[1m)\u001b[0m\n",
       "    \u001b[1m]\u001b[0m,\n",
       "    \u001b[33mpersonality_traits\u001b[0m=\u001b[1m[\u001b[0m\u001b[1m]\u001b[0m\n",
       "\u001b[1m)\u001b[0m\n"
      ]
     },
     "metadata": {},
     "output_type": "display_data"
    }
   ],
   "source": [
    "from rich import print as rprint\n",
    "index = 5600\n",
    "rprint(resumes.loc[index][required_columns+[\"start_dates\",\"end_dates\"]].to_dict())\n",
    "with open(f'./outputs/candidates/{index}.pkl', 'rb') as f:\n",
    "    tmp = pickle.load(f)\n",
    "rprint(tmp)"
   ]
  }
 ],
 "metadata": {
  "environment": {
   "kernel": "conda-base-py",
   "name": "workbench-notebooks.m127",
   "type": "gcloud",
   "uri": "us-docker.pkg.dev/deeplearning-platform-release/gcr.io/workbench-notebooks:m127"
  },
  "kernelspec": {
   "display_name": "Python 3 (ipykernel) (Local)",
   "language": "python",
   "name": "conda-base-py"
  },
  "language_info": {
   "codemirror_mode": {
    "name": "ipython",
    "version": 3
   },
   "file_extension": ".py",
   "mimetype": "text/x-python",
   "name": "python",
   "nbconvert_exporter": "python",
   "pygments_lexer": "ipython3",
   "version": "3.10.16"
  }
 },
 "nbformat": 4,
 "nbformat_minor": 5
}
