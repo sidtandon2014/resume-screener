{
 "cells": [
  {
   "cell_type": "code",
   "execution_count": 1,
   "id": "6bad886d-bbb0-472d-9593-5ff6acfe7c2b",
   "metadata": {},
   "outputs": [],
   "source": [
    "# !pip install -qU \"langchain[google-vertexai]\""
   ]
  },
  {
   "cell_type": "code",
   "execution_count": 2,
   "id": "1b8dcba6-1f8b-4f29-b807-2e8556a26cc9",
   "metadata": {},
   "outputs": [],
   "source": [
    "from typing import Optional, List\n",
    "from pydantic import BaseModel, Field\n",
    "from enum import Enum\n",
    "from model import ResumeFields\n",
    "from langchain.chat_models import init_chat_model"
   ]
  },
  {
   "cell_type": "code",
   "execution_count": 3,
   "id": "e5d8d120-1439-4221-9f1b-449f13bac54b",
   "metadata": {},
   "outputs": [],
   "source": [
    "f = open(\"./data/linkedin_cv.txt\", \"r\")\n",
    "linkedin_target_resume = f.read()"
   ]
  },
  {
   "cell_type": "code",
   "execution_count": 4,
   "id": "d4245c2e-d475-4390-8ad1-8d333f00b5ee",
   "metadata": {},
   "outputs": [],
   "source": [
    "llm = init_chat_model(\"gemini-2.0-flash-001\", model_provider=\"google_vertexai\", temperature = 0.3)"
   ]
  },
  {
   "cell_type": "code",
   "execution_count": 5,
   "id": "182611e8-b73e-439d-b9a7-d0acaf78c08f",
   "metadata": {},
   "outputs": [],
   "source": [
    "system_prompt = \"\"\"\n",
    "You are a highly skilled AI assistant specializing in analyzing job descriptions and extracting key requirements. Your goal is to meticulously identify and categorize the essential skills, qualifications, experience, and other attributes sought by employers.\n",
    "\n",
    "**Your Task:**\n",
    "\n",
    "Given a job description as input, extract the required fields based on schema into a structured format. Be comprehensive and specific, avoiding vague or generic terms.\n",
    "\n",
    "**Instructions:**\n",
    "\n",
    "1.  **Read the job description carefully and thoroughly.**\n",
    "2.  **Focus on explicitly stated requirements.**  Infer requirements only when strongly implied and directly supported by the text.\n",
    "3.  **Be specific and detailed.** Avoid generalizations. For example, instead of \"programming skills,\" specify \"Proficiency in Python and Java.\"\n",
    "4.  **Prioritize \"must-have\" requirements.**  Distinguish between essential requirements and desired or \"nice-to-have\" qualifications if the job description makes that distinction. \n",
    "5.  **Maintain accuracy.**  Do not add information that is not present in the job description.\n",
    "6.  **Conciseness is important,** but don't sacrifice accuracy or completeness.\n",
    "\"\"\""
   ]
  },
  {
   "cell_type": "code",
   "execution_count": 6,
   "id": "894c5af5-74ea-4e0d-9d21-916d1196995c",
   "metadata": {},
   "outputs": [],
   "source": [
    "from langchain_core.prompts import ChatPromptTemplate, MessagesPlaceholder\n",
    "\n",
    "prompt = ChatPromptTemplate.from_messages(\n",
    "    [\n",
    "        (\n",
    "            \"system\",\n",
    "            system_prompt\n",
    "        ),\n",
    "        (\"human\", \"{text}\"),\n",
    "    ]\n",
    ")"
   ]
  },
  {
   "cell_type": "code",
   "execution_count": 7,
   "id": "37b47b6e-ea13-4d82-bf75-75a3c68a2968",
   "metadata": {},
   "outputs": [
    {
     "name": "stderr",
     "output_type": "stream",
     "text": [
      "Key '$defs' is not supported in schema, ignoring\n"
     ]
    }
   ],
   "source": [
    "runnable = prompt | llm.with_structured_output(\n",
    "    schema=ResumeFields\n",
    ")\n",
    "\n",
    "fields = runnable.invoke({\"text\": (\n",
    "    f\"{linkedin_target_resume}\"\n",
    "    \"Extract all the relevant fields from the text given\"\n",
    ")})"
   ]
  },
  {
   "cell_type": "code",
   "execution_count": 8,
   "id": "73c152f7-9ebe-486a-b7a7-d851ad642977",
   "metadata": {},
   "outputs": [
    {
     "data": {
      "text/html": [
       "<pre style=\"white-space:pre;overflow-x:auto;line-height:normal;font-family:Menlo,'DejaVu Sans Mono',consolas,'Courier New',monospace\"><span style=\"color: #800080; text-decoration-color: #800080; font-weight: bold\">ResumeFields</span><span style=\"font-weight: bold\">(</span>\n",
       "    <span style=\"color: #808000; text-decoration-color: #808000\">skills</span>=<span style=\"font-weight: bold\">[</span>\n",
       "        <span style=\"color: #800080; text-decoration-color: #800080; font-weight: bold\">Skill</span><span style=\"font-weight: bold\">(</span><span style=\"color: #808000; text-decoration-color: #808000\">skill</span>=<span style=\"color: #008000; text-decoration-color: #008000\">'Java'</span>, <span style=\"color: #808000; text-decoration-color: #808000\">skill_type</span>=<span style=\"font-weight: bold\">&lt;</span><span style=\"color: #ff00ff; text-decoration-color: #ff00ff; font-weight: bold\">SkillType.TECHNICAL:</span><span style=\"color: #000000; text-decoration-color: #000000\"> </span><span style=\"color: #008000; text-decoration-color: #008000\">'technical'</span><span style=\"color: #000000; text-decoration-color: #000000\">&gt;, </span><span style=\"color: #808000; text-decoration-color: #808000\">experience</span><span style=\"color: #000000; text-decoration-color: #000000\">=</span><span style=\"color: #800080; text-decoration-color: #800080; font-style: italic\">None</span><span style=\"color: #000000; text-decoration-color: #000000\">, </span><span style=\"color: #808000; text-decoration-color: #808000\">is_required</span><span style=\"color: #000000; text-decoration-color: #000000\">=</span><span style=\"color: #00ff00; text-decoration-color: #00ff00; font-style: italic\">True</span><span style=\"color: #000000; text-decoration-color: #000000; font-weight: bold\">)</span><span style=\"color: #000000; text-decoration-color: #000000\">,</span>\n",
       "<span style=\"color: #000000; text-decoration-color: #000000\">        </span><span style=\"color: #800080; text-decoration-color: #800080; font-weight: bold\">Skill</span><span style=\"color: #000000; text-decoration-color: #000000; font-weight: bold\">(</span><span style=\"color: #808000; text-decoration-color: #808000\">skill</span><span style=\"color: #000000; text-decoration-color: #000000\">=</span><span style=\"color: #008000; text-decoration-color: #008000\">'Python'</span><span style=\"color: #000000; text-decoration-color: #000000\">, </span><span style=\"color: #808000; text-decoration-color: #808000\">skill_type</span><span style=\"color: #000000; text-decoration-color: #000000\">=&lt;SkillType.TECHNICAL: </span><span style=\"color: #008000; text-decoration-color: #008000\">'technical'</span><span style=\"color: #000000; text-decoration-color: #000000\">&gt;, </span><span style=\"color: #808000; text-decoration-color: #808000\">experience</span><span style=\"color: #000000; text-decoration-color: #000000\">=</span><span style=\"color: #800080; text-decoration-color: #800080; font-style: italic\">None</span><span style=\"color: #000000; text-decoration-color: #000000\">, </span><span style=\"color: #808000; text-decoration-color: #808000\">is_required</span><span style=\"color: #000000; text-decoration-color: #000000\">=</span><span style=\"color: #00ff00; text-decoration-color: #00ff00; font-style: italic\">True</span><span style=\"color: #000000; text-decoration-color: #000000; font-weight: bold\">)</span><span style=\"color: #000000; text-decoration-color: #000000\">,</span>\n",
       "<span style=\"color: #000000; text-decoration-color: #000000\">        </span><span style=\"color: #800080; text-decoration-color: #800080; font-weight: bold\">Skill</span><span style=\"color: #000000; text-decoration-color: #000000; font-weight: bold\">(</span><span style=\"color: #808000; text-decoration-color: #808000\">skill</span><span style=\"color: #000000; text-decoration-color: #000000\">=</span><span style=\"color: #008000; text-decoration-color: #008000\">'C++'</span><span style=\"color: #000000; text-decoration-color: #000000\">, </span><span style=\"color: #808000; text-decoration-color: #808000\">skill_type</span><span style=\"color: #000000; text-decoration-color: #000000\">=&lt;SkillType.TECHNICAL: </span><span style=\"color: #008000; text-decoration-color: #008000\">'technical'</span><span style=\"color: #000000; text-decoration-color: #000000\">&gt;, </span><span style=\"color: #808000; text-decoration-color: #808000\">experience</span><span style=\"color: #000000; text-decoration-color: #000000\">=</span><span style=\"color: #800080; text-decoration-color: #800080; font-style: italic\">None</span><span style=\"color: #000000; text-decoration-color: #000000\">, </span><span style=\"color: #808000; text-decoration-color: #808000\">is_required</span><span style=\"color: #000000; text-decoration-color: #000000\">=</span><span style=\"color: #00ff00; text-decoration-color: #00ff00; font-style: italic\">True</span><span style=\"color: #000000; text-decoration-color: #000000; font-weight: bold\">)</span><span style=\"color: #000000; text-decoration-color: #000000\">,</span>\n",
       "<span style=\"color: #000000; text-decoration-color: #000000\">        </span><span style=\"color: #800080; text-decoration-color: #800080; font-weight: bold\">Skill</span><span style=\"color: #000000; text-decoration-color: #000000; font-weight: bold\">(</span>\n",
       "<span style=\"color: #000000; text-decoration-color: #000000\">            </span><span style=\"color: #808000; text-decoration-color: #808000\">skill</span><span style=\"color: #000000; text-decoration-color: #000000\">=</span><span style=\"color: #008000; text-decoration-color: #008000\">'scripting'</span><span style=\"color: #000000; text-decoration-color: #000000\">,</span>\n",
       "<span style=\"color: #000000; text-decoration-color: #000000\">            </span><span style=\"color: #808000; text-decoration-color: #808000\">skill_type</span><span style=\"color: #000000; text-decoration-color: #000000\">=&lt;SkillType.TECHNICAL: </span><span style=\"color: #008000; text-decoration-color: #008000\">'technical'</span><span style=\"color: #000000; text-decoration-color: #000000\">&gt;,</span>\n",
       "<span style=\"color: #000000; text-decoration-color: #000000\">            </span><span style=\"color: #808000; text-decoration-color: #808000\">experience</span><span style=\"color: #000000; text-decoration-color: #000000\">=</span><span style=\"color: #800080; text-decoration-color: #800080; font-style: italic\">None</span><span style=\"color: #000000; text-decoration-color: #000000\">,</span>\n",
       "<span style=\"color: #000000; text-decoration-color: #000000\">            </span><span style=\"color: #808000; text-decoration-color: #808000\">is_required</span><span style=\"color: #000000; text-decoration-color: #000000\">=</span><span style=\"color: #00ff00; text-decoration-color: #00ff00; font-style: italic\">True</span>\n",
       "<span style=\"color: #000000; text-decoration-color: #000000\">        </span><span style=\"color: #000000; text-decoration-color: #000000; font-weight: bold\">)</span><span style=\"color: #000000; text-decoration-color: #000000\">,</span>\n",
       "<span style=\"color: #000000; text-decoration-color: #000000\">        </span><span style=\"color: #800080; text-decoration-color: #800080; font-weight: bold\">Skill</span><span style=\"color: #000000; text-decoration-color: #000000; font-weight: bold\">(</span>\n",
       "<span style=\"color: #000000; text-decoration-color: #000000\">            </span><span style=\"color: #808000; text-decoration-color: #808000\">skill</span><span style=\"color: #000000; text-decoration-color: #000000\">=</span><span style=\"color: #008000; text-decoration-color: #008000\">'test automation'</span><span style=\"color: #000000; text-decoration-color: #000000\">,</span>\n",
       "<span style=\"color: #000000; text-decoration-color: #000000\">            </span><span style=\"color: #808000; text-decoration-color: #808000\">skill_type</span><span style=\"color: #000000; text-decoration-color: #000000\">=&lt;SkillType.TECHNICAL: </span><span style=\"color: #008000; text-decoration-color: #008000\">'technical'</span><span style=\"color: #000000; text-decoration-color: #000000\">&gt;,</span>\n",
       "<span style=\"color: #000000; text-decoration-color: #000000\">            </span><span style=\"color: #808000; text-decoration-color: #808000\">experience</span><span style=\"color: #000000; text-decoration-color: #000000\">=</span><span style=\"color: #800080; text-decoration-color: #800080; font-style: italic\">None</span><span style=\"color: #000000; text-decoration-color: #000000\">,</span>\n",
       "<span style=\"color: #000000; text-decoration-color: #000000\">            </span><span style=\"color: #808000; text-decoration-color: #808000\">is_required</span><span style=\"color: #000000; text-decoration-color: #000000\">=</span><span style=\"color: #00ff00; text-decoration-color: #00ff00; font-style: italic\">True</span>\n",
       "<span style=\"color: #000000; text-decoration-color: #000000\">        </span><span style=\"color: #000000; text-decoration-color: #000000; font-weight: bold\">)</span><span style=\"color: #000000; text-decoration-color: #000000\">,</span>\n",
       "<span style=\"color: #000000; text-decoration-color: #000000\">        </span><span style=\"color: #800080; text-decoration-color: #800080; font-weight: bold\">Skill</span><span style=\"color: #000000; text-decoration-color: #000000; font-weight: bold\">(</span><span style=\"color: #808000; text-decoration-color: #808000\">skill</span><span style=\"color: #000000; text-decoration-color: #000000\">=</span><span style=\"color: #008000; text-decoration-color: #008000\">'HTML5'</span><span style=\"color: #000000; text-decoration-color: #000000\">, </span><span style=\"color: #808000; text-decoration-color: #808000\">skill_type</span><span style=\"color: #000000; text-decoration-color: #000000\">=&lt;SkillType.TECHNICAL: </span><span style=\"color: #008000; text-decoration-color: #008000\">'technical'</span><span style=\"color: #000000; text-decoration-color: #000000\">&gt;, </span><span style=\"color: #808000; text-decoration-color: #808000\">experience</span><span style=\"color: #000000; text-decoration-color: #000000\">=</span><span style=\"color: #800080; text-decoration-color: #800080; font-style: italic\">None</span><span style=\"color: #000000; text-decoration-color: #000000\">, </span><span style=\"color: #808000; text-decoration-color: #808000\">is_required</span><span style=\"color: #000000; text-decoration-color: #000000\">=</span><span style=\"color: #ff0000; text-decoration-color: #ff0000; font-style: italic\">False</span><span style=\"color: #000000; text-decoration-color: #000000; font-weight: bold\">)</span><span style=\"color: #000000; text-decoration-color: #000000\">,</span>\n",
       "<span style=\"color: #000000; text-decoration-color: #000000\">        </span><span style=\"color: #800080; text-decoration-color: #800080; font-weight: bold\">Skill</span><span style=\"color: #000000; text-decoration-color: #000000; font-weight: bold\">(</span><span style=\"color: #808000; text-decoration-color: #808000\">skill</span><span style=\"color: #000000; text-decoration-color: #000000\">=</span><span style=\"color: #008000; text-decoration-color: #008000\">'CSS3'</span><span style=\"color: #000000; text-decoration-color: #000000\">, </span><span style=\"color: #808000; text-decoration-color: #808000\">skill_type</span><span style=\"color: #000000; text-decoration-color: #000000\">=&lt;SkillType.TECHNICAL: </span><span style=\"color: #008000; text-decoration-color: #008000\">'technical'</span><span style=\"color: #000000; text-decoration-color: #000000\">&gt;, </span><span style=\"color: #808000; text-decoration-color: #808000\">experience</span><span style=\"color: #000000; text-decoration-color: #000000\">=</span><span style=\"color: #800080; text-decoration-color: #800080; font-style: italic\">None</span><span style=\"color: #000000; text-decoration-color: #000000\">, </span><span style=\"color: #808000; text-decoration-color: #808000\">is_required</span><span style=\"color: #000000; text-decoration-color: #000000\">=</span><span style=\"color: #ff0000; text-decoration-color: #ff0000; font-style: italic\">False</span><span style=\"color: #000000; text-decoration-color: #000000; font-weight: bold\">)</span><span style=\"color: #000000; text-decoration-color: #000000\">,</span>\n",
       "<span style=\"color: #000000; text-decoration-color: #000000\">        </span><span style=\"color: #800080; text-decoration-color: #800080; font-weight: bold\">Skill</span><span style=\"color: #000000; text-decoration-color: #000000; font-weight: bold\">(</span><span style=\"color: #808000; text-decoration-color: #808000\">skill</span><span style=\"color: #000000; text-decoration-color: #000000\">=</span><span style=\"color: #008000; text-decoration-color: #008000\">'SQL'</span><span style=\"color: #000000; text-decoration-color: #000000\">, </span><span style=\"color: #808000; text-decoration-color: #808000\">skill_type</span><span style=\"color: #000000; text-decoration-color: #000000\">=&lt;SkillType.TECHNICAL: </span><span style=\"color: #008000; text-decoration-color: #008000\">'technical'</span><span style=\"color: #000000; text-decoration-color: #000000\">&gt;, </span><span style=\"color: #808000; text-decoration-color: #808000\">experience</span><span style=\"color: #000000; text-decoration-color: #000000\">=</span><span style=\"color: #800080; text-decoration-color: #800080; font-style: italic\">None</span><span style=\"color: #000000; text-decoration-color: #000000\">, </span><span style=\"color: #808000; text-decoration-color: #808000\">is_required</span><span style=\"color: #000000; text-decoration-color: #000000\">=</span><span style=\"color: #ff0000; text-decoration-color: #ff0000; font-style: italic\">False</span><span style=\"color: #000000; text-decoration-color: #000000; font-weight: bold\">)</span><span style=\"color: #000000; text-decoration-color: #000000\">,</span>\n",
       "<span style=\"color: #000000; text-decoration-color: #000000\">        </span><span style=\"color: #800080; text-decoration-color: #800080; font-weight: bold\">Skill</span><span style=\"color: #000000; text-decoration-color: #000000; font-weight: bold\">(</span><span style=\"color: #808000; text-decoration-color: #808000\">skill</span><span style=\"color: #000000; text-decoration-color: #000000\">=</span><span style=\"color: #008000; text-decoration-color: #008000\">'ORM'</span><span style=\"color: #000000; text-decoration-color: #000000\">, </span><span style=\"color: #808000; text-decoration-color: #808000\">skill_type</span><span style=\"color: #000000; text-decoration-color: #000000\">=&lt;SkillType.TECHNICAL: </span><span style=\"color: #008000; text-decoration-color: #008000\">'technical'</span><span style=\"color: #000000; text-decoration-color: #000000\">&gt;, </span><span style=\"color: #808000; text-decoration-color: #808000\">experience</span><span style=\"color: #000000; text-decoration-color: #000000\">=</span><span style=\"color: #800080; text-decoration-color: #800080; font-style: italic\">None</span><span style=\"color: #000000; text-decoration-color: #000000\">, </span><span style=\"color: #808000; text-decoration-color: #808000\">is_required</span><span style=\"color: #000000; text-decoration-color: #000000\">=</span><span style=\"color: #ff0000; text-decoration-color: #ff0000; font-style: italic\">False</span><span style=\"color: #000000; text-decoration-color: #000000; font-weight: bold\">)</span><span style=\"color: #000000; text-decoration-color: #000000\">,</span>\n",
       "<span style=\"color: #000000; text-decoration-color: #000000\">        </span><span style=\"color: #800080; text-decoration-color: #800080; font-weight: bold\">Skill</span><span style=\"color: #000000; text-decoration-color: #000000; font-weight: bold\">(</span><span style=\"color: #808000; text-decoration-color: #808000\">skill</span><span style=\"color: #000000; text-decoration-color: #000000\">=</span><span style=\"color: #008000; text-decoration-color: #008000\">'Wicket'</span><span style=\"color: #000000; text-decoration-color: #000000\">, </span><span style=\"color: #808000; text-decoration-color: #808000\">skill_type</span><span style=\"color: #000000; text-decoration-color: #000000\">=&lt;SkillType.TECHNICAL: </span><span style=\"color: #008000; text-decoration-color: #008000\">'technical'</span><span style=\"color: #000000; text-decoration-color: #000000\">&gt;, </span><span style=\"color: #808000; text-decoration-color: #808000\">experience</span><span style=\"color: #000000; text-decoration-color: #000000\">=</span><span style=\"color: #800080; text-decoration-color: #800080; font-style: italic\">None</span><span style=\"color: #000000; text-decoration-color: #000000\">, </span><span style=\"color: #808000; text-decoration-color: #808000\">is_required</span><span style=\"color: #000000; text-decoration-color: #000000\">=</span><span style=\"color: #ff0000; text-decoration-color: #ff0000; font-style: italic\">False</span><span style=\"color: #000000; text-decoration-color: #000000; font-weight: bold\">)</span><span style=\"color: #000000; text-decoration-color: #000000\">,</span>\n",
       "<span style=\"color: #000000; text-decoration-color: #000000\">        </span><span style=\"color: #800080; text-decoration-color: #800080; font-weight: bold\">Skill</span><span style=\"color: #000000; text-decoration-color: #000000; font-weight: bold\">(</span><span style=\"color: #808000; text-decoration-color: #808000\">skill</span><span style=\"color: #000000; text-decoration-color: #000000\">=</span><span style=\"color: #008000; text-decoration-color: #008000\">'GWT'</span><span style=\"color: #000000; text-decoration-color: #000000\">, </span><span style=\"color: #808000; text-decoration-color: #808000\">skill_type</span><span style=\"color: #000000; text-decoration-color: #000000\">=&lt;SkillType.TECHNICAL: </span><span style=\"color: #008000; text-decoration-color: #008000\">'technical'</span><span style=\"color: #000000; text-decoration-color: #000000\">&gt;, </span><span style=\"color: #808000; text-decoration-color: #808000\">experience</span><span style=\"color: #000000; text-decoration-color: #000000\">=</span><span style=\"color: #800080; text-decoration-color: #800080; font-style: italic\">None</span><span style=\"color: #000000; text-decoration-color: #000000\">, </span><span style=\"color: #808000; text-decoration-color: #808000\">is_required</span><span style=\"color: #000000; text-decoration-color: #000000\">=</span><span style=\"color: #ff0000; text-decoration-color: #ff0000; font-style: italic\">False</span><span style=\"color: #000000; text-decoration-color: #000000; font-weight: bold\">)</span><span style=\"color: #000000; text-decoration-color: #000000\">,</span>\n",
       "<span style=\"color: #000000; text-decoration-color: #000000\">        </span><span style=\"color: #800080; text-decoration-color: #800080; font-weight: bold\">Skill</span><span style=\"color: #000000; text-decoration-color: #000000; font-weight: bold\">(</span>\n",
       "<span style=\"color: #000000; text-decoration-color: #000000\">            </span><span style=\"color: #808000; text-decoration-color: #808000\">skill</span><span style=\"color: #000000; text-decoration-color: #000000\">=</span><span style=\"color: #008000; text-decoration-color: #008000\">'Spring MVC'</span><span style=\"color: #000000; text-decoration-color: #000000\">,</span>\n",
       "<span style=\"color: #000000; text-decoration-color: #000000\">            </span><span style=\"color: #808000; text-decoration-color: #808000\">skill_type</span><span style=\"color: #000000; text-decoration-color: #000000\">=&lt;SkillType.TECHNICAL: </span><span style=\"color: #008000; text-decoration-color: #008000\">'technical'</span><span style=\"font-weight: bold\">&gt;</span>,\n",
       "            <span style=\"color: #808000; text-decoration-color: #808000\">experience</span>=<span style=\"color: #800080; text-decoration-color: #800080; font-style: italic\">None</span>,\n",
       "            <span style=\"color: #808000; text-decoration-color: #808000\">is_required</span>=<span style=\"color: #ff0000; text-decoration-color: #ff0000; font-style: italic\">False</span>\n",
       "        <span style=\"font-weight: bold\">)</span>\n",
       "    <span style=\"font-weight: bold\">]</span>,\n",
       "    <span style=\"color: #808000; text-decoration-color: #808000\">experiences</span>=<span style=\"font-weight: bold\">[</span>\n",
       "        <span style=\"color: #800080; text-decoration-color: #800080; font-weight: bold\">Experience</span><span style=\"font-weight: bold\">(</span>\n",
       "            <span style=\"color: #808000; text-decoration-color: #808000\">experience</span>=<span style=\"color: #008000; text-decoration-color: #008000\">'Five or more years of experience as engineer of software and networking platforms'</span>,\n",
       "            <span style=\"color: #808000; text-decoration-color: #808000\">is_required</span>=<span style=\"color: #00ff00; text-decoration-color: #00ff00; font-style: italic\">True</span>\n",
       "        <span style=\"font-weight: bold\">)</span>,\n",
       "        <span style=\"color: #800080; text-decoration-color: #800080; font-weight: bold\">Experience</span><span style=\"font-weight: bold\">(</span>\n",
       "            <span style=\"color: #808000; text-decoration-color: #808000\">experience</span>=<span style=\"color: #008000; text-decoration-color: #008000\">'Seven or more years of experience (professional and academic) with Java, Python, and C++'</span>,\n",
       "            <span style=\"color: #808000; text-decoration-color: #808000\">is_required</span>=<span style=\"color: #00ff00; text-decoration-color: #00ff00; font-style: italic\">True</span>\n",
       "        <span style=\"font-weight: bold\">)</span>,\n",
       "        <span style=\"color: #800080; text-decoration-color: #800080; font-weight: bold\">Experience</span><span style=\"font-weight: bold\">(</span>\n",
       "            <span style=\"color: #808000; text-decoration-color: #808000\">experience</span>=<span style=\"color: #008000; text-decoration-color: #008000\">'Experience with rapid development cycles in a web-based environment'</span>,\n",
       "            <span style=\"color: #808000; text-decoration-color: #808000\">is_required</span>=<span style=\"color: #00ff00; text-decoration-color: #00ff00; font-style: italic\">True</span>\n",
       "        <span style=\"font-weight: bold\">)</span>\n",
       "    <span style=\"font-weight: bold\">]</span>,\n",
       "    <span style=\"color: #808000; text-decoration-color: #808000\">qualifications</span>=<span style=\"font-weight: bold\">[</span>\n",
       "        <span style=\"color: #800080; text-decoration-color: #800080; font-weight: bold\">Qualification</span><span style=\"font-weight: bold\">(</span>\n",
       "            <span style=\"color: #808000; text-decoration-color: #808000\">degree</span>=<span style=\"color: #008000; text-decoration-color: #008000\">'Bachelor’s degree (or equivalent) in software engineering or information technology'</span>,\n",
       "            <span style=\"color: #808000; text-decoration-color: #808000\">is_required</span>=<span style=\"color: #ff0000; text-decoration-color: #ff0000; font-style: italic\">False</span>\n",
       "        <span style=\"font-weight: bold\">)</span>\n",
       "    <span style=\"font-weight: bold\">]</span>,\n",
       "    <span style=\"color: #808000; text-decoration-color: #808000\">personality_traits</span>=<span style=\"font-weight: bold\">[]</span>\n",
       "<span style=\"font-weight: bold\">)</span>\n",
       "</pre>\n"
      ],
      "text/plain": [
       "\u001b[1;35mResumeFields\u001b[0m\u001b[1m(\u001b[0m\n",
       "    \u001b[33mskills\u001b[0m=\u001b[1m[\u001b[0m\n",
       "        \u001b[1;35mSkill\u001b[0m\u001b[1m(\u001b[0m\u001b[33mskill\u001b[0m=\u001b[32m'Java'\u001b[0m, \u001b[33mskill_type\u001b[0m=\u001b[1m<\u001b[0m\u001b[1;95mSkillType.TECHNICAL:\u001b[0m\u001b[39m \u001b[0m\u001b[32m'technical'\u001b[0m\u001b[39m>, \u001b[0m\u001b[33mexperience\u001b[0m\u001b[39m=\u001b[0m\u001b[3;35mNone\u001b[0m\u001b[39m, \u001b[0m\u001b[33mis_required\u001b[0m\u001b[39m=\u001b[0m\u001b[3;92mTrue\u001b[0m\u001b[1;39m)\u001b[0m\u001b[39m,\u001b[0m\n",
       "\u001b[39m        \u001b[0m\u001b[1;35mSkill\u001b[0m\u001b[1;39m(\u001b[0m\u001b[33mskill\u001b[0m\u001b[39m=\u001b[0m\u001b[32m'Python'\u001b[0m\u001b[39m, \u001b[0m\u001b[33mskill_type\u001b[0m\u001b[39m=<SkillType.TECHNICAL: \u001b[0m\u001b[32m'technical'\u001b[0m\u001b[39m>, \u001b[0m\u001b[33mexperience\u001b[0m\u001b[39m=\u001b[0m\u001b[3;35mNone\u001b[0m\u001b[39m, \u001b[0m\u001b[33mis_required\u001b[0m\u001b[39m=\u001b[0m\u001b[3;92mTrue\u001b[0m\u001b[1;39m)\u001b[0m\u001b[39m,\u001b[0m\n",
       "\u001b[39m        \u001b[0m\u001b[1;35mSkill\u001b[0m\u001b[1;39m(\u001b[0m\u001b[33mskill\u001b[0m\u001b[39m=\u001b[0m\u001b[32m'C++'\u001b[0m\u001b[39m, \u001b[0m\u001b[33mskill_type\u001b[0m\u001b[39m=<SkillType.TECHNICAL: \u001b[0m\u001b[32m'technical'\u001b[0m\u001b[39m>, \u001b[0m\u001b[33mexperience\u001b[0m\u001b[39m=\u001b[0m\u001b[3;35mNone\u001b[0m\u001b[39m, \u001b[0m\u001b[33mis_required\u001b[0m\u001b[39m=\u001b[0m\u001b[3;92mTrue\u001b[0m\u001b[1;39m)\u001b[0m\u001b[39m,\u001b[0m\n",
       "\u001b[39m        \u001b[0m\u001b[1;35mSkill\u001b[0m\u001b[1;39m(\u001b[0m\n",
       "\u001b[39m            \u001b[0m\u001b[33mskill\u001b[0m\u001b[39m=\u001b[0m\u001b[32m'scripting'\u001b[0m\u001b[39m,\u001b[0m\n",
       "\u001b[39m            \u001b[0m\u001b[33mskill_type\u001b[0m\u001b[39m=<SkillType.TECHNICAL: \u001b[0m\u001b[32m'technical'\u001b[0m\u001b[39m>,\u001b[0m\n",
       "\u001b[39m            \u001b[0m\u001b[33mexperience\u001b[0m\u001b[39m=\u001b[0m\u001b[3;35mNone\u001b[0m\u001b[39m,\u001b[0m\n",
       "\u001b[39m            \u001b[0m\u001b[33mis_required\u001b[0m\u001b[39m=\u001b[0m\u001b[3;92mTrue\u001b[0m\n",
       "\u001b[39m        \u001b[0m\u001b[1;39m)\u001b[0m\u001b[39m,\u001b[0m\n",
       "\u001b[39m        \u001b[0m\u001b[1;35mSkill\u001b[0m\u001b[1;39m(\u001b[0m\n",
       "\u001b[39m            \u001b[0m\u001b[33mskill\u001b[0m\u001b[39m=\u001b[0m\u001b[32m'test automation'\u001b[0m\u001b[39m,\u001b[0m\n",
       "\u001b[39m            \u001b[0m\u001b[33mskill_type\u001b[0m\u001b[39m=<SkillType.TECHNICAL: \u001b[0m\u001b[32m'technical'\u001b[0m\u001b[39m>,\u001b[0m\n",
       "\u001b[39m            \u001b[0m\u001b[33mexperience\u001b[0m\u001b[39m=\u001b[0m\u001b[3;35mNone\u001b[0m\u001b[39m,\u001b[0m\n",
       "\u001b[39m            \u001b[0m\u001b[33mis_required\u001b[0m\u001b[39m=\u001b[0m\u001b[3;92mTrue\u001b[0m\n",
       "\u001b[39m        \u001b[0m\u001b[1;39m)\u001b[0m\u001b[39m,\u001b[0m\n",
       "\u001b[39m        \u001b[0m\u001b[1;35mSkill\u001b[0m\u001b[1;39m(\u001b[0m\u001b[33mskill\u001b[0m\u001b[39m=\u001b[0m\u001b[32m'HTML5'\u001b[0m\u001b[39m, \u001b[0m\u001b[33mskill_type\u001b[0m\u001b[39m=<SkillType.TECHNICAL: \u001b[0m\u001b[32m'technical'\u001b[0m\u001b[39m>, \u001b[0m\u001b[33mexperience\u001b[0m\u001b[39m=\u001b[0m\u001b[3;35mNone\u001b[0m\u001b[39m, \u001b[0m\u001b[33mis_required\u001b[0m\u001b[39m=\u001b[0m\u001b[3;91mFalse\u001b[0m\u001b[1;39m)\u001b[0m\u001b[39m,\u001b[0m\n",
       "\u001b[39m        \u001b[0m\u001b[1;35mSkill\u001b[0m\u001b[1;39m(\u001b[0m\u001b[33mskill\u001b[0m\u001b[39m=\u001b[0m\u001b[32m'CSS3'\u001b[0m\u001b[39m, \u001b[0m\u001b[33mskill_type\u001b[0m\u001b[39m=<SkillType.TECHNICAL: \u001b[0m\u001b[32m'technical'\u001b[0m\u001b[39m>, \u001b[0m\u001b[33mexperience\u001b[0m\u001b[39m=\u001b[0m\u001b[3;35mNone\u001b[0m\u001b[39m, \u001b[0m\u001b[33mis_required\u001b[0m\u001b[39m=\u001b[0m\u001b[3;91mFalse\u001b[0m\u001b[1;39m)\u001b[0m\u001b[39m,\u001b[0m\n",
       "\u001b[39m        \u001b[0m\u001b[1;35mSkill\u001b[0m\u001b[1;39m(\u001b[0m\u001b[33mskill\u001b[0m\u001b[39m=\u001b[0m\u001b[32m'SQL'\u001b[0m\u001b[39m, \u001b[0m\u001b[33mskill_type\u001b[0m\u001b[39m=<SkillType.TECHNICAL: \u001b[0m\u001b[32m'technical'\u001b[0m\u001b[39m>, \u001b[0m\u001b[33mexperience\u001b[0m\u001b[39m=\u001b[0m\u001b[3;35mNone\u001b[0m\u001b[39m, \u001b[0m\u001b[33mis_required\u001b[0m\u001b[39m=\u001b[0m\u001b[3;91mFalse\u001b[0m\u001b[1;39m)\u001b[0m\u001b[39m,\u001b[0m\n",
       "\u001b[39m        \u001b[0m\u001b[1;35mSkill\u001b[0m\u001b[1;39m(\u001b[0m\u001b[33mskill\u001b[0m\u001b[39m=\u001b[0m\u001b[32m'ORM'\u001b[0m\u001b[39m, \u001b[0m\u001b[33mskill_type\u001b[0m\u001b[39m=<SkillType.TECHNICAL: \u001b[0m\u001b[32m'technical'\u001b[0m\u001b[39m>, \u001b[0m\u001b[33mexperience\u001b[0m\u001b[39m=\u001b[0m\u001b[3;35mNone\u001b[0m\u001b[39m, \u001b[0m\u001b[33mis_required\u001b[0m\u001b[39m=\u001b[0m\u001b[3;91mFalse\u001b[0m\u001b[1;39m)\u001b[0m\u001b[39m,\u001b[0m\n",
       "\u001b[39m        \u001b[0m\u001b[1;35mSkill\u001b[0m\u001b[1;39m(\u001b[0m\u001b[33mskill\u001b[0m\u001b[39m=\u001b[0m\u001b[32m'Wicket'\u001b[0m\u001b[39m, \u001b[0m\u001b[33mskill_type\u001b[0m\u001b[39m=<SkillType.TECHNICAL: \u001b[0m\u001b[32m'technical'\u001b[0m\u001b[39m>, \u001b[0m\u001b[33mexperience\u001b[0m\u001b[39m=\u001b[0m\u001b[3;35mNone\u001b[0m\u001b[39m, \u001b[0m\u001b[33mis_required\u001b[0m\u001b[39m=\u001b[0m\u001b[3;91mFalse\u001b[0m\u001b[1;39m)\u001b[0m\u001b[39m,\u001b[0m\n",
       "\u001b[39m        \u001b[0m\u001b[1;35mSkill\u001b[0m\u001b[1;39m(\u001b[0m\u001b[33mskill\u001b[0m\u001b[39m=\u001b[0m\u001b[32m'GWT'\u001b[0m\u001b[39m, \u001b[0m\u001b[33mskill_type\u001b[0m\u001b[39m=<SkillType.TECHNICAL: \u001b[0m\u001b[32m'technical'\u001b[0m\u001b[39m>, \u001b[0m\u001b[33mexperience\u001b[0m\u001b[39m=\u001b[0m\u001b[3;35mNone\u001b[0m\u001b[39m, \u001b[0m\u001b[33mis_required\u001b[0m\u001b[39m=\u001b[0m\u001b[3;91mFalse\u001b[0m\u001b[1;39m)\u001b[0m\u001b[39m,\u001b[0m\n",
       "\u001b[39m        \u001b[0m\u001b[1;35mSkill\u001b[0m\u001b[1;39m(\u001b[0m\n",
       "\u001b[39m            \u001b[0m\u001b[33mskill\u001b[0m\u001b[39m=\u001b[0m\u001b[32m'Spring MVC'\u001b[0m\u001b[39m,\u001b[0m\n",
       "\u001b[39m            \u001b[0m\u001b[33mskill_type\u001b[0m\u001b[39m=<SkillType.TECHNICAL: \u001b[0m\u001b[32m'technical'\u001b[0m\u001b[1m>\u001b[0m,\n",
       "            \u001b[33mexperience\u001b[0m=\u001b[3;35mNone\u001b[0m,\n",
       "            \u001b[33mis_required\u001b[0m=\u001b[3;91mFalse\u001b[0m\n",
       "        \u001b[1m)\u001b[0m\n",
       "    \u001b[1m]\u001b[0m,\n",
       "    \u001b[33mexperiences\u001b[0m=\u001b[1m[\u001b[0m\n",
       "        \u001b[1;35mExperience\u001b[0m\u001b[1m(\u001b[0m\n",
       "            \u001b[33mexperience\u001b[0m=\u001b[32m'Five or more years of experience as engineer of software and networking platforms'\u001b[0m,\n",
       "            \u001b[33mis_required\u001b[0m=\u001b[3;92mTrue\u001b[0m\n",
       "        \u001b[1m)\u001b[0m,\n",
       "        \u001b[1;35mExperience\u001b[0m\u001b[1m(\u001b[0m\n",
       "            \u001b[33mexperience\u001b[0m=\u001b[32m'Seven or more years of experience \u001b[0m\u001b[32m(\u001b[0m\u001b[32mprofessional and academic\u001b[0m\u001b[32m)\u001b[0m\u001b[32m with Java, Python, and C++'\u001b[0m,\n",
       "            \u001b[33mis_required\u001b[0m=\u001b[3;92mTrue\u001b[0m\n",
       "        \u001b[1m)\u001b[0m,\n",
       "        \u001b[1;35mExperience\u001b[0m\u001b[1m(\u001b[0m\n",
       "            \u001b[33mexperience\u001b[0m=\u001b[32m'Experience with rapid development cycles in a web-based environment'\u001b[0m,\n",
       "            \u001b[33mis_required\u001b[0m=\u001b[3;92mTrue\u001b[0m\n",
       "        \u001b[1m)\u001b[0m\n",
       "    \u001b[1m]\u001b[0m,\n",
       "    \u001b[33mqualifications\u001b[0m=\u001b[1m[\u001b[0m\n",
       "        \u001b[1;35mQualification\u001b[0m\u001b[1m(\u001b[0m\n",
       "            \u001b[33mdegree\u001b[0m=\u001b[32m'Bachelor’s degree \u001b[0m\u001b[32m(\u001b[0m\u001b[32mor equivalent\u001b[0m\u001b[32m)\u001b[0m\u001b[32m in software engineering or information technology'\u001b[0m,\n",
       "            \u001b[33mis_required\u001b[0m=\u001b[3;91mFalse\u001b[0m\n",
       "        \u001b[1m)\u001b[0m\n",
       "    \u001b[1m]\u001b[0m,\n",
       "    \u001b[33mpersonality_traits\u001b[0m=\u001b[1m[\u001b[0m\u001b[1m]\u001b[0m\n",
       "\u001b[1m)\u001b[0m\n"
      ]
     },
     "metadata": {},
     "output_type": "display_data"
    }
   ],
   "source": [
    "from rich import print \n",
    "print(fields)"
   ]
  },
  {
   "cell_type": "code",
   "execution_count": 9,
   "id": "37c57745-40e5-461f-a142-62caddceca92",
   "metadata": {},
   "outputs": [],
   "source": [
    "import pickle\n",
    "\n",
    "with open('./outputs/linkedin_cv.pkl', 'wb') as f:\n",
    "    pickle.dump(fields, f)"
   ]
  },
  {
   "cell_type": "code",
   "execution_count": 10,
   "id": "0762f673-5f3c-4a6f-a91f-e5dbb290b0fa",
   "metadata": {},
   "outputs": [],
   "source": [
    "# with open('./outputs/linkedin_cv.pkl', 'rb') as f:\n",
    "#     tmp = pickle.load(f)"
   ]
  }
 ],
 "metadata": {
  "environment": {
   "kernel": "conda-base-py",
   "name": "workbench-notebooks.m127",
   "type": "gcloud",
   "uri": "us-docker.pkg.dev/deeplearning-platform-release/gcr.io/workbench-notebooks:m127"
  },
  "kernelspec": {
   "display_name": "Python 3 (ipykernel) (Local)",
   "language": "python",
   "name": "conda-base-py"
  },
  "language_info": {
   "codemirror_mode": {
    "name": "ipython",
    "version": 3
   },
   "file_extension": ".py",
   "mimetype": "text/x-python",
   "name": "python",
   "nbconvert_exporter": "python",
   "pygments_lexer": "ipython3",
   "version": "3.10.16"
  }
 },
 "nbformat": 4,
 "nbformat_minor": 5
}
