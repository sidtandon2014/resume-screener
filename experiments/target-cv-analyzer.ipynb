{
 "cells": [
  {
   "cell_type": "code",
   "execution_count": 1,
   "id": "6bad886d-bbb0-472d-9593-5ff6acfe7c2b",
   "metadata": {},
   "outputs": [
    {
     "name": "stdout",
     "output_type": "stream",
     "text": [
      "\u001b[33m  WARNING: Failed to remove contents in a temporary directory '/opt/conda/lib/python3.10/site-packages/google/~pi_core'.\n",
      "  You can safely remove it manually.\u001b[0m\u001b[33m\n",
      "\u001b[31mERROR: pip's dependency resolver does not currently take into account all the packages that are installed. This behaviour is the source of the following dependency conflicts.\n",
      "google-api-python-client 1.8.0 requires google-api-core<2dev,>=1.13.0, but you have google-api-core 2.24.1 which is incompatible.\n",
      "kfp 2.5.0 requires requests-toolbelt<1,>=0.8.0, but you have requests-toolbelt 1.0.0 which is incompatible.\u001b[0m\u001b[31m\n",
      "\u001b[0m"
     ]
    }
   ],
   "source": [
    "!pip install -qU \"langchain[google-vertexai]\""
   ]
  },
  {
   "cell_type": "code",
   "execution_count": 1,
   "id": "1b8dcba6-1f8b-4f29-b807-2e8556a26cc9",
   "metadata": {},
   "outputs": [],
   "source": [
    "from typing import Optional, List\n",
    "from pydantic import BaseModel, Field\n",
    "from enum import Enum\n",
    "\n",
    "import pandas as pd\n",
    "from langchain.chat_models import init_chat_model"
   ]
  },
  {
   "cell_type": "code",
   "execution_count": 2,
   "id": "e5d8d120-1439-4221-9f1b-449f13bac54b",
   "metadata": {},
   "outputs": [],
   "source": [
    "f = open(\"./data/linkedin_cv.txt\", \"r\")\n",
    "linkedin_target_resume = f.read()"
   ]
  },
  {
   "cell_type": "code",
   "execution_count": 3,
   "id": "d4245c2e-d475-4390-8ad1-8d333f00b5ee",
   "metadata": {},
   "outputs": [],
   "source": [
    "llm = init_chat_model(\"gemini-2.0-flash-001\", model_provider=\"google_vertexai\", temperature = 0.3)"
   ]
  },
  {
   "cell_type": "code",
   "execution_count": 35,
   "id": "3fff36ea-9c52-423f-84a3-35902f1a593a",
   "metadata": {
    "scrolled": true
   },
   "outputs": [],
   "source": [
    "# Pydantic\n",
    "\n",
    "class SkillType(str, Enum):\n",
    "    \"\"\" SKill type\"\"\"\n",
    "    TECHNICAL = 'technical'\n",
    "    SOFT_SKILL = 'soft-skill'\n",
    "\n",
    "class Skill(BaseModel):\n",
    "    \"\"\"Skill required for the job\"\"\"\n",
    "\n",
    "    skill: str = Field(description=\"Required or preferred skill in candidate. This can be technical or soft skill \")\n",
    "    skill_type: SkillType = Field(description=\"type of skill in candidate.\")\n",
    "    experience: int = Field(default=None, description=\"Experience associated the skill.\",)\n",
    "    is_required: bool = Field(default = True, description=\"Is this skill required or preferred\")    \n",
    "\n",
    "class Skills(BaseModel):\n",
    "    \"\"\"Extracted skills from resume\"\"\"\n",
    "    skills: List[Skill]\n",
    "\n",
    "class Experience(BaseModel):\n",
    "    \"\"\"Required years of experience and the specific areas of experience sought\"\"\"\n",
    "    experience: str = Field(description=(\n",
    "        \"Detail the required years of experience and the specific areas of experience sought (e.g., \"\n",
    "        \"5+ years of experience in software development,\" \n",
    "        \"3+ years of experience in project management within the healthcare industry\"\n",
    "        \"Experience with testing frameworks\"\n",
    "        \"). Note the context of the experience.  \"\n",
    "    ))\n",
    "    is_required: bool = Field(default = True, description=\"Is this required or preferred\")    \n",
    "\n",
    "class Qualification(BaseModel):\n",
    "    \"\"\"Extract qualifications/ education from resume\"\"\"\n",
    "    degree: str = Field(description=(\n",
    "        \"Specify the necessary educational background (e.g., Bachelor's degree in Computer Science, \"\n",
    "        \"Master's degree in Business Administration) \"\n",
    "        \"or any required certifications or licenses (e.g., PMP, CPA, AWS Certified Solutions Architect). Be exact\"\n",
    "    ))\n",
    "    is_required: bool = Field(default = True, description=\"Is this qualification required or preferred\")    \n",
    "\n",
    "class PersonalityTrait(BaseModel):\n",
    "    \"\"\"Specific personality trait present in job description\"\"\"\n",
    "    trait: str = Field(description=\"Specific personality traits present in job description\")\n",
    "\n",
    "class ResumeFields(BaseModel):\n",
    "    skills: List[Skill] = Field(description=\"List of all the skills\")\n",
    "    experiences: List[Experience]= Field(description=\"List of all the experiences\")\n",
    "    qualifications: List[Qualification] = Field(description=\"List of all the qualifications\")\n",
    "    personality_traits: List[PersonalityTrait] = Field(description=\"List of all the personality traits\")\n",
    "    \n",
    "# structured_llm = llm.with_structured_output(Skills)\n",
    "# structured_llm.invoke(linkedin_target_resume)"
   ]
  },
  {
   "cell_type": "code",
   "execution_count": 36,
   "id": "182611e8-b73e-439d-b9a7-d0acaf78c08f",
   "metadata": {},
   "outputs": [],
   "source": [
    "system_prompt = \"\"\"\n",
    "You are a highly skilled AI assistant specializing in analyzing job descriptions and extracting key requirements. Your goal is to meticulously identify and categorize the essential skills, qualifications, experience, and other attributes sought by employers.\n",
    "\n",
    "**Your Task:**\n",
    "\n",
    "Given a job description as input, extract the required fields based on schema into a structured format. Be comprehensive and specific, avoiding vague or generic terms.\n",
    "\n",
    "**Instructions:**\n",
    "\n",
    "1.  **Read the job description carefully and thoroughly.**\n",
    "2.  **Focus on explicitly stated requirements.**  Infer requirements only when strongly implied and directly supported by the text.\n",
    "3.  **Be specific and detailed.** Avoid generalizations. For example, instead of \"programming skills,\" specify \"Proficiency in Python and Java.\"\n",
    "4.  **Prioritize \"must-have\" requirements.**  Distinguish between essential requirements and desired or \"nice-to-have\" qualifications if the job description makes that distinction. \n",
    "5.  **Maintain accuracy.**  Do not add information that is not present in the job description.\n",
    "6.  **Conciseness is important,** but don't sacrifice accuracy or completeness.\n",
    "\"\"\""
   ]
  },
  {
   "cell_type": "code",
   "execution_count": 37,
   "id": "894c5af5-74ea-4e0d-9d21-916d1196995c",
   "metadata": {},
   "outputs": [],
   "source": [
    "from langchain_core.prompts import ChatPromptTemplate, MessagesPlaceholder\n",
    "\n",
    "prompt = ChatPromptTemplate.from_messages(\n",
    "    [\n",
    "        (\n",
    "            \"system\",\n",
    "            system_prompt\n",
    "        ),\n",
    "        (\"human\", \"{text}\"),\n",
    "    ]\n",
    ")"
   ]
  },
  {
   "cell_type": "code",
   "execution_count": 38,
   "id": "37b47b6e-ea13-4d82-bf75-75a3c68a2968",
   "metadata": {},
   "outputs": [
    {
     "name": "stderr",
     "output_type": "stream",
     "text": [
      "Key '$defs' is not supported in schema, ignoring\n"
     ]
    }
   ],
   "source": [
    "runnable = prompt | llm.with_structured_output(\n",
    "    schema=ResumeFields\n",
    ")\n",
    "\n",
    "fields = runnable.invoke({\"text\": (\n",
    "    f\"{linkedin_target_resume}\"\n",
    "    \"Extract all the relevant fields from the text given\"\n",
    ")})"
   ]
  },
  {
   "cell_type": "code",
   "execution_count": 39,
   "id": "73c152f7-9ebe-486a-b7a7-d851ad642977",
   "metadata": {},
   "outputs": [
    {
     "data": {
      "text/html": [
       "<pre style=\"white-space:pre;overflow-x:auto;line-height:normal;font-family:Menlo,'DejaVu Sans Mono',consolas,'Courier New',monospace\"><span style=\"color: #800080; text-decoration-color: #800080; font-weight: bold\">ResumeFields</span><span style=\"font-weight: bold\">(</span>\n",
       "    <span style=\"color: #808000; text-decoration-color: #808000\">skills</span>=<span style=\"font-weight: bold\">[</span>\n",
       "        <span style=\"color: #800080; text-decoration-color: #800080; font-weight: bold\">Skill</span><span style=\"font-weight: bold\">(</span><span style=\"color: #808000; text-decoration-color: #808000\">skill</span>=<span style=\"color: #008000; text-decoration-color: #008000\">'Java'</span>, <span style=\"color: #808000; text-decoration-color: #808000\">skill_type</span>=<span style=\"font-weight: bold\">&lt;</span><span style=\"color: #ff00ff; text-decoration-color: #ff00ff; font-weight: bold\">SkillType.TECHNICAL:</span><span style=\"color: #000000; text-decoration-color: #000000\"> </span><span style=\"color: #008000; text-decoration-color: #008000\">'technical'</span><span style=\"color: #000000; text-decoration-color: #000000\">&gt;, </span><span style=\"color: #808000; text-decoration-color: #808000\">experience</span><span style=\"color: #000000; text-decoration-color: #000000\">=</span><span style=\"color: #800080; text-decoration-color: #800080; font-style: italic\">None</span><span style=\"color: #000000; text-decoration-color: #000000\">, </span><span style=\"color: #808000; text-decoration-color: #808000\">is_required</span><span style=\"color: #000000; text-decoration-color: #000000\">=</span><span style=\"color: #00ff00; text-decoration-color: #00ff00; font-style: italic\">True</span><span style=\"color: #000000; text-decoration-color: #000000; font-weight: bold\">)</span><span style=\"color: #000000; text-decoration-color: #000000\">,</span>\n",
       "<span style=\"color: #000000; text-decoration-color: #000000\">        </span><span style=\"color: #800080; text-decoration-color: #800080; font-weight: bold\">Skill</span><span style=\"color: #000000; text-decoration-color: #000000; font-weight: bold\">(</span><span style=\"color: #808000; text-decoration-color: #808000\">skill</span><span style=\"color: #000000; text-decoration-color: #000000\">=</span><span style=\"color: #008000; text-decoration-color: #008000\">'Python'</span><span style=\"color: #000000; text-decoration-color: #000000\">, </span><span style=\"color: #808000; text-decoration-color: #808000\">skill_type</span><span style=\"color: #000000; text-decoration-color: #000000\">=&lt;SkillType.TECHNICAL: </span><span style=\"color: #008000; text-decoration-color: #008000\">'technical'</span><span style=\"color: #000000; text-decoration-color: #000000\">&gt;, </span><span style=\"color: #808000; text-decoration-color: #808000\">experience</span><span style=\"color: #000000; text-decoration-color: #000000\">=</span><span style=\"color: #800080; text-decoration-color: #800080; font-style: italic\">None</span><span style=\"color: #000000; text-decoration-color: #000000\">, </span><span style=\"color: #808000; text-decoration-color: #808000\">is_required</span><span style=\"color: #000000; text-decoration-color: #000000\">=</span><span style=\"color: #00ff00; text-decoration-color: #00ff00; font-style: italic\">True</span><span style=\"color: #000000; text-decoration-color: #000000; font-weight: bold\">)</span><span style=\"color: #000000; text-decoration-color: #000000\">,</span>\n",
       "<span style=\"color: #000000; text-decoration-color: #000000\">        </span><span style=\"color: #800080; text-decoration-color: #800080; font-weight: bold\">Skill</span><span style=\"color: #000000; text-decoration-color: #000000; font-weight: bold\">(</span><span style=\"color: #808000; text-decoration-color: #808000\">skill</span><span style=\"color: #000000; text-decoration-color: #000000\">=</span><span style=\"color: #008000; text-decoration-color: #008000\">'C++'</span><span style=\"color: #000000; text-decoration-color: #000000\">, </span><span style=\"color: #808000; text-decoration-color: #808000\">skill_type</span><span style=\"color: #000000; text-decoration-color: #000000\">=&lt;SkillType.TECHNICAL: </span><span style=\"color: #008000; text-decoration-color: #008000\">'technical'</span><span style=\"color: #000000; text-decoration-color: #000000\">&gt;, </span><span style=\"color: #808000; text-decoration-color: #808000\">experience</span><span style=\"color: #000000; text-decoration-color: #000000\">=</span><span style=\"color: #800080; text-decoration-color: #800080; font-style: italic\">None</span><span style=\"color: #000000; text-decoration-color: #000000\">, </span><span style=\"color: #808000; text-decoration-color: #808000\">is_required</span><span style=\"color: #000000; text-decoration-color: #000000\">=</span><span style=\"color: #00ff00; text-decoration-color: #00ff00; font-style: italic\">True</span><span style=\"color: #000000; text-decoration-color: #000000; font-weight: bold\">)</span><span style=\"color: #000000; text-decoration-color: #000000\">,</span>\n",
       "<span style=\"color: #000000; text-decoration-color: #000000\">        </span><span style=\"color: #800080; text-decoration-color: #800080; font-weight: bold\">Skill</span><span style=\"color: #000000; text-decoration-color: #000000; font-weight: bold\">(</span>\n",
       "<span style=\"color: #000000; text-decoration-color: #000000\">            </span><span style=\"color: #808000; text-decoration-color: #808000\">skill</span><span style=\"color: #000000; text-decoration-color: #000000\">=</span><span style=\"color: #008000; text-decoration-color: #008000\">'scripting'</span><span style=\"color: #000000; text-decoration-color: #000000\">,</span>\n",
       "<span style=\"color: #000000; text-decoration-color: #000000\">            </span><span style=\"color: #808000; text-decoration-color: #808000\">skill_type</span><span style=\"color: #000000; text-decoration-color: #000000\">=&lt;SkillType.TECHNICAL: </span><span style=\"color: #008000; text-decoration-color: #008000\">'technical'</span><span style=\"color: #000000; text-decoration-color: #000000\">&gt;,</span>\n",
       "<span style=\"color: #000000; text-decoration-color: #000000\">            </span><span style=\"color: #808000; text-decoration-color: #808000\">experience</span><span style=\"color: #000000; text-decoration-color: #000000\">=</span><span style=\"color: #800080; text-decoration-color: #800080; font-style: italic\">None</span><span style=\"color: #000000; text-decoration-color: #000000\">,</span>\n",
       "<span style=\"color: #000000; text-decoration-color: #000000\">            </span><span style=\"color: #808000; text-decoration-color: #808000\">is_required</span><span style=\"color: #000000; text-decoration-color: #000000\">=</span><span style=\"color: #00ff00; text-decoration-color: #00ff00; font-style: italic\">True</span>\n",
       "<span style=\"color: #000000; text-decoration-color: #000000\">        </span><span style=\"color: #000000; text-decoration-color: #000000; font-weight: bold\">)</span><span style=\"color: #000000; text-decoration-color: #000000\">,</span>\n",
       "<span style=\"color: #000000; text-decoration-color: #000000\">        </span><span style=\"color: #800080; text-decoration-color: #800080; font-weight: bold\">Skill</span><span style=\"color: #000000; text-decoration-color: #000000; font-weight: bold\">(</span>\n",
       "<span style=\"color: #000000; text-decoration-color: #000000\">            </span><span style=\"color: #808000; text-decoration-color: #808000\">skill</span><span style=\"color: #000000; text-decoration-color: #000000\">=</span><span style=\"color: #008000; text-decoration-color: #008000\">'test automation'</span><span style=\"color: #000000; text-decoration-color: #000000\">,</span>\n",
       "<span style=\"color: #000000; text-decoration-color: #000000\">            </span><span style=\"color: #808000; text-decoration-color: #808000\">skill_type</span><span style=\"color: #000000; text-decoration-color: #000000\">=&lt;SkillType.TECHNICAL: </span><span style=\"color: #008000; text-decoration-color: #008000\">'technical'</span><span style=\"color: #000000; text-decoration-color: #000000\">&gt;,</span>\n",
       "<span style=\"color: #000000; text-decoration-color: #000000\">            </span><span style=\"color: #808000; text-decoration-color: #808000\">experience</span><span style=\"color: #000000; text-decoration-color: #000000\">=</span><span style=\"color: #800080; text-decoration-color: #800080; font-style: italic\">None</span><span style=\"color: #000000; text-decoration-color: #000000\">,</span>\n",
       "<span style=\"color: #000000; text-decoration-color: #000000\">            </span><span style=\"color: #808000; text-decoration-color: #808000\">is_required</span><span style=\"color: #000000; text-decoration-color: #000000\">=</span><span style=\"color: #00ff00; text-decoration-color: #00ff00; font-style: italic\">True</span>\n",
       "<span style=\"color: #000000; text-decoration-color: #000000\">        </span><span style=\"color: #000000; text-decoration-color: #000000; font-weight: bold\">)</span><span style=\"color: #000000; text-decoration-color: #000000\">,</span>\n",
       "<span style=\"color: #000000; text-decoration-color: #000000\">        </span><span style=\"color: #800080; text-decoration-color: #800080; font-weight: bold\">Skill</span><span style=\"color: #000000; text-decoration-color: #000000; font-weight: bold\">(</span><span style=\"color: #808000; text-decoration-color: #808000\">skill</span><span style=\"color: #000000; text-decoration-color: #000000\">=</span><span style=\"color: #008000; text-decoration-color: #008000\">'HTML5'</span><span style=\"color: #000000; text-decoration-color: #000000\">, </span><span style=\"color: #808000; text-decoration-color: #808000\">skill_type</span><span style=\"color: #000000; text-decoration-color: #000000\">=&lt;SkillType.TECHNICAL: </span><span style=\"color: #008000; text-decoration-color: #008000\">'technical'</span><span style=\"color: #000000; text-decoration-color: #000000\">&gt;, </span><span style=\"color: #808000; text-decoration-color: #808000\">experience</span><span style=\"color: #000000; text-decoration-color: #000000\">=</span><span style=\"color: #800080; text-decoration-color: #800080; font-style: italic\">None</span><span style=\"color: #000000; text-decoration-color: #000000\">, </span><span style=\"color: #808000; text-decoration-color: #808000\">is_required</span><span style=\"color: #000000; text-decoration-color: #000000\">=</span><span style=\"color: #ff0000; text-decoration-color: #ff0000; font-style: italic\">False</span><span style=\"color: #000000; text-decoration-color: #000000; font-weight: bold\">)</span><span style=\"color: #000000; text-decoration-color: #000000\">,</span>\n",
       "<span style=\"color: #000000; text-decoration-color: #000000\">        </span><span style=\"color: #800080; text-decoration-color: #800080; font-weight: bold\">Skill</span><span style=\"color: #000000; text-decoration-color: #000000; font-weight: bold\">(</span><span style=\"color: #808000; text-decoration-color: #808000\">skill</span><span style=\"color: #000000; text-decoration-color: #000000\">=</span><span style=\"color: #008000; text-decoration-color: #008000\">'CSS3'</span><span style=\"color: #000000; text-decoration-color: #000000\">, </span><span style=\"color: #808000; text-decoration-color: #808000\">skill_type</span><span style=\"color: #000000; text-decoration-color: #000000\">=&lt;SkillType.TECHNICAL: </span><span style=\"color: #008000; text-decoration-color: #008000\">'technical'</span><span style=\"color: #000000; text-decoration-color: #000000\">&gt;, </span><span style=\"color: #808000; text-decoration-color: #808000\">experience</span><span style=\"color: #000000; text-decoration-color: #000000\">=</span><span style=\"color: #800080; text-decoration-color: #800080; font-style: italic\">None</span><span style=\"color: #000000; text-decoration-color: #000000\">, </span><span style=\"color: #808000; text-decoration-color: #808000\">is_required</span><span style=\"color: #000000; text-decoration-color: #000000\">=</span><span style=\"color: #ff0000; text-decoration-color: #ff0000; font-style: italic\">False</span><span style=\"color: #000000; text-decoration-color: #000000; font-weight: bold\">)</span><span style=\"color: #000000; text-decoration-color: #000000\">,</span>\n",
       "<span style=\"color: #000000; text-decoration-color: #000000\">        </span><span style=\"color: #800080; text-decoration-color: #800080; font-weight: bold\">Skill</span><span style=\"color: #000000; text-decoration-color: #000000; font-weight: bold\">(</span>\n",
       "<span style=\"color: #000000; text-decoration-color: #000000\">            </span><span style=\"color: #808000; text-decoration-color: #808000\">skill</span><span style=\"color: #000000; text-decoration-color: #000000\">=</span><span style=\"color: #008000; text-decoration-color: #008000\">'relational databases'</span><span style=\"color: #000000; text-decoration-color: #000000\">,</span>\n",
       "<span style=\"color: #000000; text-decoration-color: #000000\">            </span><span style=\"color: #808000; text-decoration-color: #808000\">skill_type</span><span style=\"color: #000000; text-decoration-color: #000000\">=&lt;SkillType.TECHNICAL: </span><span style=\"color: #008000; text-decoration-color: #008000\">'technical'</span><span style=\"color: #000000; text-decoration-color: #000000\">&gt;,</span>\n",
       "<span style=\"color: #000000; text-decoration-color: #000000\">            </span><span style=\"color: #808000; text-decoration-color: #808000\">experience</span><span style=\"color: #000000; text-decoration-color: #000000\">=</span><span style=\"color: #800080; text-decoration-color: #800080; font-style: italic\">None</span><span style=\"color: #000000; text-decoration-color: #000000\">,</span>\n",
       "<span style=\"color: #000000; text-decoration-color: #000000\">            </span><span style=\"color: #808000; text-decoration-color: #808000\">is_required</span><span style=\"color: #000000; text-decoration-color: #000000\">=</span><span style=\"color: #ff0000; text-decoration-color: #ff0000; font-style: italic\">False</span>\n",
       "<span style=\"color: #000000; text-decoration-color: #000000\">        </span><span style=\"color: #000000; text-decoration-color: #000000; font-weight: bold\">)</span><span style=\"color: #000000; text-decoration-color: #000000\">,</span>\n",
       "<span style=\"color: #000000; text-decoration-color: #000000\">        </span><span style=\"color: #800080; text-decoration-color: #800080; font-weight: bold\">Skill</span><span style=\"color: #000000; text-decoration-color: #000000; font-weight: bold\">(</span><span style=\"color: #808000; text-decoration-color: #808000\">skill</span><span style=\"color: #000000; text-decoration-color: #000000\">=</span><span style=\"color: #008000; text-decoration-color: #008000\">'ORM'</span><span style=\"color: #000000; text-decoration-color: #000000\">, </span><span style=\"color: #808000; text-decoration-color: #808000\">skill_type</span><span style=\"color: #000000; text-decoration-color: #000000\">=&lt;SkillType.TECHNICAL: </span><span style=\"color: #008000; text-decoration-color: #008000\">'technical'</span><span style=\"color: #000000; text-decoration-color: #000000\">&gt;, </span><span style=\"color: #808000; text-decoration-color: #808000\">experience</span><span style=\"color: #000000; text-decoration-color: #000000\">=</span><span style=\"color: #800080; text-decoration-color: #800080; font-style: italic\">None</span><span style=\"color: #000000; text-decoration-color: #000000\">, </span><span style=\"color: #808000; text-decoration-color: #808000\">is_required</span><span style=\"color: #000000; text-decoration-color: #000000\">=</span><span style=\"color: #ff0000; text-decoration-color: #ff0000; font-style: italic\">False</span><span style=\"color: #000000; text-decoration-color: #000000; font-weight: bold\">)</span><span style=\"color: #000000; text-decoration-color: #000000\">,</span>\n",
       "<span style=\"color: #000000; text-decoration-color: #000000\">        </span><span style=\"color: #800080; text-decoration-color: #800080; font-weight: bold\">Skill</span><span style=\"color: #000000; text-decoration-color: #000000; font-weight: bold\">(</span><span style=\"color: #808000; text-decoration-color: #808000\">skill</span><span style=\"color: #000000; text-decoration-color: #000000\">=</span><span style=\"color: #008000; text-decoration-color: #008000\">'SQL'</span><span style=\"color: #000000; text-decoration-color: #000000\">, </span><span style=\"color: #808000; text-decoration-color: #808000\">skill_type</span><span style=\"color: #000000; text-decoration-color: #000000\">=&lt;SkillType.TECHNICAL: </span><span style=\"color: #008000; text-decoration-color: #008000\">'technical'</span><span style=\"color: #000000; text-decoration-color: #000000\">&gt;, </span><span style=\"color: #808000; text-decoration-color: #808000\">experience</span><span style=\"color: #000000; text-decoration-color: #000000\">=</span><span style=\"color: #800080; text-decoration-color: #800080; font-style: italic\">None</span><span style=\"color: #000000; text-decoration-color: #000000\">, </span><span style=\"color: #808000; text-decoration-color: #808000\">is_required</span><span style=\"color: #000000; text-decoration-color: #000000\">=</span><span style=\"color: #ff0000; text-decoration-color: #ff0000; font-style: italic\">False</span><span style=\"color: #000000; text-decoration-color: #000000; font-weight: bold\">)</span><span style=\"color: #000000; text-decoration-color: #000000\">,</span>\n",
       "<span style=\"color: #000000; text-decoration-color: #000000\">        </span><span style=\"color: #800080; text-decoration-color: #800080; font-weight: bold\">Skill</span><span style=\"color: #000000; text-decoration-color: #000000; font-weight: bold\">(</span><span style=\"color: #808000; text-decoration-color: #808000\">skill</span><span style=\"color: #000000; text-decoration-color: #000000\">=</span><span style=\"color: #008000; text-decoration-color: #008000\">'Wicket'</span><span style=\"color: #000000; text-decoration-color: #000000\">, </span><span style=\"color: #808000; text-decoration-color: #808000\">skill_type</span><span style=\"color: #000000; text-decoration-color: #000000\">=&lt;SkillType.TECHNICAL: </span><span style=\"color: #008000; text-decoration-color: #008000\">'technical'</span><span style=\"color: #000000; text-decoration-color: #000000\">&gt;, </span><span style=\"color: #808000; text-decoration-color: #808000\">experience</span><span style=\"color: #000000; text-decoration-color: #000000\">=</span><span style=\"color: #800080; text-decoration-color: #800080; font-style: italic\">None</span><span style=\"color: #000000; text-decoration-color: #000000\">, </span><span style=\"color: #808000; text-decoration-color: #808000\">is_required</span><span style=\"color: #000000; text-decoration-color: #000000\">=</span><span style=\"color: #ff0000; text-decoration-color: #ff0000; font-style: italic\">False</span><span style=\"color: #000000; text-decoration-color: #000000; font-weight: bold\">)</span><span style=\"color: #000000; text-decoration-color: #000000\">,</span>\n",
       "<span style=\"color: #000000; text-decoration-color: #000000\">        </span><span style=\"color: #800080; text-decoration-color: #800080; font-weight: bold\">Skill</span><span style=\"color: #000000; text-decoration-color: #000000; font-weight: bold\">(</span><span style=\"color: #808000; text-decoration-color: #808000\">skill</span><span style=\"color: #000000; text-decoration-color: #000000\">=</span><span style=\"color: #008000; text-decoration-color: #008000\">'GWT'</span><span style=\"color: #000000; text-decoration-color: #000000\">, </span><span style=\"color: #808000; text-decoration-color: #808000\">skill_type</span><span style=\"color: #000000; text-decoration-color: #000000\">=&lt;SkillType.TECHNICAL: </span><span style=\"color: #008000; text-decoration-color: #008000\">'technical'</span><span style=\"color: #000000; text-decoration-color: #000000\">&gt;, </span><span style=\"color: #808000; text-decoration-color: #808000\">experience</span><span style=\"color: #000000; text-decoration-color: #000000\">=</span><span style=\"color: #800080; text-decoration-color: #800080; font-style: italic\">None</span><span style=\"color: #000000; text-decoration-color: #000000\">, </span><span style=\"color: #808000; text-decoration-color: #808000\">is_required</span><span style=\"color: #000000; text-decoration-color: #000000\">=</span><span style=\"color: #ff0000; text-decoration-color: #ff0000; font-style: italic\">False</span><span style=\"color: #000000; text-decoration-color: #000000; font-weight: bold\">)</span><span style=\"color: #000000; text-decoration-color: #000000\">,</span>\n",
       "<span style=\"color: #000000; text-decoration-color: #000000\">        </span><span style=\"color: #800080; text-decoration-color: #800080; font-weight: bold\">Skill</span><span style=\"color: #000000; text-decoration-color: #000000; font-weight: bold\">(</span>\n",
       "<span style=\"color: #000000; text-decoration-color: #000000\">            </span><span style=\"color: #808000; text-decoration-color: #808000\">skill</span><span style=\"color: #000000; text-decoration-color: #000000\">=</span><span style=\"color: #008000; text-decoration-color: #008000\">'Spring MVC'</span><span style=\"color: #000000; text-decoration-color: #000000\">,</span>\n",
       "<span style=\"color: #000000; text-decoration-color: #000000\">            </span><span style=\"color: #808000; text-decoration-color: #808000\">skill_type</span><span style=\"color: #000000; text-decoration-color: #000000\">=&lt;SkillType.TECHNICAL: </span><span style=\"color: #008000; text-decoration-color: #008000\">'technical'</span><span style=\"color: #000000; text-decoration-color: #000000\">&gt;,</span>\n",
       "<span style=\"color: #000000; text-decoration-color: #000000\">            </span><span style=\"color: #808000; text-decoration-color: #808000\">experience</span><span style=\"color: #000000; text-decoration-color: #000000\">=</span><span style=\"color: #800080; text-decoration-color: #800080; font-style: italic\">None</span><span style=\"color: #000000; text-decoration-color: #000000\">,</span>\n",
       "<span style=\"color: #000000; text-decoration-color: #000000\">            </span><span style=\"color: #808000; text-decoration-color: #808000\">is_required</span><span style=\"color: #000000; text-decoration-color: #000000\">=</span><span style=\"color: #ff0000; text-decoration-color: #ff0000; font-style: italic\">False</span>\n",
       "<span style=\"color: #000000; text-decoration-color: #000000\">        </span><span style=\"color: #000000; text-decoration-color: #000000; font-weight: bold\">)</span><span style=\"color: #000000; text-decoration-color: #000000\">,</span>\n",
       "<span style=\"color: #000000; text-decoration-color: #000000\">        </span><span style=\"color: #800080; text-decoration-color: #800080; font-weight: bold\">Skill</span><span style=\"color: #000000; text-decoration-color: #000000; font-weight: bold\">(</span>\n",
       "<span style=\"color: #000000; text-decoration-color: #000000\">            </span><span style=\"color: #808000; text-decoration-color: #808000\">skill</span><span style=\"color: #000000; text-decoration-color: #000000\">=</span><span style=\"color: #008000; text-decoration-color: #008000\">'troubleshooting'</span><span style=\"color: #000000; text-decoration-color: #000000\">,</span>\n",
       "<span style=\"color: #000000; text-decoration-color: #000000\">            </span><span style=\"color: #808000; text-decoration-color: #808000\">skill_type</span><span style=\"color: #000000; text-decoration-color: #000000\">=&lt;SkillType.TECHNICAL: </span><span style=\"color: #008000; text-decoration-color: #008000\">'technical'</span><span style=\"color: #000000; text-decoration-color: #000000\">&gt;,</span>\n",
       "<span style=\"color: #000000; text-decoration-color: #000000\">            </span><span style=\"color: #808000; text-decoration-color: #808000\">experience</span><span style=\"color: #000000; text-decoration-color: #000000\">=</span><span style=\"color: #800080; text-decoration-color: #800080; font-style: italic\">None</span><span style=\"color: #000000; text-decoration-color: #000000\">,</span>\n",
       "<span style=\"color: #000000; text-decoration-color: #000000\">            </span><span style=\"color: #808000; text-decoration-color: #808000\">is_required</span><span style=\"color: #000000; text-decoration-color: #000000\">=</span><span style=\"color: #00ff00; text-decoration-color: #00ff00; font-style: italic\">True</span>\n",
       "<span style=\"color: #000000; text-decoration-color: #000000\">        </span><span style=\"color: #000000; text-decoration-color: #000000; font-weight: bold\">)</span><span style=\"color: #000000; text-decoration-color: #000000\">,</span>\n",
       "<span style=\"color: #000000; text-decoration-color: #000000\">        </span><span style=\"color: #800080; text-decoration-color: #800080; font-weight: bold\">Skill</span><span style=\"color: #000000; text-decoration-color: #000000; font-weight: bold\">(</span><span style=\"color: #808000; text-decoration-color: #808000\">skill</span><span style=\"color: #000000; text-decoration-color: #000000\">=</span><span style=\"color: #008000; text-decoration-color: #008000\">'testing'</span><span style=\"color: #000000; text-decoration-color: #000000\">, </span><span style=\"color: #808000; text-decoration-color: #808000\">skill_type</span><span style=\"color: #000000; text-decoration-color: #000000\">=&lt;SkillType.TECHNICAL: </span><span style=\"color: #008000; text-decoration-color: #008000\">'technical'</span><span style=\"color: #000000; text-decoration-color: #000000\">&gt;, </span><span style=\"color: #808000; text-decoration-color: #808000\">experience</span><span style=\"color: #000000; text-decoration-color: #000000\">=</span><span style=\"color: #800080; text-decoration-color: #800080; font-style: italic\">None</span><span style=\"color: #000000; text-decoration-color: #000000\">, </span><span style=\"color: #808000; text-decoration-color: #808000\">is_required</span><span style=\"color: #000000; text-decoration-color: #000000\">=</span><span style=\"color: #00ff00; text-decoration-color: #00ff00; font-style: italic\">True</span><span style=\"color: #000000; text-decoration-color: #000000; font-weight: bold\">)</span><span style=\"color: #000000; text-decoration-color: #000000\">,</span>\n",
       "<span style=\"color: #000000; text-decoration-color: #000000\">        </span><span style=\"color: #800080; text-decoration-color: #800080; font-weight: bold\">Skill</span><span style=\"color: #000000; text-decoration-color: #000000; font-weight: bold\">(</span>\n",
       "<span style=\"color: #000000; text-decoration-color: #000000\">            </span><span style=\"color: #808000; text-decoration-color: #808000\">skill</span><span style=\"color: #000000; text-decoration-color: #000000\">=</span><span style=\"color: #008000; text-decoration-color: #008000\">'analytics'</span><span style=\"color: #000000; text-decoration-color: #000000\">,</span>\n",
       "<span style=\"color: #000000; text-decoration-color: #000000\">            </span><span style=\"color: #808000; text-decoration-color: #808000\">skill_type</span><span style=\"color: #000000; text-decoration-color: #000000\">=&lt;SkillType.TECHNICAL: </span><span style=\"color: #008000; text-decoration-color: #008000\">'technical'</span><span style=\"font-weight: bold\">&gt;</span>,\n",
       "            <span style=\"color: #808000; text-decoration-color: #808000\">experience</span>=<span style=\"color: #800080; text-decoration-color: #800080; font-style: italic\">None</span>,\n",
       "            <span style=\"color: #808000; text-decoration-color: #808000\">is_required</span>=<span style=\"color: #00ff00; text-decoration-color: #00ff00; font-style: italic\">True</span>\n",
       "        <span style=\"font-weight: bold\">)</span>\n",
       "    <span style=\"font-weight: bold\">]</span>,\n",
       "    <span style=\"color: #808000; text-decoration-color: #808000\">experiences</span>=<span style=\"font-weight: bold\">[</span>\n",
       "        <span style=\"color: #800080; text-decoration-color: #800080; font-weight: bold\">Experience</span><span style=\"font-weight: bold\">(</span>\n",
       "            <span style=\"color: #808000; text-decoration-color: #808000\">experience</span>=<span style=\"color: #008000; text-decoration-color: #008000\">'Five or more years of experience as engineer of software and networking platforms'</span>,\n",
       "            <span style=\"color: #808000; text-decoration-color: #808000\">is_required</span>=<span style=\"color: #00ff00; text-decoration-color: #00ff00; font-style: italic\">True</span>\n",
       "        <span style=\"font-weight: bold\">)</span>,\n",
       "        <span style=\"color: #800080; text-decoration-color: #800080; font-weight: bold\">Experience</span><span style=\"font-weight: bold\">(</span>\n",
       "            <span style=\"color: #808000; text-decoration-color: #808000\">experience</span>=<span style=\"color: #008000; text-decoration-color: #008000\">'Seven or more years of experience (professional and academic) with Java, Python, and C++'</span>,\n",
       "            <span style=\"color: #808000; text-decoration-color: #808000\">is_required</span>=<span style=\"color: #00ff00; text-decoration-color: #00ff00; font-style: italic\">True</span>\n",
       "        <span style=\"font-weight: bold\">)</span>,\n",
       "        <span style=\"color: #800080; text-decoration-color: #800080; font-weight: bold\">Experience</span><span style=\"font-weight: bold\">(</span>\n",
       "            <span style=\"color: #808000; text-decoration-color: #808000\">experience</span>=<span style=\"color: #008000; text-decoration-color: #008000\">'Experience with rapid development cycles in a web-based environment'</span>,\n",
       "            <span style=\"color: #808000; text-decoration-color: #808000\">is_required</span>=<span style=\"color: #00ff00; text-decoration-color: #00ff00; font-style: italic\">True</span>\n",
       "        <span style=\"font-weight: bold\">)</span>\n",
       "    <span style=\"font-weight: bold\">]</span>,\n",
       "    <span style=\"color: #808000; text-decoration-color: #808000\">qualifications</span>=<span style=\"font-weight: bold\">[</span>\n",
       "        <span style=\"color: #800080; text-decoration-color: #800080; font-weight: bold\">Qualification</span><span style=\"font-weight: bold\">(</span>\n",
       "            <span style=\"color: #808000; text-decoration-color: #808000\">degree</span>=<span style=\"color: #008000; text-decoration-color: #008000\">'Bachelor’s degree (or equivalent) in software engineering or information technology'</span>,\n",
       "            <span style=\"color: #808000; text-decoration-color: #808000\">is_required</span>=<span style=\"color: #ff0000; text-decoration-color: #ff0000; font-style: italic\">False</span>\n",
       "        <span style=\"font-weight: bold\">)</span>\n",
       "    <span style=\"font-weight: bold\">]</span>,\n",
       "    <span style=\"color: #808000; text-decoration-color: #808000\">personality_traits</span>=<span style=\"font-weight: bold\">[</span><span style=\"color: #800080; text-decoration-color: #800080; font-weight: bold\">PersonalityTrait</span><span style=\"font-weight: bold\">(</span><span style=\"color: #808000; text-decoration-color: #808000\">trait</span>=<span style=\"color: #008000; text-decoration-color: #008000\">'highly motivated'</span><span style=\"font-weight: bold\">)]</span>\n",
       "<span style=\"font-weight: bold\">)</span>\n",
       "</pre>\n"
      ],
      "text/plain": [
       "\u001b[1;35mResumeFields\u001b[0m\u001b[1m(\u001b[0m\n",
       "    \u001b[33mskills\u001b[0m=\u001b[1m[\u001b[0m\n",
       "        \u001b[1;35mSkill\u001b[0m\u001b[1m(\u001b[0m\u001b[33mskill\u001b[0m=\u001b[32m'Java'\u001b[0m, \u001b[33mskill_type\u001b[0m=\u001b[1m<\u001b[0m\u001b[1;95mSkillType.TECHNICAL:\u001b[0m\u001b[39m \u001b[0m\u001b[32m'technical'\u001b[0m\u001b[39m>, \u001b[0m\u001b[33mexperience\u001b[0m\u001b[39m=\u001b[0m\u001b[3;35mNone\u001b[0m\u001b[39m, \u001b[0m\u001b[33mis_required\u001b[0m\u001b[39m=\u001b[0m\u001b[3;92mTrue\u001b[0m\u001b[1;39m)\u001b[0m\u001b[39m,\u001b[0m\n",
       "\u001b[39m        \u001b[0m\u001b[1;35mSkill\u001b[0m\u001b[1;39m(\u001b[0m\u001b[33mskill\u001b[0m\u001b[39m=\u001b[0m\u001b[32m'Python'\u001b[0m\u001b[39m, \u001b[0m\u001b[33mskill_type\u001b[0m\u001b[39m=<SkillType.TECHNICAL: \u001b[0m\u001b[32m'technical'\u001b[0m\u001b[39m>, \u001b[0m\u001b[33mexperience\u001b[0m\u001b[39m=\u001b[0m\u001b[3;35mNone\u001b[0m\u001b[39m, \u001b[0m\u001b[33mis_required\u001b[0m\u001b[39m=\u001b[0m\u001b[3;92mTrue\u001b[0m\u001b[1;39m)\u001b[0m\u001b[39m,\u001b[0m\n",
       "\u001b[39m        \u001b[0m\u001b[1;35mSkill\u001b[0m\u001b[1;39m(\u001b[0m\u001b[33mskill\u001b[0m\u001b[39m=\u001b[0m\u001b[32m'C++'\u001b[0m\u001b[39m, \u001b[0m\u001b[33mskill_type\u001b[0m\u001b[39m=<SkillType.TECHNICAL: \u001b[0m\u001b[32m'technical'\u001b[0m\u001b[39m>, \u001b[0m\u001b[33mexperience\u001b[0m\u001b[39m=\u001b[0m\u001b[3;35mNone\u001b[0m\u001b[39m, \u001b[0m\u001b[33mis_required\u001b[0m\u001b[39m=\u001b[0m\u001b[3;92mTrue\u001b[0m\u001b[1;39m)\u001b[0m\u001b[39m,\u001b[0m\n",
       "\u001b[39m        \u001b[0m\u001b[1;35mSkill\u001b[0m\u001b[1;39m(\u001b[0m\n",
       "\u001b[39m            \u001b[0m\u001b[33mskill\u001b[0m\u001b[39m=\u001b[0m\u001b[32m'scripting'\u001b[0m\u001b[39m,\u001b[0m\n",
       "\u001b[39m            \u001b[0m\u001b[33mskill_type\u001b[0m\u001b[39m=<SkillType.TECHNICAL: \u001b[0m\u001b[32m'technical'\u001b[0m\u001b[39m>,\u001b[0m\n",
       "\u001b[39m            \u001b[0m\u001b[33mexperience\u001b[0m\u001b[39m=\u001b[0m\u001b[3;35mNone\u001b[0m\u001b[39m,\u001b[0m\n",
       "\u001b[39m            \u001b[0m\u001b[33mis_required\u001b[0m\u001b[39m=\u001b[0m\u001b[3;92mTrue\u001b[0m\n",
       "\u001b[39m        \u001b[0m\u001b[1;39m)\u001b[0m\u001b[39m,\u001b[0m\n",
       "\u001b[39m        \u001b[0m\u001b[1;35mSkill\u001b[0m\u001b[1;39m(\u001b[0m\n",
       "\u001b[39m            \u001b[0m\u001b[33mskill\u001b[0m\u001b[39m=\u001b[0m\u001b[32m'test automation'\u001b[0m\u001b[39m,\u001b[0m\n",
       "\u001b[39m            \u001b[0m\u001b[33mskill_type\u001b[0m\u001b[39m=<SkillType.TECHNICAL: \u001b[0m\u001b[32m'technical'\u001b[0m\u001b[39m>,\u001b[0m\n",
       "\u001b[39m            \u001b[0m\u001b[33mexperience\u001b[0m\u001b[39m=\u001b[0m\u001b[3;35mNone\u001b[0m\u001b[39m,\u001b[0m\n",
       "\u001b[39m            \u001b[0m\u001b[33mis_required\u001b[0m\u001b[39m=\u001b[0m\u001b[3;92mTrue\u001b[0m\n",
       "\u001b[39m        \u001b[0m\u001b[1;39m)\u001b[0m\u001b[39m,\u001b[0m\n",
       "\u001b[39m        \u001b[0m\u001b[1;35mSkill\u001b[0m\u001b[1;39m(\u001b[0m\u001b[33mskill\u001b[0m\u001b[39m=\u001b[0m\u001b[32m'HTML5'\u001b[0m\u001b[39m, \u001b[0m\u001b[33mskill_type\u001b[0m\u001b[39m=<SkillType.TECHNICAL: \u001b[0m\u001b[32m'technical'\u001b[0m\u001b[39m>, \u001b[0m\u001b[33mexperience\u001b[0m\u001b[39m=\u001b[0m\u001b[3;35mNone\u001b[0m\u001b[39m, \u001b[0m\u001b[33mis_required\u001b[0m\u001b[39m=\u001b[0m\u001b[3;91mFalse\u001b[0m\u001b[1;39m)\u001b[0m\u001b[39m,\u001b[0m\n",
       "\u001b[39m        \u001b[0m\u001b[1;35mSkill\u001b[0m\u001b[1;39m(\u001b[0m\u001b[33mskill\u001b[0m\u001b[39m=\u001b[0m\u001b[32m'CSS3'\u001b[0m\u001b[39m, \u001b[0m\u001b[33mskill_type\u001b[0m\u001b[39m=<SkillType.TECHNICAL: \u001b[0m\u001b[32m'technical'\u001b[0m\u001b[39m>, \u001b[0m\u001b[33mexperience\u001b[0m\u001b[39m=\u001b[0m\u001b[3;35mNone\u001b[0m\u001b[39m, \u001b[0m\u001b[33mis_required\u001b[0m\u001b[39m=\u001b[0m\u001b[3;91mFalse\u001b[0m\u001b[1;39m)\u001b[0m\u001b[39m,\u001b[0m\n",
       "\u001b[39m        \u001b[0m\u001b[1;35mSkill\u001b[0m\u001b[1;39m(\u001b[0m\n",
       "\u001b[39m            \u001b[0m\u001b[33mskill\u001b[0m\u001b[39m=\u001b[0m\u001b[32m'relational databases'\u001b[0m\u001b[39m,\u001b[0m\n",
       "\u001b[39m            \u001b[0m\u001b[33mskill_type\u001b[0m\u001b[39m=<SkillType.TECHNICAL: \u001b[0m\u001b[32m'technical'\u001b[0m\u001b[39m>,\u001b[0m\n",
       "\u001b[39m            \u001b[0m\u001b[33mexperience\u001b[0m\u001b[39m=\u001b[0m\u001b[3;35mNone\u001b[0m\u001b[39m,\u001b[0m\n",
       "\u001b[39m            \u001b[0m\u001b[33mis_required\u001b[0m\u001b[39m=\u001b[0m\u001b[3;91mFalse\u001b[0m\n",
       "\u001b[39m        \u001b[0m\u001b[1;39m)\u001b[0m\u001b[39m,\u001b[0m\n",
       "\u001b[39m        \u001b[0m\u001b[1;35mSkill\u001b[0m\u001b[1;39m(\u001b[0m\u001b[33mskill\u001b[0m\u001b[39m=\u001b[0m\u001b[32m'ORM'\u001b[0m\u001b[39m, \u001b[0m\u001b[33mskill_type\u001b[0m\u001b[39m=<SkillType.TECHNICAL: \u001b[0m\u001b[32m'technical'\u001b[0m\u001b[39m>, \u001b[0m\u001b[33mexperience\u001b[0m\u001b[39m=\u001b[0m\u001b[3;35mNone\u001b[0m\u001b[39m, \u001b[0m\u001b[33mis_required\u001b[0m\u001b[39m=\u001b[0m\u001b[3;91mFalse\u001b[0m\u001b[1;39m)\u001b[0m\u001b[39m,\u001b[0m\n",
       "\u001b[39m        \u001b[0m\u001b[1;35mSkill\u001b[0m\u001b[1;39m(\u001b[0m\u001b[33mskill\u001b[0m\u001b[39m=\u001b[0m\u001b[32m'SQL'\u001b[0m\u001b[39m, \u001b[0m\u001b[33mskill_type\u001b[0m\u001b[39m=<SkillType.TECHNICAL: \u001b[0m\u001b[32m'technical'\u001b[0m\u001b[39m>, \u001b[0m\u001b[33mexperience\u001b[0m\u001b[39m=\u001b[0m\u001b[3;35mNone\u001b[0m\u001b[39m, \u001b[0m\u001b[33mis_required\u001b[0m\u001b[39m=\u001b[0m\u001b[3;91mFalse\u001b[0m\u001b[1;39m)\u001b[0m\u001b[39m,\u001b[0m\n",
       "\u001b[39m        \u001b[0m\u001b[1;35mSkill\u001b[0m\u001b[1;39m(\u001b[0m\u001b[33mskill\u001b[0m\u001b[39m=\u001b[0m\u001b[32m'Wicket'\u001b[0m\u001b[39m, \u001b[0m\u001b[33mskill_type\u001b[0m\u001b[39m=<SkillType.TECHNICAL: \u001b[0m\u001b[32m'technical'\u001b[0m\u001b[39m>, \u001b[0m\u001b[33mexperience\u001b[0m\u001b[39m=\u001b[0m\u001b[3;35mNone\u001b[0m\u001b[39m, \u001b[0m\u001b[33mis_required\u001b[0m\u001b[39m=\u001b[0m\u001b[3;91mFalse\u001b[0m\u001b[1;39m)\u001b[0m\u001b[39m,\u001b[0m\n",
       "\u001b[39m        \u001b[0m\u001b[1;35mSkill\u001b[0m\u001b[1;39m(\u001b[0m\u001b[33mskill\u001b[0m\u001b[39m=\u001b[0m\u001b[32m'GWT'\u001b[0m\u001b[39m, \u001b[0m\u001b[33mskill_type\u001b[0m\u001b[39m=<SkillType.TECHNICAL: \u001b[0m\u001b[32m'technical'\u001b[0m\u001b[39m>, \u001b[0m\u001b[33mexperience\u001b[0m\u001b[39m=\u001b[0m\u001b[3;35mNone\u001b[0m\u001b[39m, \u001b[0m\u001b[33mis_required\u001b[0m\u001b[39m=\u001b[0m\u001b[3;91mFalse\u001b[0m\u001b[1;39m)\u001b[0m\u001b[39m,\u001b[0m\n",
       "\u001b[39m        \u001b[0m\u001b[1;35mSkill\u001b[0m\u001b[1;39m(\u001b[0m\n",
       "\u001b[39m            \u001b[0m\u001b[33mskill\u001b[0m\u001b[39m=\u001b[0m\u001b[32m'Spring MVC'\u001b[0m\u001b[39m,\u001b[0m\n",
       "\u001b[39m            \u001b[0m\u001b[33mskill_type\u001b[0m\u001b[39m=<SkillType.TECHNICAL: \u001b[0m\u001b[32m'technical'\u001b[0m\u001b[39m>,\u001b[0m\n",
       "\u001b[39m            \u001b[0m\u001b[33mexperience\u001b[0m\u001b[39m=\u001b[0m\u001b[3;35mNone\u001b[0m\u001b[39m,\u001b[0m\n",
       "\u001b[39m            \u001b[0m\u001b[33mis_required\u001b[0m\u001b[39m=\u001b[0m\u001b[3;91mFalse\u001b[0m\n",
       "\u001b[39m        \u001b[0m\u001b[1;39m)\u001b[0m\u001b[39m,\u001b[0m\n",
       "\u001b[39m        \u001b[0m\u001b[1;35mSkill\u001b[0m\u001b[1;39m(\u001b[0m\n",
       "\u001b[39m            \u001b[0m\u001b[33mskill\u001b[0m\u001b[39m=\u001b[0m\u001b[32m'troubleshooting'\u001b[0m\u001b[39m,\u001b[0m\n",
       "\u001b[39m            \u001b[0m\u001b[33mskill_type\u001b[0m\u001b[39m=<SkillType.TECHNICAL: \u001b[0m\u001b[32m'technical'\u001b[0m\u001b[39m>,\u001b[0m\n",
       "\u001b[39m            \u001b[0m\u001b[33mexperience\u001b[0m\u001b[39m=\u001b[0m\u001b[3;35mNone\u001b[0m\u001b[39m,\u001b[0m\n",
       "\u001b[39m            \u001b[0m\u001b[33mis_required\u001b[0m\u001b[39m=\u001b[0m\u001b[3;92mTrue\u001b[0m\n",
       "\u001b[39m        \u001b[0m\u001b[1;39m)\u001b[0m\u001b[39m,\u001b[0m\n",
       "\u001b[39m        \u001b[0m\u001b[1;35mSkill\u001b[0m\u001b[1;39m(\u001b[0m\u001b[33mskill\u001b[0m\u001b[39m=\u001b[0m\u001b[32m'testing'\u001b[0m\u001b[39m, \u001b[0m\u001b[33mskill_type\u001b[0m\u001b[39m=<SkillType.TECHNICAL: \u001b[0m\u001b[32m'technical'\u001b[0m\u001b[39m>, \u001b[0m\u001b[33mexperience\u001b[0m\u001b[39m=\u001b[0m\u001b[3;35mNone\u001b[0m\u001b[39m, \u001b[0m\u001b[33mis_required\u001b[0m\u001b[39m=\u001b[0m\u001b[3;92mTrue\u001b[0m\u001b[1;39m)\u001b[0m\u001b[39m,\u001b[0m\n",
       "\u001b[39m        \u001b[0m\u001b[1;35mSkill\u001b[0m\u001b[1;39m(\u001b[0m\n",
       "\u001b[39m            \u001b[0m\u001b[33mskill\u001b[0m\u001b[39m=\u001b[0m\u001b[32m'analytics'\u001b[0m\u001b[39m,\u001b[0m\n",
       "\u001b[39m            \u001b[0m\u001b[33mskill_type\u001b[0m\u001b[39m=<SkillType.TECHNICAL: \u001b[0m\u001b[32m'technical'\u001b[0m\u001b[1m>\u001b[0m,\n",
       "            \u001b[33mexperience\u001b[0m=\u001b[3;35mNone\u001b[0m,\n",
       "            \u001b[33mis_required\u001b[0m=\u001b[3;92mTrue\u001b[0m\n",
       "        \u001b[1m)\u001b[0m\n",
       "    \u001b[1m]\u001b[0m,\n",
       "    \u001b[33mexperiences\u001b[0m=\u001b[1m[\u001b[0m\n",
       "        \u001b[1;35mExperience\u001b[0m\u001b[1m(\u001b[0m\n",
       "            \u001b[33mexperience\u001b[0m=\u001b[32m'Five or more years of experience as engineer of software and networking platforms'\u001b[0m,\n",
       "            \u001b[33mis_required\u001b[0m=\u001b[3;92mTrue\u001b[0m\n",
       "        \u001b[1m)\u001b[0m,\n",
       "        \u001b[1;35mExperience\u001b[0m\u001b[1m(\u001b[0m\n",
       "            \u001b[33mexperience\u001b[0m=\u001b[32m'Seven or more years of experience \u001b[0m\u001b[32m(\u001b[0m\u001b[32mprofessional and academic\u001b[0m\u001b[32m)\u001b[0m\u001b[32m with Java, Python, and C++'\u001b[0m,\n",
       "            \u001b[33mis_required\u001b[0m=\u001b[3;92mTrue\u001b[0m\n",
       "        \u001b[1m)\u001b[0m,\n",
       "        \u001b[1;35mExperience\u001b[0m\u001b[1m(\u001b[0m\n",
       "            \u001b[33mexperience\u001b[0m=\u001b[32m'Experience with rapid development cycles in a web-based environment'\u001b[0m,\n",
       "            \u001b[33mis_required\u001b[0m=\u001b[3;92mTrue\u001b[0m\n",
       "        \u001b[1m)\u001b[0m\n",
       "    \u001b[1m]\u001b[0m,\n",
       "    \u001b[33mqualifications\u001b[0m=\u001b[1m[\u001b[0m\n",
       "        \u001b[1;35mQualification\u001b[0m\u001b[1m(\u001b[0m\n",
       "            \u001b[33mdegree\u001b[0m=\u001b[32m'Bachelor’s degree \u001b[0m\u001b[32m(\u001b[0m\u001b[32mor equivalent\u001b[0m\u001b[32m)\u001b[0m\u001b[32m in software engineering or information technology'\u001b[0m,\n",
       "            \u001b[33mis_required\u001b[0m=\u001b[3;91mFalse\u001b[0m\n",
       "        \u001b[1m)\u001b[0m\n",
       "    \u001b[1m]\u001b[0m,\n",
       "    \u001b[33mpersonality_traits\u001b[0m=\u001b[1m[\u001b[0m\u001b[1;35mPersonalityTrait\u001b[0m\u001b[1m(\u001b[0m\u001b[33mtrait\u001b[0m=\u001b[32m'highly motivated'\u001b[0m\u001b[1m)\u001b[0m\u001b[1m]\u001b[0m\n",
       "\u001b[1m)\u001b[0m\n"
      ]
     },
     "metadata": {},
     "output_type": "display_data"
    }
   ],
   "source": [
    "from rich import print \n",
    "print(fields)"
   ]
  },
  {
   "cell_type": "code",
   "execution_count": 52,
   "id": "37c57745-40e5-461f-a142-62caddceca92",
   "metadata": {},
   "outputs": [],
   "source": [
    "import pickle\n",
    "\n",
    "with open('./outputs/linkedin_cv.pkl', 'wb') as f:\n",
    "    pickle.dump(fields, f)"
   ]
  },
  {
   "cell_type": "code",
   "execution_count": 53,
   "id": "0762f673-5f3c-4a6f-a91f-e5dbb290b0fa",
   "metadata": {},
   "outputs": [],
   "source": [
    "# with open('./outputs/linkedin_cv.pkl', 'rb') as f:\n",
    "#     tmp = pickle.load(f)"
   ]
  }
 ],
 "metadata": {
  "environment": {
   "kernel": "conda-base-py",
   "name": "workbench-notebooks.m127",
   "type": "gcloud",
   "uri": "us-docker.pkg.dev/deeplearning-platform-release/gcr.io/workbench-notebooks:m127"
  },
  "kernelspec": {
   "display_name": "Python 3 (ipykernel) (Local)",
   "language": "python",
   "name": "conda-base-py"
  },
  "language_info": {
   "codemirror_mode": {
    "name": "ipython",
    "version": 3
   },
   "file_extension": ".py",
   "mimetype": "text/x-python",
   "name": "python",
   "nbconvert_exporter": "python",
   "pygments_lexer": "ipython3",
   "version": "3.10.16"
  }
 },
 "nbformat": 4,
 "nbformat_minor": 5
}
