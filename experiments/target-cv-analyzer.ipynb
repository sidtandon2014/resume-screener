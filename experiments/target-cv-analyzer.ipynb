{
 "cells": [
  {
   "cell_type": "code",
   "execution_count": 1,
   "id": "6bad886d-bbb0-472d-9593-5ff6acfe7c2b",
   "metadata": {},
   "outputs": [
    {
     "name": "stdout",
     "output_type": "stream",
     "text": [
      "\u001b[33m  WARNING: Failed to remove contents in a temporary directory '/opt/conda/lib/python3.10/site-packages/google/~pi_core'.\n",
      "  You can safely remove it manually.\u001b[0m\u001b[33m\n",
      "\u001b[31mERROR: pip's dependency resolver does not currently take into account all the packages that are installed. This behaviour is the source of the following dependency conflicts.\n",
      "google-api-python-client 1.8.0 requires google-api-core<2dev,>=1.13.0, but you have google-api-core 2.24.1 which is incompatible.\n",
      "kfp 2.5.0 requires requests-toolbelt<1,>=0.8.0, but you have requests-toolbelt 1.0.0 which is incompatible.\u001b[0m\u001b[31m\n",
      "\u001b[0m"
     ]
    }
   ],
   "source": [
    "!pip install -qU \"langchain[google-vertexai]\""
   ]
  },
  {
   "cell_type": "code",
   "execution_count": 10,
   "id": "1b8dcba6-1f8b-4f29-b807-2e8556a26cc9",
   "metadata": {},
   "outputs": [],
   "source": [
    "from typing import Optional, List\n",
    "from pydantic import BaseModel, Field\n",
    "from enum import Enum\n",
    "\n",
    "import pandas as pd\n",
    "from langchain.chat_models import init_chat_model"
   ]
  },
  {
   "cell_type": "code",
   "execution_count": 7,
   "id": "e5d8d120-1439-4221-9f1b-449f13bac54b",
   "metadata": {},
   "outputs": [],
   "source": [
    "f = open(\"./data/linkedin_cv.txt\", \"r\")\n",
    "linkedin_target_resume = f.read()"
   ]
  },
  {
   "cell_type": "code",
   "execution_count": 28,
   "id": "d4245c2e-d475-4390-8ad1-8d333f00b5ee",
   "metadata": {},
   "outputs": [],
   "source": [
    "llm = init_chat_model(\"gemini-2.0-flash-001\", model_provider=\"google_vertexai\", temperature = 0.3)"
   ]
  },
  {
   "cell_type": "code",
   "execution_count": 29,
   "id": "3fff36ea-9c52-423f-84a3-35902f1a593a",
   "metadata": {
    "scrolled": true
   },
   "outputs": [],
   "source": [
    "# Pydantic\n",
    "\n",
    "class SkillType(str, Enum):\n",
    "    \"\"\" SKill type\"\"\"\n",
    "    TECHNICAL = 'technical'\n",
    "    SOFT_SKILL = 'soft-skill'\n",
    "\n",
    "class Skill(BaseModel):\n",
    "    \"\"\"Skill required for the job\"\"\"\n",
    "\n",
    "    skill: str = Field(description=\"Required or preferred skill in candidate. This can be technical or soft skill \")\n",
    "    skill_type: SkillType = Field(description=\"type of skill in candidate.\")\n",
    "    experience: int = Field(default=None, description=\"Experience associated the skill.\",)\n",
    "    is_required: bool = Field(default = True, description=\"Is this skill required or preferred\")    \n",
    "\n",
    "class Skills(BaseModel):\n",
    "    \"\"\"Extracted skills from resume\"\"\"\n",
    "    skills: List[Skill]\n",
    "\n",
    "class Qualifications(BaseModel):\n",
    "    \"\"\"Extract qualifications/ education from resume\"\"\"\n",
    "    degree: str = Field(description=\"Education backgr\")\n",
    "    \n",
    "# structured_llm = llm.with_structured_output(Skills)\n",
    "# structured_llm.invoke(linkedin_target_resume)"
   ]
  },
  {
   "cell_type": "code",
   "execution_count": 34,
   "id": "182611e8-b73e-439d-b9a7-d0acaf78c08f",
   "metadata": {},
   "outputs": [],
   "source": [
    "system_prompt = \"\"\"\n",
    "You are a highly skilled AI assistant specializing in analyzing job descriptions and extracting key requirements. Your goal is to meticulously identify and categorize the essential skills, qualifications, experience, and other attributes sought by employers.\n",
    "\n",
    "**Your Task:**\n",
    "\n",
    "Given a job description as input, extract and organize the following information into a structured format. Be comprehensive and specific, avoiding vague or generic terms.\n",
    "\n",
    "**Output Format:**\n",
    "\n",
    "Present the extracted information in a clear and organized manner, using the following sections:\n",
    "\n",
    "*   **Required and preferred Skills (Technical & Soft):**  List specific technical skills (e.g., Python, Java, SQL, AWS, project management) and soft skills (e.g., communication, teamwork, leadership, problem-solving).  Prioritize skills explicitly mentioned as required or essential. For each skill, briefly note the context if specified in the job description (e.g., \"Python for data analysis,\" \"Communication skills for client interaction\"). If levels are specified include those as well (e.g. Intermediate Python).\n",
    "\n",
    "*   **Required Qualifications/Education:**  Specify the necessary educational background (e.g., Bachelor's degree in Computer Science, Master's degree in Business Administration) and any required certifications or licenses (e.g., PMP, CPA, AWS Certified Solutions Architect). Be exact.\n",
    "\n",
    "*   **Required Experience:**  Detail the required years of experience and the specific areas of experience sought (e.g., \"5+ years of experience in software development,\" \"3+ years of experience in project management within the healthcare industry\"). Note the context of the experience.\n",
    "\n",
    "*   **Responsibilities (List):**  Briefly list the main responsibilities that are explicitly listed in the job description.\n",
    "\n",
    "*   **Tools/Technologies:** List specific tools or technologies mentioned in the job description. (e.g. Jira, Confluence, Salesforce)\n",
    "\n",
    "*   **Other Requirements:** Capture any other mandatory requirements not covered above, such as:\n",
    "    *   Travel requirements (e.g., \"Must be willing to travel up to 25%\")\n",
    "    *   Physical requirements (e.g., \"Ability to lift 50 lbs\")\n",
    "    *   Security clearances (e.g., \"Must be able to obtain a security clearance\")\n",
    "    *   Work authorization requirements (e.g., \"Must be authorized to work in the US\")\n",
    "\n",
    "**Instructions:**\n",
    "\n",
    "1.  **Read the job description carefully and thoroughly.**\n",
    "2.  **Focus on explicitly stated requirements.**  Infer requirements only when strongly implied and directly supported by the text.\n",
    "3.  **Be specific and detailed.** Avoid generalizations. For example, instead of \"programming skills,\" specify \"Proficiency in Python and Java.\"\n",
    "4.  **Prioritize \"must-have\" requirements.**  Distinguish between essential requirements and desired or \"nice-to-have\" qualifications if the job description makes that distinction. If there is a distinction, then add a \"Desired Skills/Experience\" Section.\n",
    "5.  **Maintain accuracy.**  Do not add information that is not present in the job description.\n",
    "6.  **Conciseness is important,** but don't sacrifice accuracy or completeness.\n",
    "\"\"\""
   ]
  },
  {
   "cell_type": "code",
   "execution_count": 35,
   "id": "894c5af5-74ea-4e0d-9d21-916d1196995c",
   "metadata": {},
   "outputs": [],
   "source": [
    "from langchain_core.prompts import ChatPromptTemplate, MessagesPlaceholder\n",
    "\n",
    "prompt = ChatPromptTemplate.from_messages(\n",
    "    [\n",
    "        (\n",
    "            \"system\",\n",
    "            system_prompt\n",
    "        ),\n",
    "        (\"human\", \"{text}\"),\n",
    "    ]\n",
    ")"
   ]
  },
  {
   "cell_type": "code",
   "execution_count": 37,
   "id": "37b47b6e-ea13-4d82-bf75-75a3c68a2968",
   "metadata": {},
   "outputs": [
    {
     "name": "stdout",
     "output_type": "stream",
     "text": [
      "content=\"Here's a breakdown of the requirements extracted from the job description:\\n\\n*   **Required Skills (Technical & Soft):**\\n    *   Java (7+ years of experience, professional and academic)\\n    *   Python (7+ years of experience, professional and academic)\\n    *   C++ (7+ years of experience, professional and academic)\\n    *   Software and networking platforms engineering (5+ years of experience)\\n    *   Scripting\\n    *   Test automation\\n    *   Documentation (design processes, including development, testing, analytics, and troubleshooting)\\n    *   Problem-solving (finding technical issues and fixing them)\\n    *   Communication (collaboration with a global team)\\n    *   Planning\\n    *   Analytical skills (analyze the efficiency and feasibility of project operations)\\n\\n*   **Required Qualifications/Education:**\\n    *   None explicitly stated, but a desire to continue professional growth through training and education is mentioned.\\n\\n*   **Required Experience:**\\n    *   5+ years of experience as an engineer of software and networking platforms.\\n    *   7+ years of experience (professional and academic) with Java, Python, and C++.\\n    *   Experience with rapid development cycles in a web-based environment.\\n\\n*   **Responsibilities (List):**\\n    *   Enhance existing platform and network capabilities.\\n    *   Visualize, design, and develop innovative software platforms.\\n    *   Create scalable software platforms and applications and efficient networking solutions.\\n    *   Examine existing systems for flaws and create solutions.\\n    *   Plan and execute the full software development lifecycle.\\n    *   Design and build tools and frameworks to automate development, testing, deployment, and management.\\n    *   Plan and scale distributed software and applications.\\n    *   Collaborate with a global team to produce project plans.\\n    *   Track, document, and maintain software and network system functionality.\\n    *   Focus on creating software and networking platforms that are free of faulty programming.\\n    *   Work with product managers and user-experience designers to influence strategy and delivery.\\n\\n*   **Tools/Technologies:**\\n    *   Not explicitly mentioned, but implied use of tools for:\\n        *   Unit testing\\n        *   Code review\\n        *   Continuous integration\\n        *   Monitoring\\n        *   Automated remediation\\n\\n*   **Other Requirements:**\\n    *   None explicitly stated.\\n\\n*   **Desired Skills/Experience:**\\n    *   Bachelor’s degree (or equivalent) in software engineering or information technology\\n    *   Working knowledge of relational databases as well as ORM and SQL technologies\\n    *   Proficiency with HTML5, CSS3, and content management systems\\n    *   Web application development experience with multiple frameworks, including Wicket, GWT, and Spring MVC\\n\" additional_kwargs={} response_metadata={'is_blocked': False, 'safety_ratings': [], 'citation_metadata': {'citations': [{'start_index': 1615, 'end_index': 1774, 'uri': 'https://www.upwork.com/job/Full-stack-web-developer-for-Leporem_~011ab2b9e2265c4a57/', 'title': '', 'license_': ''}, {'start_index': 2471, 'end_index': 2625, 'uri': 'https://www.inspire.flights/career/', 'title': '', 'license_': ''}, {'start_index': 2506, 'end_index': 2803, 'uri': 'https://business.linkedin.com/talent-solutions/resources/how-to-hire-guides/software-engineer/job-description', 'title': '', 'license_': ''}]}, 'usage_metadata': {'prompt_token_count': 1191, 'candidates_token_count': 590, 'total_token_count': 1781, 'prompt_tokens_details': [{'modality': 1, 'token_count': 1191}], 'candidates_tokens_details': [{'modality': 1, 'token_count': 590}], 'cached_content_token_count': 0, 'cache_tokens_details': []}, 'finish_reason': 'STOP', 'avg_logprobs': -0.03606598740917141} id='run-c1da616d-633d-4c9b-8a96-bb291276d949-0' usage_metadata={'input_tokens': 1191, 'output_tokens': 590, 'total_tokens': 1781}\n"
     ]
    }
   ],
   "source": [
    "runnable = prompt | llm\n",
    "\n",
    "print(runnable.invoke({\"text\": (\n",
    "    f\"{linkedin_target_resume}\"\n",
    "    \"What skills are present in the CV?\"\n",
    ")}))"
   ]
  },
  {
   "cell_type": "code",
   "execution_count": null,
   "id": "73c152f7-9ebe-486a-b7a7-d851ad642977",
   "metadata": {},
   "outputs": [],
   "source": []
  }
 ],
 "metadata": {
  "environment": {
   "kernel": "conda-base-py",
   "name": "workbench-notebooks.m127",
   "type": "gcloud",
   "uri": "us-docker.pkg.dev/deeplearning-platform-release/gcr.io/workbench-notebooks:m127"
  },
  "kernelspec": {
   "display_name": "Python 3 (ipykernel) (Local) (Local)",
   "language": "python",
   "name": "conda-base-py"
  },
  "language_info": {
   "codemirror_mode": {
    "name": "ipython",
    "version": 3
   },
   "file_extension": ".py",
   "mimetype": "text/x-python",
   "name": "python",
   "nbconvert_exporter": "python",
   "pygments_lexer": "ipython3",
   "version": "3.10.16"
  }
 },
 "nbformat": 4,
 "nbformat_minor": 5
}
