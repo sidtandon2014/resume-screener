{
 "cells": [
  {
   "cell_type": "code",
   "execution_count": 2,
   "id": "9230b3a1-eef6-4605-b103-e6b3fbe20524",
   "metadata": {},
   "outputs": [],
   "source": [
    "!pip install -q langchain-community\n",
    "!pip install --upgrade --quiet  rank_bm25 > /dev/null"
   ]
  },
  {
   "cell_type": "code",
   "execution_count": 28,
   "id": "f4e1acc9-ede4-46bc-b81d-3242f8a211b1",
   "metadata": {},
   "outputs": [],
   "source": [
    "import pandas as pd\n",
    "import os\n",
    "from model import ResumeFields, Skill, Experience, Qualification, PersonalityTrait\n",
    "import pickle\n",
    "from typing import List\n",
    "from rich import print as rprint\n",
    "\n",
    "from langchain_core.documents import Document"
   ]
  },
  {
   "cell_type": "markdown",
   "id": "27a17ac9-607a-4ddb-a858-f446439d0a14",
   "metadata": {},
   "source": [
    "### Define weights for assessment criteria"
   ]
  },
  {
   "cell_type": "code",
   "execution_count": 67,
   "id": "6269acf4-1718-4e0e-a809-11b9cb7606b0",
   "metadata": {},
   "outputs": [],
   "source": [
    "key_skills_wght = 0.4\n",
    "exp_wght = 0.3\n",
    "qualifications_wght = 0.2\n",
    "personality_traits_wght = 0.1"
   ]
  },
  {
   "cell_type": "markdown",
   "id": "8026d293-83a8-4ecc-90a2-22245dfbd950",
   "metadata": {},
   "source": [
    "### Define documents"
   ]
  },
  {
   "cell_type": "code",
   "execution_count": 5,
   "id": "62a00687-4a56-4667-9ffe-28a26c1e622d",
   "metadata": {},
   "outputs": [],
   "source": [
    "# from rich import print as rprint\n",
    "# index = 5600\n",
    "# with open(f'./outputs/candidates/{index}.pkl', 'rb') as f:\n",
    "#     tmp = pickle.load(f)\n",
    "# rprint(tmp.json())"
   ]
  },
  {
   "cell_type": "code",
   "execution_count": 19,
   "id": "9c78a1f9-6f3d-42d5-8b81-875a7519bdc8",
   "metadata": {},
   "outputs": [],
   "source": [
    "skill_delimiter = \"\\t\"\n",
    "\n",
    "def create_document(page_content, metadata):\n",
    "    document = Document(\n",
    "        page_content=page_content,\n",
    "        metadata=metadata\n",
    "    ) \n",
    "    return document\n",
    "\n",
    "def create_skill_document(skills: List[Skill], parent_doc_id):\n",
    "    page_content = skill_delimiter.join([skill.skill.lower() for skill in skills])\n",
    "    return create_document(page_content, {\"doc_id\": parent_doc_id})\n",
    "\n",
    "def create_experience_document(experiences: List[Experience], parent_doc_id):\n",
    "    page_content = \"\\n\".join([experience.experience for experience in experiences])\n",
    "    return create_document(page_content, {\"doc_id\": parent_doc_id})\n",
    "\n",
    "def create_qualification_document(qualifications: List[Qualification], parent_doc_id):\n",
    "    page_content = \"\\n\".join([qualification.degree for qualification in qualifications])\n",
    "    return create_document(page_content, {\"doc_id\": parent_doc_id})\n",
    "\n",
    "def create_personality_trait_document(personality_traits: List[PersonalityTrait], parent_doc_id):\n",
    "    page_content = \"\\n\".join([pt.trait for pt in personality_traits])\n",
    "    return create_document(page_content, {\"doc_id\": parent_doc_id})"
   ]
  },
  {
   "cell_type": "code",
   "execution_count": 53,
   "id": "6bde3de0-a33b-4585-b84b-120a433f7a40",
   "metadata": {},
   "outputs": [],
   "source": [
    "candidates_ds_path = \"./outputs/candidates\"\n",
    "skill_documents = []\n",
    "experience_documents = []\n",
    "qualification_documents = []\n",
    "personality_trait_documents = []\n",
    "\n",
    "for file in os.listdir(candidates_ds_path):\n",
    "    if \".pkl\" in file: \n",
    "        file_path = f\"{candidates_ds_path}/{file}\"\n",
    "        doc_id = file.split(\".\")[0]\n",
    "        with open(file_path, 'rb') as f:\n",
    "            resume_fields = pickle.load(f)\n",
    "            if resume_fields is not None:\n",
    "                skill_documents.append(create_skill_document(resume_fields.skills, doc_id))\n",
    "                if len(resume_fields.experiences) > 0:\n",
    "                    experience_documents.append(create_experience_document(resume_fields.experiences, doc_id))\n",
    "                if len(resume_fields.qualifications) > 0:\n",
    "                    qualification_documents.append(create_qualification_document(resume_fields.qualifications, doc_id))\n",
    "                if len(resume_fields.personality_traits) > 0:\n",
    "                    personality_trait_documents.append(create_personality_trait_document(resume_fields.personality_traits, doc_id))"
   ]
  },
  {
   "cell_type": "code",
   "execution_count": 57,
   "id": "8178c20e-aafd-418a-9e92-54312cf3e259",
   "metadata": {},
   "outputs": [],
   "source": [
    "# rprint(personality_trait_documents[:2])"
   ]
  },
  {
   "cell_type": "code",
   "execution_count": 37,
   "id": "23bced9b-1365-4c67-bf59-9319688bf825",
   "metadata": {},
   "outputs": [],
   "source": [
    "# Target document\n",
    "trgt_file_path = \"./outputs/linkedin_cv.pkl\"\n",
    "trgt_query_docs = []\n",
    "\n",
    "if os.path.exists(trgt_file_path):\n",
    "    doc_id = trgt_file_path.split(\".\")[0]\n",
    "    with open(file_path, 'rb') as f:\n",
    "        resume_fields = pickle.load(f)\n",
    "        if resume_fields is not None:\n",
    "            trgt_query_docs.extend([\n",
    "                skill_delimiter.join([skill.skill.lower() for skill in resume_fields.skills])\n",
    "                ,\"\\n\".join([experience.experience for experience in resume_fields.experiences])\n",
    "                ,\"\\n\".join([qualification.degree for qualification in resume_fields.qualifications])\n",
    "                ,\"\\n\".join([pt.trait for pt in resume_fields.personality_traits])\n",
    "            ])\n",
    "\n",
    "trgt_query = \"\\n\".join(trgt_query_docs)"
   ]
  },
  {
   "cell_type": "code",
   "execution_count": 38,
   "id": "3e01ab58-b945-44b5-8f09-4883c890471b",
   "metadata": {},
   "outputs": [
    {
     "name": "stdout",
     "output_type": "stream",
     "text": [
      "software development\tmachine learning\tdeep learning\trisk assessment\trequirement gathering\tapplication support\tjavascript\tpython\tdocker\thtml\thive\tcss\tc\tc++\n",
      "7 years of experience in Unified Payment Interface\n",
      "7 years of experience in Risk Prediction\n",
      "7 years of experience in Spark\n",
      "7 years of experience in PySpark\n",
      "7 years of experience in Big Data\n",
      "B.Tech in Electronics/Telecommunication from Birla Institute of Technology (BIT), Ranchi\n",
      "\n"
     ]
    }
   ],
   "source": [
    "print(trgt_query)"
   ]
  },
  {
   "cell_type": "markdown",
   "id": "9ca84e73-c708-4ea5-9c3e-edd640f11555",
   "metadata": {},
   "source": [
    "### Define retrievers"
   ]
  },
  {
   "cell_type": "code",
   "execution_count": 21,
   "id": "104e13b7-258e-4d96-b537-a0ad7571ad17",
   "metadata": {},
   "outputs": [],
   "source": [
    "from langchain.retrievers import EnsembleRetriever\n",
    "from langchain_community.retrievers import BM25Retriever\n",
    "from langchain_community.vectorstores import FAISS"
   ]
  },
  {
   "cell_type": "code",
   "execution_count": 42,
   "id": "8eb30c86-22ad-42f0-8876-a01b9349b546",
   "metadata": {},
   "outputs": [],
   "source": [
    "import vertexai\n",
    "from langchain_google_vertexai import VertexAIEmbeddings\n",
    "\n",
    "PROJECT_ID = \"sidproj-354203\"  # @param {type:\"string\"}\n",
    "LOCATION = \"us-central1\"  # @param {type:\"string\"}\n",
    "\n",
    "vertexai.init(project=PROJECT_ID, location=LOCATION)\n",
    "embedding_model = VertexAIEmbeddings(model_name=\"text-embedding-005\")"
   ]
  },
  {
   "cell_type": "code",
   "execution_count": 22,
   "id": "d084c410-6142-4571-a893-08780e697750",
   "metadata": {},
   "outputs": [],
   "source": [
    "def word_tokenize(page_content):\n",
    "    return page_content.split(skill_delimiter) "
   ]
  },
  {
   "cell_type": "markdown",
   "id": "c65602d5-a816-47d0-aa41-c9860e52fe35",
   "metadata": {},
   "source": [
    "#### Skills Retriever"
   ]
  },
  {
   "cell_type": "code",
   "execution_count": null,
   "id": "864a40cc-d98c-45f6-bfb4-d156f75ef12a",
   "metadata": {},
   "outputs": [],
   "source": [
    "skills_retriever = BM25Retriever.from_documents(\n",
    "    skill_documents,\n",
    "    k=3,\n",
    "    preprocess_func=word_tokenize,\n",
    ")"
   ]
  },
  {
   "cell_type": "markdown",
   "id": "820284d3-f787-471c-8b83-7cead7e9865e",
   "metadata": {},
   "source": [
    "#### Personality trait retriever"
   ]
  },
  {
   "cell_type": "code",
   "execution_count": 61,
   "id": "638422e6-9745-49e6-84d0-948f9a857788",
   "metadata": {},
   "outputs": [],
   "source": [
    "trait_vectorstore = FAISS.from_documents(\n",
    "    personality_trait_documents, embedding_model\n",
    ")\n",
    "trait_retriever = trait_vectorstore.as_retriever(search_kwargs={\"k\": 3})"
   ]
  },
  {
   "cell_type": "markdown",
   "id": "a69e070b-5c6e-459c-bc74-dcac9180ac91",
   "metadata": {},
   "source": [
    "#### Qualification Retriever"
   ]
  },
  {
   "cell_type": "code",
   "execution_count": 60,
   "id": "60bdceb3-358e-4039-aa32-61e266e8b600",
   "metadata": {},
   "outputs": [],
   "source": [
    "qualification_vectorstore = FAISS.from_documents(\n",
    "    qualification_documents, embedding_model\n",
    ")\n",
    "qualification_retriever = qualification_vectorstore.as_retriever(search_kwargs={\"k\": 3})"
   ]
  },
  {
   "cell_type": "markdown",
   "id": "5e4d091c-afb0-4bec-82ee-becaf8b46bdd",
   "metadata": {},
   "source": [
    "#### Experience Retriever"
   ]
  },
  {
   "cell_type": "code",
   "execution_count": 59,
   "id": "20dcba5f-3322-4739-bb05-6430fff722ac",
   "metadata": {},
   "outputs": [],
   "source": [
    "exp_vectorstore = FAISS.from_documents(\n",
    "    experience_documents, embedding_model\n",
    ")\n",
    "exp_retriever = exp_vectorstore.as_retriever(search_kwargs={\"k\": 3})"
   ]
  },
  {
   "cell_type": "markdown",
   "id": "3fef50d1-daa9-46de-86ca-b1d0b25693d8",
   "metadata": {},
   "source": [
    "#### Ensemble Retreiver"
   ]
  },
  {
   "cell_type": "code",
   "execution_count": 68,
   "id": "6667c861-2c42-4383-b4e2-80e568733908",
   "metadata": {},
   "outputs": [],
   "source": [
    "ensemble_retriever = EnsembleRetriever(\n",
    "    retrievers=[skills_retriever, exp_retriever, qualification_retriever, trait_retriever]\n",
    "    , weights=[key_skills_wght\n",
    "               , exp_wght\n",
    "              , qualifications_wght\n",
    "              , personality_traits_wght]\n",
    ")"
   ]
  },
  {
   "cell_type": "code",
   "execution_count": 69,
   "id": "a73955de-478e-4b39-8b7d-fbe04aece496",
   "metadata": {},
   "outputs": [
    {
     "data": {
      "text/plain": [
       "[Document(metadata={'doc_id': '778'}, page_content='software development\\tmachine learning\\tdeep learning\\trisk assessment\\trequirement gathering\\tapplication support\\tjavascript\\tpython\\tdocker\\thtml\\thive\\tcss\\tc\\tc++'),\n",
       " Document(id='ba600247-ccd9-4951-b880-a3076b4c38ec', metadata={'doc_id': '27'}, page_content='7 years of experience in Unified Payment Interface\\n7 years of experience in Risk Prediction\\n7 years of experience in Spark\\n7 years of experience in PySpark\\n7 years of experience in Big Data'),\n",
       " Document(id='70c894fc-7aa9-4e6e-8220-1abc5c235d15', metadata={'doc_id': '8739'}, page_content='B.Tech(Computers)\\nMasters (Data Science)'),\n",
       " Document(id='285e0e43-bc7e-4d3d-b96c-b13d6d7ec201', metadata={'doc_id': '7805'}, page_content='M.Tech from Indian Institute of Technology\\nB.E in Electrical Engineering from Devi Ahilya University\\nCourse in Machine learning from Coursera - Stanford'),\n",
       " Document(id='946d0bfa-a678-4d19-8a7b-86a7e4d4ca6b', metadata={'doc_id': '5176'}, page_content='Excellent ability in identifying data requirements for analysis, data cleaning, munging and model building\\nComfortable with data handling, modeling, and coding, and have an appreciation of what makes sense from a business standpoint\\nFascinated by learning cutting edge technologies, such as; Data Mining and Machine Learning'),\n",
       " Document(id='1417585a-149d-4da3-81db-dfc0f60cc2db', metadata={'doc_id': '5604'}, page_content='Excellent ability in identifying data requirements for analysis, data cleaning, munging and model building\\nComfortable with data handling, modeling, and coding\\nappreciation of what makes sense from a business standpoint\\nFascinated by learning cutting edge technologies')]"
      ]
     },
     "execution_count": 69,
     "metadata": {},
     "output_type": "execute_result"
    }
   ],
   "source": [
    "result = ensemble_retriever.invoke(trgt_query)\n",
    "result"
   ]
  },
  {
   "cell_type": "code",
   "execution_count": 65,
   "id": "cb0b4711-98d3-4eb3-a624-3c019e207c32",
   "metadata": {},
   "outputs": [
    {
     "data": {
      "text/plain": [
       "[Document(id='ba600247-ccd9-4951-b880-a3076b4c38ec', metadata={'doc_id': '27'}, page_content='7 years of experience in Unified Payment Interface\\n7 years of experience in Risk Prediction\\n7 years of experience in Spark\\n7 years of experience in PySpark\\n7 years of experience in Big Data'),\n",
       " Document(id='0b4acc47-631d-4dd2-adfc-c8659e26c464', metadata={'doc_id': '5705'}, page_content='7 years of experience in Unified Payment Interface\\n7 years of experience in Risk Prediction\\n7 years of experience in Spark\\n7 years of experience in PySpark\\n7 years of experience in Big Data'),\n",
       " Document(id='cff61925-43c6-4259-807f-cb27b89c8837', metadata={'doc_id': '9038'}, page_content='7 years of experience in Unified Payment Interface\\n7 years of experience in Risk Prediction\\n7 years of experience in Spark\\n7 years of experience in PySpark\\n7 years of experience in Big Data'),\n",
       " Document(id='4be9cbea-2f7e-4203-aa6d-734c56d47071', metadata={'doc_id': '3866'}, page_content='7 years of experience in Unified Payment Interface\\n7 years of experience in Risk Prediction\\n7 years of experience in Spark\\n7 years of experience in PySpark\\n7 years of experience in Big Data')]"
      ]
     },
     "execution_count": 65,
     "metadata": {},
     "output_type": "execute_result"
    }
   ],
   "source": [
    "result = exp_vectorstore.similarity_search(trgt_query)\n",
    "result"
   ]
  },
  {
   "cell_type": "code",
   "execution_count": null,
   "id": "48d591f3-81fa-4993-b62f-56712f05998f",
   "metadata": {},
   "outputs": [],
   "source": [
    "skills_retriever"
   ]
  }
 ],
 "metadata": {
  "environment": {
   "kernel": "conda-base-py",
   "name": "workbench-notebooks.m127",
   "type": "gcloud",
   "uri": "us-docker.pkg.dev/deeplearning-platform-release/gcr.io/workbench-notebooks:m127"
  },
  "kernelspec": {
   "display_name": "Python 3 (ipykernel) (Local)",
   "language": "python",
   "name": "conda-base-py"
  },
  "language_info": {
   "codemirror_mode": {
    "name": "ipython",
    "version": 3
   },
   "file_extension": ".py",
   "mimetype": "text/x-python",
   "name": "python",
   "nbconvert_exporter": "python",
   "pygments_lexer": "ipython3",
   "version": "3.10.16"
  }
 },
 "nbformat": 4,
 "nbformat_minor": 5
}
