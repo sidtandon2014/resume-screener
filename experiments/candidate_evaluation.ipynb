{
 "cells": [
  {
   "cell_type": "markdown",
   "id": "ce9db25d-bd44-44da-854a-61d7b4bc689d",
   "metadata": {},
   "source": [
    "### Authenticate your notebook environment (Colab only)"
   ]
  },
  {
   "cell_type": "code",
   "execution_count": null,
   "id": "5c6eb17c-28a4-4d18-a385-f8a7d91e9340",
   "metadata": {},
   "outputs": [],
   "source": [
    "PROJECT_ID = \"[your-project-id]\"  # @param {type:\"string\"}\n",
    "LOCATION = \"us-central1\"  # @param {type:\"string\"}"
   ]
  },
  {
   "cell_type": "code",
   "execution_count": null,
   "id": "710e0e99-92bc-4c44-876b-7333bff4892f",
   "metadata": {},
   "outputs": [],
   "source": [
    "import sys\n",
    "\n",
    "if \"google.colab\" in sys.modules:\n",
    "    # Authenticate user to Google Cloud\n",
    "    from google.colab import auth\n",
    "\n",
    "    auth.authenticate_user()"
   ]
  },
  {
   "cell_type": "markdown",
   "id": "6ab15949-d2cf-4228-b30d-a87140bc1efa",
   "metadata": {},
   "source": [
    "### Import Libraries"
   ]
  },
  {
   "cell_type": "code",
   "execution_count": 16,
   "id": "f4e1acc9-ede4-46bc-b81d-3242f8a211b1",
   "metadata": {},
   "outputs": [],
   "source": [
    "import pandas as pd\n",
    "import os\n",
    "from model import ResumeFields, Skill, Experience, Qualification, PersonalityTrait\n",
    "import pickle\n",
    "from typing import List, Dict\n",
    "from rich import print as rprint\n",
    "from tqdm import tqdm\n",
    "import numpy as np\n",
    "\n",
    "import asyncio\n",
    "import vertexai\n",
    "from langchain_google_vertexai import VertexAIEmbeddings"
   ]
  },
  {
   "cell_type": "markdown",
   "id": "27a17ac9-607a-4ddb-a858-f446439d0a14",
   "metadata": {},
   "source": [
    "### Customized weights for assessment criteria"
   ]
  },
  {
   "cell_type": "code",
   "execution_count": 3,
   "id": "6269acf4-1718-4e0e-a809-11b9cb7606b0",
   "metadata": {},
   "outputs": [],
   "source": [
    "key_skills_wght = 0.4\n",
    "exp_wght = 0.3\n",
    "qualifications_wght = 0.2\n",
    "personality_traits_wght = 0.1"
   ]
  },
  {
   "cell_type": "markdown",
   "id": "8026d293-83a8-4ecc-90a2-22245dfbd950",
   "metadata": {},
   "source": [
    "### Prepare documents"
   ]
  },
  {
   "cell_type": "code",
   "execution_count": 4,
   "id": "9f49856c-8968-4baa-aae5-49be816cfb79",
   "metadata": {},
   "outputs": [],
   "source": [
    "skill_delimiter = \"\\t\""
   ]
  },
  {
   "cell_type": "code",
   "execution_count": 5,
   "id": "9c78a1f9-6f3d-42d5-8b81-875a7519bdc8",
   "metadata": {},
   "outputs": [],
   "source": [
    "def create_document(page_content, metadata):\n",
    "    document = Document(\n",
    "        page_content=page_content,\n",
    "        metadata=metadata\n",
    "    ) \n",
    "    return document\n",
    "\n",
    "def create_skill_document(skills: List[Skill], parent_doc_id):\n",
    "    page_content = skill_delimiter.join([skill.skill.lower() for skill in skills])\n",
    "    # return create_document(page_content, {\"doc_id\": parent_doc_id})\n",
    "    return page_content\n",
    "\n",
    "def create_experience_document(experiences: List[Experience], parent_doc_id):\n",
    "    page_content = \"\\n\".join([experience.experience for experience in experiences])\n",
    "    return page_content\n",
    "\n",
    "def create_qualification_document(qualifications: List[Qualification], parent_doc_id):\n",
    "    page_content = \"\\n\".join([qualification.degree for qualification in qualifications])\n",
    "    return page_content\n",
    "\n",
    "def create_personality_trait_document(personality_traits: List[PersonalityTrait], parent_doc_id):\n",
    "    page_content = \"\\n\".join([pt.trait for pt in personality_traits])\n",
    "    return page_content"
   ]
  },
  {
   "cell_type": "markdown",
   "id": "5d0ff9dd-45db-4002-b1dc-2fbb21c66069",
   "metadata": {},
   "source": [
    "##### Candidate resume docs"
   ]
  },
  {
   "cell_type": "code",
   "execution_count": 6,
   "id": "6bde3de0-a33b-4585-b84b-120a433f7a40",
   "metadata": {},
   "outputs": [],
   "source": [
    "candidates_ds_path = \"./outputs/candidates\"\n",
    "candidate_resumes = {}\n",
    "\n",
    "for file in os.listdir(candidates_ds_path):\n",
    "    if \".pkl\" in file: \n",
    "        file_path = f\"{candidates_ds_path}/{file}\"\n",
    "        doc_id = file.split(\".\")[0]\n",
    "        with open(file_path, 'rb') as f:\n",
    "            resume_fields = pickle.load(f)\n",
    "            if resume_fields is not None:\n",
    "                candidate_resumes[doc_id] = {}\n",
    "                candidate_resumes[doc_id][\"skills\"] = create_skill_document(resume_fields.skills, doc_id)\n",
    "                if len(resume_fields.experiences) > 0:\n",
    "                    candidate_resumes[doc_id][\"exp\"] = create_experience_document(resume_fields.experiences, doc_id)\n",
    "                if len(resume_fields.qualifications) > 0:\n",
    "                    candidate_resumes[doc_id][\"qualification\"] = create_qualification_document(resume_fields.qualifications, doc_id)\n",
    "                if len(resume_fields.personality_traits) > 0:\n",
    "                    candidate_resumes[doc_id][\"trait\"] = create_personality_trait_document(resume_fields.personality_traits, doc_id)\n",
    "\n",
    "candidate_resumes_df = pd.DataFrame(candidate_resumes).T\n",
    "candidate_resumes_df = candidate_resumes_df.fillna(\"\")"
   ]
  },
  {
   "cell_type": "code",
   "execution_count": 7,
   "id": "a8f5f47c-326c-4133-b9ae-9ccfb4d207c8",
   "metadata": {},
   "outputs": [
    {
     "data": {
      "text/html": [
       "<div>\n",
       "<style scoped>\n",
       "    .dataframe tbody tr th:only-of-type {\n",
       "        vertical-align: middle;\n",
       "    }\n",
       "\n",
       "    .dataframe tbody tr th {\n",
       "        vertical-align: top;\n",
       "    }\n",
       "\n",
       "    .dataframe thead th {\n",
       "        text-align: right;\n",
       "    }\n",
       "</style>\n",
       "<table border=\"1\" class=\"dataframe\">\n",
       "  <thead>\n",
       "    <tr style=\"text-align: right;\">\n",
       "      <th></th>\n",
       "      <th>skills</th>\n",
       "      <th>exp</th>\n",
       "      <th>qualification</th>\n",
       "      <th>trait</th>\n",
       "    </tr>\n",
       "  </thead>\n",
       "  <tbody>\n",
       "    <tr>\n",
       "      <th>3019</th>\n",
       "      <td>electronic &amp; mechanical technology\\tmaintenanc...</td>\n",
       "      <td>7 years of experience in Engineering\\n7 years ...</td>\n",
       "      <td>MBA\\nBachelor of Science\\nAssociate of Science</td>\n",
       "      <td></td>\n",
       "    </tr>\n",
       "    <tr>\n",
       "      <th>9370</th>\n",
       "      <td>business development &amp; sales leadership\\tsales...</td>\n",
       "      <td>4 years experience in vendor relationships\\n4 ...</td>\n",
       "      <td>Bachelor of Arts</td>\n",
       "      <td></td>\n",
       "    </tr>\n",
       "    <tr>\n",
       "      <th>703</th>\n",
       "      <td>microsoft office\\tword\\texcel\\toutlook\\tsharep...</td>\n",
       "      <td>2+ years of experience in Data entry\\n2+ years...</td>\n",
       "      <td>B.S. Degree</td>\n",
       "      <td></td>\n",
       "    </tr>\n",
       "    <tr>\n",
       "      <th>2636</th>\n",
       "      <td>data science\\tdata analysis\\tdeep learning\\tma...</td>\n",
       "      <td>0 years in Recommender System</td>\n",
       "      <td>BCA\\nMCA</td>\n",
       "      <td></td>\n",
       "    </tr>\n",
       "    <tr>\n",
       "      <th>7790</th>\n",
       "      <td>statistical modeling\\tnatural language process...</td>\n",
       "      <td>6 years of experience in Graphic Visualization...</td>\n",
       "      <td>B.Tech in Information Technology</td>\n",
       "      <td></td>\n",
       "    </tr>\n",
       "  </tbody>\n",
       "</table>\n",
       "</div>"
      ],
      "text/plain": [
       "                                                 skills  \\\n",
       "3019  electronic & mechanical technology\\tmaintenanc...   \n",
       "9370  business development & sales leadership\\tsales...   \n",
       "703   microsoft office\\tword\\texcel\\toutlook\\tsharep...   \n",
       "2636  data science\\tdata analysis\\tdeep learning\\tma...   \n",
       "7790  statistical modeling\\tnatural language process...   \n",
       "\n",
       "                                                    exp  \\\n",
       "3019  7 years of experience in Engineering\\n7 years ...   \n",
       "9370  4 years experience in vendor relationships\\n4 ...   \n",
       "703   2+ years of experience in Data entry\\n2+ years...   \n",
       "2636                      0 years in Recommender System   \n",
       "7790  6 years of experience in Graphic Visualization...   \n",
       "\n",
       "                                       qualification trait  \n",
       "3019  MBA\\nBachelor of Science\\nAssociate of Science        \n",
       "9370                                Bachelor of Arts        \n",
       "703                                      B.S. Degree        \n",
       "2636                                        BCA\\nMCA        \n",
       "7790                B.Tech in Information Technology        "
      ]
     },
     "execution_count": 7,
     "metadata": {},
     "output_type": "execute_result"
    }
   ],
   "source": [
    "candidate_resumes_df.head()"
   ]
  },
  {
   "cell_type": "markdown",
   "id": "1aeb62da-a9ee-49dc-83f4-9fdafb8f6c1c",
   "metadata": {},
   "source": [
    "##### Target job description doc"
   ]
  },
  {
   "cell_type": "code",
   "execution_count": 8,
   "id": "23bced9b-1365-4c67-bf59-9319688bf825",
   "metadata": {},
   "outputs": [
    {
     "data": {
      "text/plain": [
       "{'skills': 'software development\\tmachine learning\\tdeep learning\\trisk assessment\\trequirement gathering\\tapplication support\\tjavascript\\tpython\\tdocker\\thtml\\thive\\tcss\\tc\\tc++',\n",
       " 'exp': '7 years of experience in Unified Payment Interface\\n7 years of experience in Risk Prediction\\n7 years of experience in Spark\\n7 years of experience in PySpark\\n7 years of experience in Big Data',\n",
       " 'qualification': 'B.Tech in Electronics/Telecommunication from Birla Institute of Technology (BIT), Ranchi',\n",
       " 'trait': ''}"
      ]
     },
     "execution_count": 8,
     "metadata": {},
     "output_type": "execute_result"
    }
   ],
   "source": [
    "# Target document\n",
    "trgt_file_path = \"./outputs/linkedin_cv.pkl\"\n",
    "trgt_query_docs = {}\n",
    "\n",
    "if os.path.exists(trgt_file_path):\n",
    "    doc_id = trgt_file_path.split(\".\")[0]\n",
    "    with open(file_path, 'rb') as f:\n",
    "        resume_fields = pickle.load(f)\n",
    "        if resume_fields is not None:\n",
    "            trgt_query_docs[\"skills\"] = skill_delimiter.join([skill.skill.lower() for skill in resume_fields.skills])\n",
    "            trgt_query_docs[\"exp\"] = \"\\n\".join([experience.experience for experience in resume_fields.experiences])\n",
    "            trgt_query_docs[\"qualification\"] = \"\\n\".join([qualification.degree for qualification in resume_fields.qualifications])\n",
    "            trgt_query_docs[\"trait\"] = \"\\n\".join([pt.trait for pt in resume_fields.personality_traits])\n",
    "            \n",
    "\n",
    "trgt_query_docs"
   ]
  },
  {
   "cell_type": "markdown",
   "id": "eac26076-3a8b-45ba-8a6c-f1ef616a82b2",
   "metadata": {},
   "source": [
    "### Define embeddings"
   ]
  },
  {
   "cell_type": "markdown",
   "id": "cbea9eb0-17f9-483c-a282-eb075b787d31",
   "metadata": {},
   "source": [
    "#### Sparse emebddings"
   ]
  },
  {
   "cell_type": "markdown",
   "id": "dfb24809-e90b-456d-8178-e331622007e0",
   "metadata": {},
   "source": [
    "Instantiate TfidfVectorizer "
   ]
  },
  {
   "cell_type": "code",
   "execution_count": null,
   "id": "1b213df5-a164-4297-af19-87b17e31d8ff",
   "metadata": {},
   "outputs": [],
   "source": [
    "# Utility function to transform text into a TF-IDF Sparse Vector\n",
    "from sklearn.feature_extraction.text import TfidfVectorizer\n",
    "\n",
    "# Fit the TFIDF Vectorizer (This is usually done on a very large corpus of data to make sure that word statistics generalize well on new data)\n",
    "def word_tokenize(page_content):\n",
    "    return page_content.split(skill_delimiter) \n",
    "    \n",
    "vectorizer = TfidfVectorizer(tokenizer=word_tokenize, max_features = 1000)\n",
    "texts = candidate_resumes_df[\"skills\"].values\n",
    "vectorizer.fit(texts)"
   ]
  },
  {
   "cell_type": "markdown",
   "id": "2d3e7d97-b8e4-4a46-ae7a-1839377a78d7",
   "metadata": {},
   "source": [
    "Calculate similarity using sparse embedding vector"
   ]
  },
  {
   "cell_type": "code",
   "execution_count": 10,
   "id": "15e95efc-34c3-4e0f-af09-2d3f3628c058",
   "metadata": {},
   "outputs": [],
   "source": [
    "def get_sparse_embedding_sim(tfidf_vectorizer, target, text):\n",
    "    trgt_vector = tfidf_vectorizer.transform([target]).toarray()\n",
    "    text_vector = tfidf_vectorizer.transform([text]).toarray()\n",
    "    sim = text_vector @ trgt_vector.T\n",
    "    return sim[0,0]\n",
    "\n",
    "candidate_resumes_df.loc[:, \"skills_sparse_sim\"] = candidate_resumes_df.skills.apply(lambda x:get_sparse_embedding_sim(vectorizer\n",
    "                                                                                                            , target=trgt_query_docs[\"skills\"]\n",
    "                                                                                                           , text=x))"
   ]
  },
  {
   "cell_type": "markdown",
   "id": "41d641e9-41f1-41a4-9a35-2ec6723fa6d0",
   "metadata": {},
   "source": [
    "#### Dense Embeddings"
   ]
  },
  {
   "cell_type": "markdown",
   "id": "5d385055-7fef-45fd-9ec6-bff8fb203bee",
   "metadata": {},
   "source": [
    "Initialize verex ai module"
   ]
  },
  {
   "cell_type": "code",
   "execution_count": null,
   "id": "c1e2b129-0e08-426b-98fd-0745c8b2751f",
   "metadata": {},
   "outputs": [],
   "source": [
    "vertexai.init(project=PROJECT_ID, location=LOCATION)\n",
    "embedding_model = VertexAIEmbeddings(model_name=\"text-embedding-005\")"
   ]
  },
  {
   "cell_type": "markdown",
   "id": "5ccec97f-2885-402c-b86e-e24c1793bdde",
   "metadata": {},
   "source": [
    "DEfine utility functions for embeddings and calculate similarity using dense embeddings"
   ]
  },
  {
   "cell_type": "code",
   "execution_count": 13,
   "id": "3e01ab58-b945-44b5-8f09-4883c890471b",
   "metadata": {},
   "outputs": [],
   "source": [
    "req_per_min = 1000\n",
    "time_per_req = 60 // req_per_min\n",
    "async def get_embeddings(doc:Dict):\n",
    "    docs_keys = list(doc.keys())\n",
    "    docs_vals = list(doc.values())\n",
    "    dummy_embedding = [0] * 768\n",
    "    embeddings = {}\n",
    "    try:\n",
    "        embeddings = embedding_model.embed_documents([\n",
    "            text if text != \"\" else \"dummy\"\n",
    "            for text in docs_vals\n",
    "        ])\n",
    "        \n",
    "        embeddings = {\n",
    "            docs_keys[index]: result if docs_vals[index] != \"\" else dummy_embedding\n",
    "            for index, result in enumerate(embeddings)\n",
    "        }\n",
    "        \n",
    "    except Exception as ex:\n",
    "        print(index, ex)\n",
    "\n",
    "    return embeddings\n",
    "\n",
    "async def get_embeddings_sim(doc: Dict, trgt_embeddings: Dict):\n",
    "    assert doc.keys() == trgt_embeddings.keys(), \"Both the dict should have same keys\"\n",
    "\n",
    "    src_embeddings = await get_embeddings(doc)\n",
    "    src_embeddings_matrix = np.array(list(src_embeddings.values()))\n",
    "    src_embeddings_matrix = src_embeddings_matrix[:,np.newaxis,:]\n",
    "\n",
    "    trgt_embeddings_matrix = np.array(list(trgt_embeddings.values()))\n",
    "    trgt_embeddings_matrix = np.transpose(trgt_embeddings_matrix[:,np.newaxis,:],(0,2,1))\n",
    "\n",
    "    # print(src_embeddings_matrix.shape, trgt_embeddings_matrix.shape)\n",
    "\n",
    "    sim = np.einsum('bmn, bnk->bmk', src_embeddings_matrix, trgt_embeddings_matrix)\n",
    "\n",
    "    result_keys = [key+\"_sim\" for key in doc.keys()]\n",
    "    return dict(zip(result_keys, sim.squeeze()))\n",
    "    "
   ]
  },
  {
   "cell_type": "markdown",
   "id": "c938a433-bf5c-4394-aade-e9ecc1c94177",
   "metadata": {},
   "source": [
    "Calcualte target embeddings"
   ]
  },
  {
   "cell_type": "code",
   "execution_count": 14,
   "id": "99bb9a52-aaea-4182-9742-34fbd622f22b",
   "metadata": {},
   "outputs": [],
   "source": [
    "# Calculate target embeddings \n",
    "target_dense_embeddings = await get_embeddings(trgt_query_docs)"
   ]
  },
  {
   "cell_type": "markdown",
   "id": "bb0b65ae-0bff-4c36-ac69-47e6db9d465c",
   "metadata": {},
   "source": [
    "Validate embeddings module"
   ]
  },
  {
   "cell_type": "code",
   "execution_count": 17,
   "id": "e44ab687-74dd-4f45-85c7-d381b127d829",
   "metadata": {},
   "outputs": [],
   "source": [
    "sim = await get_embeddings_sim(trgt_query_docs, target_dense_embeddings)\n",
    "assert np.isclose(sim[\"trait_sim\"], 0.0), \"trait should have 0 similarity\"\n",
    "assert np.isclose(sim[\"exp_sim\"], 1), \"exp should have 1 similarity\"\n",
    "assert np.isclose(sim[\"qualification_sim\"], 1), \"qualification should have 1 similarity\""
   ]
  },
  {
   "cell_type": "markdown",
   "id": "c870dc59-1b63-4665-a090-6c50db4c3e5e",
   "metadata": {},
   "source": [
    "Calculate source embeddings (<b>This will take close to 10 mins</b>)"
   ]
  },
  {
   "cell_type": "code",
   "execution_count": 18,
   "id": "484c9359-f95f-4ac8-91f9-71b3f5d05abb",
   "metadata": {},
   "outputs": [
    {
     "name": "stderr",
     "output_type": "stream",
     "text": [
      "9543it [12:08, 13.11it/s]\n"
     ]
    }
   ],
   "source": [
    "bg_tasks={}\n",
    "req_cols = [\"skills\",\"exp\",\"qualification\",\"trait\"]\n",
    "for index, row in tqdm(candidate_resumes_df.iterrows()):\n",
    "    bg_tasks[index] = asyncio.create_task(get_embeddings_sim(row[req_cols].to_dict(), target_dense_embeddings))\n",
    "    await asyncio.sleep(time_per_req)\n",
    "\n",
    "results = await asyncio.gather(*bg_tasks.values())\n",
    "exp_emb = dict(zip(bg_tasks.keys(), results))"
   ]
  },
  {
   "cell_type": "markdown",
   "id": "98b6e908-6294-4b56-9743-ddd8de243336",
   "metadata": {},
   "source": [
    "Calcualte score and rank based on score"
   ]
  },
  {
   "cell_type": "code",
   "execution_count": 36,
   "id": "b016a84c-6943-4198-8fbd-18c60d134e5e",
   "metadata": {},
   "outputs": [],
   "source": [
    "candidate_evaluation_df = candidate_resumes_df.join(pd.DataFrame(exp_emb).T)\n",
    "candidate_evaluation_df.loc[:,\"score\"] = candidate_evaluation_df.apply(lambda x:\n",
    "                                                                       x.skills_sparse_sim * key_skills_wght+\n",
    "                                                                       x.exp_sim * exp_wght +\n",
    "                                                                       x.qualification_sim * qualifications_wght + \n",
    "                                                                       x.trait_sim * personality_traits_wght\n",
    "                                                                      ,axis = 1)\n",
    "\n",
    "candidate_evaluation_df.loc[:, \"rank\"] = candidate_evaluation_df[\"score\"].rank(method='min', na_option='bottom',ascending=False)"
   ]
  },
  {
   "cell_type": "markdown",
   "id": "d449e521-156f-4d08-adfc-dfc57ee1f3f9",
   "metadata": {},
   "source": [
    "#### Top 3 Candidates\n",
    "- Reason being there CV matched exactly with job description. Looks like they have updated it based on the resume"
   ]
  },
  {
   "cell_type": "code",
   "execution_count": 38,
   "id": "9bada6f4-48df-420b-ab5d-2127eac5d890",
   "metadata": {},
   "outputs": [
    {
     "data": {
      "text/html": [
       "<div>\n",
       "<style scoped>\n",
       "    .dataframe tbody tr th:only-of-type {\n",
       "        vertical-align: middle;\n",
       "    }\n",
       "\n",
       "    .dataframe tbody tr th {\n",
       "        vertical-align: top;\n",
       "    }\n",
       "\n",
       "    .dataframe thead th {\n",
       "        text-align: right;\n",
       "    }\n",
       "</style>\n",
       "<table border=\"1\" class=\"dataframe\">\n",
       "  <thead>\n",
       "    <tr style=\"text-align: right;\">\n",
       "      <th></th>\n",
       "      <th>skills</th>\n",
       "      <th>exp</th>\n",
       "      <th>qualification</th>\n",
       "      <th>trait</th>\n",
       "      <th>skills_sparse_sim</th>\n",
       "      <th>skills_sim</th>\n",
       "      <th>exp_sim</th>\n",
       "      <th>qualification_sim</th>\n",
       "      <th>trait_sim</th>\n",
       "      <th>score</th>\n",
       "      <th>rank</th>\n",
       "    </tr>\n",
       "  </thead>\n",
       "  <tbody>\n",
       "    <tr>\n",
       "      <th>27</th>\n",
       "      <td>software development\\tmachine learning\\tdeep l...</td>\n",
       "      <td>7 years of experience in Unified Payment Inter...</td>\n",
       "      <td>B.Tech in Electronics/Telecommunication</td>\n",
       "      <td></td>\n",
       "      <td>1.0</td>\n",
       "      <td>0.999998</td>\n",
       "      <td>0.999998</td>\n",
       "      <td>0.903071</td>\n",
       "      <td>0.0</td>\n",
       "      <td>0.880614</td>\n",
       "      <td>3.0</td>\n",
       "    </tr>\n",
       "    <tr>\n",
       "      <th>8877</th>\n",
       "      <td>software development\\tmachine learning\\tdeep l...</td>\n",
       "      <td>7 years in Unified Payment Interface\\n7 years ...</td>\n",
       "      <td>B.Tech in Electronics/Telecommunication from B...</td>\n",
       "      <td></td>\n",
       "      <td>1.0</td>\n",
       "      <td>0.950370</td>\n",
       "      <td>0.989085</td>\n",
       "      <td>0.999999</td>\n",
       "      <td>0.0</td>\n",
       "      <td>0.896725</td>\n",
       "      <td>2.0</td>\n",
       "    </tr>\n",
       "    <tr>\n",
       "      <th>778</th>\n",
       "      <td>software development\\tmachine learning\\tdeep l...</td>\n",
       "      <td>7 years of experience in Unified Payment Inter...</td>\n",
       "      <td>B.Tech in Electronics/Telecommunication from B...</td>\n",
       "      <td></td>\n",
       "      <td>1.0</td>\n",
       "      <td>0.999998</td>\n",
       "      <td>0.999998</td>\n",
       "      <td>0.999999</td>\n",
       "      <td>0.0</td>\n",
       "      <td>0.899999</td>\n",
       "      <td>1.0</td>\n",
       "    </tr>\n",
       "  </tbody>\n",
       "</table>\n",
       "</div>"
      ],
      "text/plain": [
       "                                                 skills  \\\n",
       "27    software development\\tmachine learning\\tdeep l...   \n",
       "8877  software development\\tmachine learning\\tdeep l...   \n",
       "778   software development\\tmachine learning\\tdeep l...   \n",
       "\n",
       "                                                    exp  \\\n",
       "27    7 years of experience in Unified Payment Inter...   \n",
       "8877  7 years in Unified Payment Interface\\n7 years ...   \n",
       "778   7 years of experience in Unified Payment Inter...   \n",
       "\n",
       "                                          qualification trait  \\\n",
       "27              B.Tech in Electronics/Telecommunication         \n",
       "8877  B.Tech in Electronics/Telecommunication from B...         \n",
       "778   B.Tech in Electronics/Telecommunication from B...         \n",
       "\n",
       "      skills_sparse_sim  skills_sim   exp_sim  qualification_sim  trait_sim  \\\n",
       "27                  1.0    0.999998  0.999998           0.903071        0.0   \n",
       "8877                1.0    0.950370  0.989085           0.999999        0.0   \n",
       "778                 1.0    0.999998  0.999998           0.999999        0.0   \n",
       "\n",
       "         score  rank  \n",
       "27    0.880614   3.0  \n",
       "8877  0.896725   2.0  \n",
       "778   0.899999   1.0  "
      ]
     },
     "execution_count": 38,
     "metadata": {},
     "output_type": "execute_result"
    }
   ],
   "source": [
    "top_candidates = candidate_evaluation_df[candidate_evaluation_df[\"rank\"] <4.0]\n",
    "top_candidates"
   ]
  },
  {
   "cell_type": "code",
   "execution_count": 54,
   "id": "f2cd9d8a-9534-4991-8c0d-969f8b4548d8",
   "metadata": {},
   "outputs": [
    {
     "data": {
      "text/html": [
       "<pre style=\"white-space:pre;overflow-x:auto;line-height:normal;font-family:Menlo,'DejaVu Sans Mono',consolas,'Courier New',monospace\">software development    machine learning        deep learning   risk assessment requirement gathering   application\n",
       "support     javascript      python  docker  html    hive    css     c       c++\n",
       "</pre>\n"
      ],
      "text/plain": [
       "software development    machine learning        deep learning   risk assessment requirement gathering   application\n",
       "support     javascript      python  docker  html    hive    css     c       c++\n"
      ]
     },
     "metadata": {},
     "output_type": "display_data"
    },
    {
     "data": {
      "text/html": [
       "<pre style=\"white-space:pre;overflow-x:auto;line-height:normal;font-family:Menlo,'DejaVu Sans Mono',consolas,'Courier New',monospace\"><span style=\"color: #008080; text-decoration-color: #008080; font-weight: bold\">7</span> years of experience in Unified Payment Interface\n",
       "<span style=\"color: #008080; text-decoration-color: #008080; font-weight: bold\">7</span> years of experience in Risk Prediction\n",
       "<span style=\"color: #008080; text-decoration-color: #008080; font-weight: bold\">7</span> years of experience in Spark\n",
       "<span style=\"color: #008080; text-decoration-color: #008080; font-weight: bold\">7</span> years of experience in PySpark\n",
       "<span style=\"color: #008080; text-decoration-color: #008080; font-weight: bold\">7</span> years of experience in Big Data\n",
       "</pre>\n"
      ],
      "text/plain": [
       "\u001b[1;36m7\u001b[0m years of experience in Unified Payment Interface\n",
       "\u001b[1;36m7\u001b[0m years of experience in Risk Prediction\n",
       "\u001b[1;36m7\u001b[0m years of experience in Spark\n",
       "\u001b[1;36m7\u001b[0m years of experience in PySpark\n",
       "\u001b[1;36m7\u001b[0m years of experience in Big Data\n"
      ]
     },
     "metadata": {},
     "output_type": "display_data"
    },
    {
     "data": {
      "text/html": [
       "<pre style=\"white-space:pre;overflow-x:auto;line-height:normal;font-family:Menlo,'DejaVu Sans Mono',consolas,'Courier New',monospace\">B.Tech in Electronics/Telecommunication\n",
       "</pre>\n"
      ],
      "text/plain": [
       "B.Tech in Electronics/Telecommunication\n"
      ]
     },
     "metadata": {},
     "output_type": "display_data"
    },
    {
     "data": {
      "text/html": [
       "<pre style=\"white-space:pre;overflow-x:auto;line-height:normal;font-family:Menlo,'DejaVu Sans Mono',consolas,'Courier New',monospace\">----------------------------------------------------------------------------------------------------\n",
       "</pre>\n"
      ],
      "text/plain": [
       "----------------------------------------------------------------------------------------------------\n"
      ]
     },
     "metadata": {},
     "output_type": "display_data"
    },
    {
     "data": {
      "text/html": [
       "<pre style=\"white-space:pre;overflow-x:auto;line-height:normal;font-family:Menlo,'DejaVu Sans Mono',consolas,'Courier New',monospace\">software development    machine learning        deep learning   risk assessment requirement gathering   application\n",
       "support     javascript      python  docker  html    hive    css     c       c++\n",
       "</pre>\n"
      ],
      "text/plain": [
       "software development    machine learning        deep learning   risk assessment requirement gathering   application\n",
       "support     javascript      python  docker  html    hive    css     c       c++\n"
      ]
     },
     "metadata": {},
     "output_type": "display_data"
    },
    {
     "data": {
      "text/html": [
       "<pre style=\"white-space:pre;overflow-x:auto;line-height:normal;font-family:Menlo,'DejaVu Sans Mono',consolas,'Courier New',monospace\"><span style=\"color: #008080; text-decoration-color: #008080; font-weight: bold\">7</span> years of experience in Unified Payment Interface\n",
       "<span style=\"color: #008080; text-decoration-color: #008080; font-weight: bold\">7</span> years of experience in Risk Prediction\n",
       "<span style=\"color: #008080; text-decoration-color: #008080; font-weight: bold\">7</span> years of experience in Spark\n",
       "<span style=\"color: #008080; text-decoration-color: #008080; font-weight: bold\">7</span> years of experience in PySpark\n",
       "<span style=\"color: #008080; text-decoration-color: #008080; font-weight: bold\">7</span> years of experience in Big Data\n",
       "</pre>\n"
      ],
      "text/plain": [
       "\u001b[1;36m7\u001b[0m years of experience in Unified Payment Interface\n",
       "\u001b[1;36m7\u001b[0m years of experience in Risk Prediction\n",
       "\u001b[1;36m7\u001b[0m years of experience in Spark\n",
       "\u001b[1;36m7\u001b[0m years of experience in PySpark\n",
       "\u001b[1;36m7\u001b[0m years of experience in Big Data\n"
      ]
     },
     "metadata": {},
     "output_type": "display_data"
    },
    {
     "data": {
      "text/html": [
       "<pre style=\"white-space:pre;overflow-x:auto;line-height:normal;font-family:Menlo,'DejaVu Sans Mono',consolas,'Courier New',monospace\">B.Tech in Electronics/Telecommunication from Birla Institute of Technology <span style=\"font-weight: bold\">(</span>BIT<span style=\"font-weight: bold\">)</span>, Ranchi\n",
       "</pre>\n"
      ],
      "text/plain": [
       "B.Tech in Electronics/Telecommunication from Birla Institute of Technology \u001b[1m(\u001b[0mBIT\u001b[1m)\u001b[0m, Ranchi\n"
      ]
     },
     "metadata": {},
     "output_type": "display_data"
    }
   ],
   "source": [
    "index = \"27\"\n",
    "\n",
    "rprint(top_candidates.loc[index].skills)\n",
    "rprint(top_candidates.loc[index].exp)\n",
    "rprint(top_candidates.loc[index].qualification)\n",
    "\n",
    "rprint(\"-\"*100)\n",
    "\n",
    "rprint(trgt_query_docs[\"skills\"])\n",
    "rprint(trgt_query_docs[\"exp\"])\n",
    "rprint(trgt_query_docs[\"qualification\"])"
   ]
  },
  {
   "cell_type": "markdown",
   "id": "a3020763-67bb-44f8-9360-d9043df07f87",
   "metadata": {},
   "source": [
    "#### Unit tests"
   ]
  },
  {
   "cell_type": "code",
   "execution_count": 20,
   "id": "7a9792c0-f356-4107-8796-9aca49040153",
   "metadata": {},
   "outputs": [
    {
     "name": "stderr",
     "output_type": "stream",
     "text": [
      "test_src_sim (__main__.TestNotebook) ... /opt/conda/lib/python3.10/unittest/case.py:549: RuntimeWarning: coroutine 'TestNotebook.test_src_sim' was never awaited\n",
      "  method()\n",
      "RuntimeWarning: Enable tracemalloc to get the object allocation traceback\n",
      "ok\n",
      "test_trgt_sim (__main__.TestNotebook) ... /opt/conda/lib/python3.10/unittest/case.py:549: RuntimeWarning: coroutine 'TestNotebook.test_trgt_sim' was never awaited\n",
      "  method()\n",
      "RuntimeWarning: Enable tracemalloc to get the object allocation traceback\n",
      "ok\n",
      "\n",
      "----------------------------------------------------------------------\n",
      "Ran 2 tests in 0.004s\n",
      "\n",
      "OK\n"
     ]
    },
    {
     "data": {
      "text/plain": [
       "<unittest.main.TestProgram at 0x7f8155717a30>"
      ]
     },
     "execution_count": 20,
     "metadata": {},
     "output_type": "execute_result"
    }
   ],
   "source": [
    "import unittest\n",
    "\n",
    "class TestNotebook(unittest.TestCase):\n",
    "    \n",
    "    async def test_trgt_sim(self):\n",
    "        sim = await get_embeddings_sim(trgt_query_docs, target_dense_embeddings)\n",
    "        assert np.isclose(sim[\"trait_sim\"], 0.0), \"trait should have 0 similarity\"\n",
    "        assert np.isclose(sim[\"exp_sim\"], 1), \"exp should have 1 similarity\"\n",
    "        assert np.isclose(sim[\"qualification_sim\"], 1), \"qualification should have 1 similarity\"\n",
    "\n",
    "    async def test_src_sim(self):\n",
    "        src_row = candidate_resumes_df.iloc[1]\n",
    "        src_embeddings = await get_embeddings(src_row)\n",
    "        sim = await get_embeddings_sim(src_row, src_embeddings)\n",
    "        assert np.isclose(sim[\"trait_sim\"], 0.0), \"trait should have 0 similarity\"\n",
    "        assert np.isclose(sim[\"exp_sim\"], 1), \"exp should have 1 similarity\"\n",
    "        assert np.isclose(sim[\"qualification_sim\"], 1), \"qualification should have 1 similarity\"\n",
    "        \n",
    "\n",
    "unittest.main(argv=[''], verbosity=2, exit=False)"
   ]
  }
 ],
 "metadata": {
  "environment": {
   "kernel": "conda-base-py",
   "name": "workbench-notebooks.m127",
   "type": "gcloud",
   "uri": "us-docker.pkg.dev/deeplearning-platform-release/gcr.io/workbench-notebooks:m127"
  },
  "kernelspec": {
   "display_name": "Python 3 (ipykernel) (Local)",
   "language": "python",
   "name": "conda-base-py"
  },
  "language_info": {
   "codemirror_mode": {
    "name": "ipython",
    "version": 3
   },
   "file_extension": ".py",
   "mimetype": "text/x-python",
   "name": "python",
   "nbconvert_exporter": "python",
   "pygments_lexer": "ipython3",
   "version": "3.10.16"
  }
 },
 "nbformat": 4,
 "nbformat_minor": 5
}
